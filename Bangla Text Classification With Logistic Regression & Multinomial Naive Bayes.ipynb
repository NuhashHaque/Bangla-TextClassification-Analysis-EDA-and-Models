{
 "cells": [
  {
   "cell_type": "code",
   "execution_count": 1,
   "id": "020788e2",
   "metadata": {
    "_cell_guid": "b1076dfc-b9ad-4769-8c92-a6c4dae69d19",
    "_uuid": "8f2839f25d086af736a60e9eeb907d3b93b6e0e5",
    "execution": {
     "iopub.execute_input": "2021-10-19T14:03:08.401062Z",
     "iopub.status.busy": "2021-10-19T14:03:08.399237Z",
     "iopub.status.idle": "2021-10-19T14:03:08.428105Z",
     "shell.execute_reply": "2021-10-19T14:03:08.428769Z",
     "shell.execute_reply.started": "2021-10-19T13:49:07.881350Z"
    },
    "papermill": {
     "duration": 0.067614,
     "end_time": "2021-10-19T14:03:08.429049",
     "exception": false,
     "start_time": "2021-10-19T14:03:08.361435",
     "status": "completed"
    },
    "tags": []
   },
   "outputs": [
    {
     "name": "stdout",
     "output_type": "stream",
     "text": [
      "/kaggle/input/bangla-stopwords/stopwords_bangla.xlsx\n",
      "/kaggle/input/banglamct7-bangla-multiclass-text-dataset-7-tags/BanglaMCT7/train.csv\n",
      "/kaggle/input/banglamct7-bangla-multiclass-text-dataset-7-tags/BanglaMCT7/test.csv\n",
      "/kaggle/working/__notebook__.ipynb\n"
     ]
    }
   ],
   "source": [
    "# This Python 3 environment comes with many helpful analytics libraries installed\n",
    "# It is defined by the kaggle/python Docker image: https://github.com/kaggle/docker-python\n",
    "# For example, here's several helpful packages to load\n",
    "\n",
    "import numpy as np # linear algebra\n",
    "import pandas as pd # data processing, CSV file I/O (e.g. pd.read_csv)\n",
    "\n",
    "# Input data files are available in the read-only \"../input/\" directory\n",
    "# For example, running this (by clicking run or pressing Shift+Enter) will list all files under the input directory\n",
    "\n",
    "import os\n",
    "for dirname, _, filenames in os.walk('/kaggle/input'):\n",
    "    for filename in filenames:\n",
    "        print(os.path.join(dirname, filename))\n",
    "for dirname, _, filenames in os.walk('/kaggle/working'):\n",
    "    for filename in filenames:\n",
    "        print(os.path.join(dirname, filename))\n",
    "\n",
    "# You can write up to 5GB to the current directory (/kaggle/working/) that gets preserved as output when you create a version using \"Save & Run All\" \n",
    "# You can also write temporary files to /kaggle/temp/, but they won't be saved outside of the current session"
   ]
  },
  {
   "cell_type": "markdown",
   "id": "7e6506ab",
   "metadata": {
    "papermill": {
     "duration": 0.030319,
     "end_time": "2021-10-19T14:03:08.490508",
     "exception": false,
     "start_time": "2021-10-19T14:03:08.460189",
     "status": "completed"
    },
    "tags": []
   },
   "source": [
    "# **Import Libraries**"
   ]
  },
  {
   "cell_type": "code",
   "execution_count": 2,
   "id": "a6897e5a",
   "metadata": {
    "_cell_guid": "79c7e3d0-c299-4dcb-8224-4455121ee9b0",
    "_uuid": "d629ff2d2480ee46fbb7e2d37f6b5fab8052498a",
    "execution": {
     "iopub.execute_input": "2021-10-19T14:03:08.554446Z",
     "iopub.status.busy": "2021-10-19T14:03:08.553796Z",
     "iopub.status.idle": "2021-10-19T14:03:16.377281Z",
     "shell.execute_reply": "2021-10-19T14:03:16.377837Z",
     "shell.execute_reply.started": "2021-10-19T13:49:07.933137Z"
    },
    "papermill": {
     "duration": 7.857072,
     "end_time": "2021-10-19T14:03:16.378012",
     "exception": false,
     "start_time": "2021-10-19T14:03:08.520940",
     "status": "completed"
    },
    "tags": []
   },
   "outputs": [
    {
     "data": {
      "text/html": [
       "<style type='text/css'>\n",
       ".datatable table.frame { margin-bottom: 0; }\n",
       ".datatable table.frame thead { border-bottom: none; }\n",
       ".datatable table.frame tr.coltypes td {  color: #FFFFFF;  line-height: 6px;  padding: 0 0.5em;}\n",
       ".datatable .bool    { background: #DDDD99; }\n",
       ".datatable .object  { background: #565656; }\n",
       ".datatable .int     { background: #5D9E5D; }\n",
       ".datatable .float   { background: #4040CC; }\n",
       ".datatable .str     { background: #CC4040; }\n",
       ".datatable .time    { background: #40CC40; }\n",
       ".datatable .row_index {  background: var(--jp-border-color3);  border-right: 1px solid var(--jp-border-color0);  color: var(--jp-ui-font-color3);  font-size: 9px;}\n",
       ".datatable .frame tbody td { text-align: left; }\n",
       ".datatable .frame tr.coltypes .row_index {  background: var(--jp-border-color0);}\n",
       ".datatable th:nth-child(2) { padding-left: 12px; }\n",
       ".datatable .hellipsis {  color: var(--jp-cell-editor-border-color);}\n",
       ".datatable .vellipsis {  background: var(--jp-layout-color0);  color: var(--jp-cell-editor-border-color);}\n",
       ".datatable .na {  color: var(--jp-cell-editor-border-color);  font-size: 80%;}\n",
       ".datatable .sp {  opacity: 0.25;}\n",
       ".datatable .footer { font-size: 9px; }\n",
       ".datatable .frame_dimensions {  background: var(--jp-border-color3);  border-top: 1px solid var(--jp-border-color0);  color: var(--jp-ui-font-color3);  display: inline-block;  opacity: 0.6;  padding: 1px 10px 1px 5px;}\n",
       "</style>\n"
      ],
      "text/plain": [
       "<IPython.core.display.HTML object>"
      ]
     },
     "metadata": {},
     "output_type": "display_data"
    }
   ],
   "source": [
    "import numpy as np\n",
    "import tensorflow as tf\n",
    "import h5py\n",
    "import csv\n",
    "import math\n",
    "import pandas as pd \n",
    "import matplotlib.pyplot as plt\n",
    "from pandas import read_excel\n",
    "from keras.preprocessing.text import Tokenizer\n",
    "from keras.preprocessing.sequence import pad_sequences\n",
    "from keras.models import Sequential\n",
    "from keras.layers import LSTM,Dense,Embedding,SpatialDropout1D,Flatten,Bidirectional\n",
    "from keras.utils.np_utils import to_categorical\n",
    "from keras.wrappers.scikit_learn import KerasClassifier\n",
    "from sklearn.model_selection import train_test_split\n",
    "from keras import regularizers\n",
    "#from bnltk.stemmer import BanglaStemmer\n",
    "#from bangla_stemmer.stemmer import stemmer\n",
    "from gensim.models import Word2Vec\n",
    "import pandas as pd\n",
    "from sklearn.ensemble import RandomForestClassifier\n",
    "from sklearn.linear_model import LogisticRegression\n",
    "from sklearn.model_selection import train_test_split\n",
    "from sklearn import metrics\n",
    "from sklearn.metrics import accuracy_score\n",
    "from sklearn.metrics import classification_report \n",
    "from sklearn.model_selection import cross_val_score, StratifiedKFold\n",
    "from sklearn.feature_extraction.text import TfidfVectorizer\n",
    "from scipy.sparse import hstack\n",
    "from matplotlib import pyplot as plt\n",
    "from sklearn.svm import SVC\n",
    "import seaborn as sns\n",
    "import eli5\n",
    "#ç\n",
    "import pandas as pd\n",
    "import numpy as np\n",
    "import re\n",
    "from re import sub\n",
    "import multiprocessing\n",
    "from unidecode import unidecode\n",
    "import os\n",
    "import glob\n",
    "from gensim.models.phrases import Phrases, Phraser\n",
    "from gensim.models import Word2Vec\n",
    "from gensim.test.utils import get_tmpfile\n",
    "from gensim.models import KeyedVectors\n",
    "from gensim.models import Word2Vec\n",
    "from time import time \n",
    "from collections import defaultdict\n",
    "from sklearn.metrics import precision_recall_fscore_support\n",
    "from sklearn.metrics import accuracy_score\n",
    "from sklearn.naive_bayes import MultinomialNB\n",
    "from sklearn.naive_bayes import MultinomialNB"
   ]
  },
  {
   "cell_type": "markdown",
   "id": "027b1d27",
   "metadata": {
    "papermill": {
     "duration": 0.030749,
     "end_time": "2021-10-19T14:03:16.439786",
     "exception": false,
     "start_time": "2021-10-19T14:03:16.409037",
     "status": "completed"
    },
    "tags": []
   },
   "source": [
    "# **Updating Libraries**"
   ]
  },
  {
   "cell_type": "code",
   "execution_count": 3,
   "id": "feb3a269",
   "metadata": {
    "execution": {
     "iopub.execute_input": "2021-10-19T14:03:16.505320Z",
     "iopub.status.busy": "2021-10-19T14:03:16.504684Z",
     "iopub.status.idle": "2021-10-19T14:03:50.603707Z",
     "shell.execute_reply": "2021-10-19T14:03:50.602893Z",
     "shell.execute_reply.started": "2021-10-19T13:49:17.299119Z"
    },
    "papermill": {
     "duration": 34.132856,
     "end_time": "2021-10-19T14:03:50.603864",
     "exception": false,
     "start_time": "2021-10-19T14:03:16.471008",
     "status": "completed"
    },
    "tags": []
   },
   "outputs": [
    {
     "name": "stdout",
     "output_type": "stream",
     "text": [
      "Collecting xlrd\r\n",
      "  Downloading xlrd-2.0.1-py2.py3-none-any.whl (96 kB)\r\n",
      "\u001b[K     |████████████████████████████████| 96 kB 979 kB/s \r\n",
      "\u001b[?25hInstalling collected packages: xlrd\r\n",
      "Successfully installed xlrd-2.0.1\r\n",
      "\u001b[33mWARNING: Running pip as the 'root' user can result in broken permissions and conflicting behaviour with the system package manager. It is recommended to use a virtual environment instead: https://pip.pypa.io/warnings/venv\u001b[0m\r\n",
      "Collecting openpyxl\r\n",
      "  Downloading openpyxl-3.0.9-py2.py3-none-any.whl (242 kB)\r\n",
      "\u001b[K     |████████████████████████████████| 242 kB 889 kB/s \r\n",
      "\u001b[?25hCollecting et-xmlfile\r\n",
      "  Downloading et_xmlfile-1.1.0-py3-none-any.whl (4.7 kB)\r\n",
      "Installing collected packages: et-xmlfile, openpyxl\r\n",
      "Successfully installed et-xmlfile-1.1.0 openpyxl-3.0.9\r\n",
      "\u001b[33mWARNING: Running pip as the 'root' user can result in broken permissions and conflicting behaviour with the system package manager. It is recommended to use a virtual environment instead: https://pip.pypa.io/warnings/venv\u001b[0m\r\n",
      "Requirement already satisfied: scikit-learn in /opt/conda/lib/python3.7/site-packages (0.23.2)\r\n",
      "Collecting scikit-learn\r\n",
      "  Downloading scikit_learn-1.0-cp37-cp37m-manylinux_2_12_x86_64.manylinux2010_x86_64.whl (23.1 MB)\r\n",
      "\u001b[K     |████████████████████████████████| 23.1 MB 786 kB/s \r\n",
      "\u001b[?25hRequirement already satisfied: joblib>=0.11 in /opt/conda/lib/python3.7/site-packages (from scikit-learn) (1.0.1)\r\n",
      "Requirement already satisfied: scipy>=1.1.0 in /opt/conda/lib/python3.7/site-packages (from scikit-learn) (1.7.1)\r\n",
      "Requirement already satisfied: threadpoolctl>=2.0.0 in /opt/conda/lib/python3.7/site-packages (from scikit-learn) (2.2.0)\r\n",
      "Requirement already satisfied: numpy>=1.14.6 in /opt/conda/lib/python3.7/site-packages (from scikit-learn) (1.19.5)\r\n",
      "Installing collected packages: scikit-learn\r\n",
      "  Attempting uninstall: scikit-learn\r\n",
      "    Found existing installation: scikit-learn 0.23.2\r\n",
      "    Uninstalling scikit-learn-0.23.2:\r\n",
      "      Successfully uninstalled scikit-learn-0.23.2\r\n",
      "\u001b[31mERROR: pip's dependency resolver does not currently take into account all the packages that are installed. This behaviour is the source of the following dependency conflicts.\r\n",
      "pdpbox 0.2.1 requires matplotlib==3.1.1, but you have matplotlib 3.4.3 which is incompatible.\r\n",
      "hypertools 0.7.0 requires scikit-learn!=0.22,<0.24,>=0.19.1, but you have scikit-learn 1.0 which is incompatible.\u001b[0m\r\n",
      "Successfully installed scikit-learn-1.0\r\n",
      "\u001b[33mWARNING: Running pip as the 'root' user can result in broken permissions and conflicting behaviour with the system package manager. It is recommended to use a virtual environment instead: https://pip.pypa.io/warnings/venv\u001b[0m\r\n"
     ]
    }
   ],
   "source": [
    "!pip install xlrd\n",
    "!pip install openpyxl\n",
    "!pip install -U scikit-learn"
   ]
  },
  {
   "cell_type": "markdown",
   "id": "5b384aef",
   "metadata": {
    "papermill": {
     "duration": 0.049078,
     "end_time": "2021-10-19T14:03:50.702449",
     "exception": false,
     "start_time": "2021-10-19T14:03:50.653371",
     "status": "completed"
    },
    "tags": []
   },
   "source": [
    "# **Load Dataset**"
   ]
  },
  {
   "cell_type": "code",
   "execution_count": 4,
   "id": "3df9a10e",
   "metadata": {
    "execution": {
     "iopub.execute_input": "2021-10-19T14:03:50.804762Z",
     "iopub.status.busy": "2021-10-19T14:03:50.803749Z",
     "iopub.status.idle": "2021-10-19T14:04:27.654846Z",
     "shell.execute_reply": "2021-10-19T14:04:27.654291Z",
     "shell.execute_reply.started": "2021-10-19T13:49:54.212636Z"
    },
    "papermill": {
     "duration": 36.903457,
     "end_time": "2021-10-19T14:04:27.654987",
     "exception": false,
     "start_time": "2021-10-19T14:03:50.751530",
     "status": "completed"
    },
    "tags": []
   },
   "outputs": [
    {
     "data": {
      "text/html": [
       "<div>\n",
       "<style scoped>\n",
       "    .dataframe tbody tr th:only-of-type {\n",
       "        vertical-align: middle;\n",
       "    }\n",
       "\n",
       "    .dataframe tbody tr th {\n",
       "        vertical-align: top;\n",
       "    }\n",
       "\n",
       "    .dataframe thead th {\n",
       "        text-align: right;\n",
       "    }\n",
       "</style>\n",
       "<table border=\"1\" class=\"dataframe\">\n",
       "  <thead>\n",
       "    <tr style=\"text-align: right;\">\n",
       "      <th></th>\n",
       "      <th>category</th>\n",
       "      <th>text</th>\n",
       "      <th>cleanText</th>\n",
       "    </tr>\n",
       "  </thead>\n",
       "  <tbody>\n",
       "    <tr>\n",
       "      <th>0</th>\n",
       "      <td>economy</td>\n",
       "      <td>বাংলাদেশে সফররত বিশ্ব বাণিজ্য সংস্থা (ডব্লিউট...</td>\n",
       "      <td>বাংলাদেশে    সফররত    বিশ্ব    বাণিজ্য    সং...</td>\n",
       "    </tr>\n",
       "    <tr>\n",
       "      <th>1</th>\n",
       "      <td>sports</td>\n",
       "      <td>ইউরোপিয়ান ফুটবলে আজ ঝড় বয়ে যাচ্ছে। একদিকে সংবা...</td>\n",
       "      <td>ইউরোপিয়ান    ফুটবলে    বয়ে    একদিকে    সংবা...</td>\n",
       "    </tr>\n",
       "    <tr>\n",
       "      <th>2</th>\n",
       "      <td>international</td>\n",
       "      <td>বিজেপির নেতৃত্বে ভারতের উত্তর প্রদেশ থেকে শুরু...</td>\n",
       "      <td>বিজেপির    নেতৃত্বে    ভারতের    উত্তর    প্...</td>\n",
       "    </tr>\n",
       "    <tr>\n",
       "      <th>3</th>\n",
       "      <td>state</td>\n",
       "      <td>নারায়ণগঞ্জের সোনারগাঁ উপজেলার একটি সরকারি প্র...</td>\n",
       "      <td>নারায়ণগঞ্জের    সোনারগাঁ    উপজেলার    সরকা...</td>\n",
       "    </tr>\n",
       "    <tr>\n",
       "      <th>4</th>\n",
       "      <td>sports</td>\n",
       "      <td>‘ছাই থেকে ছাই, ধুলো থেকে ধুলো...’ আধ্যাত্মিক ক...</td>\n",
       "      <td>ছাই    ছাই    ধুলো    ধুলো    আধ্যাত্মিক    ...</td>\n",
       "    </tr>\n",
       "    <tr>\n",
       "      <th>...</th>\n",
       "      <td>...</td>\n",
       "      <td>...</td>\n",
       "      <td>...</td>\n",
       "    </tr>\n",
       "    <tr>\n",
       "      <th>98878</th>\n",
       "      <td>education</td>\n",
       "      <td>সহকারী অধ্যাপক  টিচার্স ট্রেনিং কলেজ (মহিলা)...</td>\n",
       "      <td>সহকারী    অধ্যাপক    টিচার্স    ট্রেনিং    ক...</td>\n",
       "    </tr>\n",
       "    <tr>\n",
       "      <th>98879</th>\n",
       "      <td>entertainment</td>\n",
       "      <td>অক্টোবরের ১১ তারিখে ৭৫ বছর পূর্ণ করবেন অমিতাভ ...</td>\n",
       "      <td>অক্টোবরের    তারিখে    বছর    পূর্ণ    অমিতা...</td>\n",
       "    </tr>\n",
       "    <tr>\n",
       "      <th>98880</th>\n",
       "      <td>technology</td>\n",
       "      <td>কাজী নাঈম আল রশিদ। সফটওয়্যার প্রকৌশলী। কাজ করে...</td>\n",
       "      <td>কাজী    নাঈম    রশিদ    সফটওয়্যার    প্রকৌশল...</td>\n",
       "    </tr>\n",
       "    <tr>\n",
       "      <th>98881</th>\n",
       "      <td>technology</td>\n",
       "      <td>ইয়াহুকে মার্কিন টেলিকম প্রতিষ্ঠান ভেরাইজন কিনে...</td>\n",
       "      <td>ইয়াহুকে    মার্কিন    টেলিকম    প্রতিষ্ঠান  ...</td>\n",
       "    </tr>\n",
       "    <tr>\n",
       "      <th>98882</th>\n",
       "      <td>education</td>\n",
       "      <td>অধ্যায়-১১প্রিয় শিক্ষার্থী, আজ ফিন্যান্স ও ব্যা...</td>\n",
       "      <td>অধ্যায়    প্রিয়    শিক্ষার্থী    ফিন্যান্স  ...</td>\n",
       "    </tr>\n",
       "  </tbody>\n",
       "</table>\n",
       "<p>98883 rows × 3 columns</p>\n",
       "</div>"
      ],
      "text/plain": [
       "            category                                               text  \\\n",
       "0            economy   বাংলাদেশে সফররত বিশ্ব বাণিজ্য সংস্থা (ডব্লিউট...   \n",
       "1             sports  ইউরোপিয়ান ফুটবলে আজ ঝড় বয়ে যাচ্ছে। একদিকে সংবা...   \n",
       "2      international  বিজেপির নেতৃত্বে ভারতের উত্তর প্রদেশ থেকে শুরু...   \n",
       "3              state  নারায়ণগঞ্জের সোনারগাঁ উপজেলার একটি সরকারি প্র...   \n",
       "4             sports  ‘ছাই থেকে ছাই, ধুলো থেকে ধুলো...’ আধ্যাত্মিক ক...   \n",
       "...              ...                                                ...   \n",
       "98878      education    সহকারী অধ্যাপক  টিচার্স ট্রেনিং কলেজ (মহিলা)...   \n",
       "98879  entertainment  অক্টোবরের ১১ তারিখে ৭৫ বছর পূর্ণ করবেন অমিতাভ ...   \n",
       "98880     technology  কাজী নাঈম আল রশিদ। সফটওয়্যার প্রকৌশলী। কাজ করে...   \n",
       "98881     technology  ইয়াহুকে মার্কিন টেলিকম প্রতিষ্ঠান ভেরাইজন কিনে...   \n",
       "98882      education  অধ্যায়-১১প্রিয় শিক্ষার্থী, আজ ফিন্যান্স ও ব্যা...   \n",
       "\n",
       "                                               cleanText  \n",
       "0        বাংলাদেশে    সফররত    বিশ্ব    বাণিজ্য    সং...  \n",
       "1        ইউরোপিয়ান    ফুটবলে    বয়ে    একদিকে    সংবা...  \n",
       "2        বিজেপির    নেতৃত্বে    ভারতের    উত্তর    প্...  \n",
       "3        নারায়ণগঞ্জের    সোনারগাঁ    উপজেলার    সরকা...  \n",
       "4        ছাই    ছাই    ধুলো    ধুলো    আধ্যাত্মিক    ...  \n",
       "...                                                  ...  \n",
       "98878    সহকারী    অধ্যাপক    টিচার্স    ট্রেনিং    ক...  \n",
       "98879    অক্টোবরের    তারিখে    বছর    পূর্ণ    অমিতা...  \n",
       "98880    কাজী    নাঈম    রশিদ    সফটওয়্যার    প্রকৌশল...  \n",
       "98881    ইয়াহুকে    মার্কিন    টেলিকম    প্রতিষ্ঠান  ...  \n",
       "98882    অধ্যায়    প্রিয়    শিক্ষার্থী    ফিন্যান্স  ...  \n",
       "\n",
       "[98883 rows x 3 columns]"
      ]
     },
     "metadata": {},
     "output_type": "display_data"
    },
    {
     "data": {
      "text/html": [
       "<div>\n",
       "<style scoped>\n",
       "    .dataframe tbody tr th:only-of-type {\n",
       "        vertical-align: middle;\n",
       "    }\n",
       "\n",
       "    .dataframe tbody tr th {\n",
       "        vertical-align: top;\n",
       "    }\n",
       "\n",
       "    .dataframe thead th {\n",
       "        text-align: right;\n",
       "    }\n",
       "</style>\n",
       "<table border=\"1\" class=\"dataframe\">\n",
       "  <thead>\n",
       "    <tr style=\"text-align: right;\">\n",
       "      <th></th>\n",
       "      <th>category</th>\n",
       "      <th>text</th>\n",
       "      <th>cleanText</th>\n",
       "    </tr>\n",
       "  </thead>\n",
       "  <tbody>\n",
       "    <tr>\n",
       "      <th>0</th>\n",
       "      <td>education</td>\n",
       "      <td>অধ্যায়-২প্রিয় পরীক্ষার্থী, আজ তথ্য ও যোগাযোগ প...</td>\n",
       "      <td>অধ্যায়    প্রিয়    পরীক্ষার্থী    তথ্য    যো...</td>\n",
       "    </tr>\n",
       "    <tr>\n",
       "      <th>1</th>\n",
       "      <td>sports</td>\n",
       "      <td>স্পিন, স্পিন, স্পিন। লর্ডসে ইয়াসির শাহ্‌র লেগ ...</td>\n",
       "      <td>স্পিন    স্পিন    স্পিন    লর্ডসে    ইয়াসির ...</td>\n",
       "    </tr>\n",
       "    <tr>\n",
       "      <th>2</th>\n",
       "      <td>international</td>\n",
       "      <td>সিরিয়ার উত্তর-পশ্চিমাঞ্চলে গতকাল রোববার বিমান...</td>\n",
       "      <td>সিরিয়ার    উত্তর    পশ্চিমাঞ্চলে    গতকাল  ...</td>\n",
       "    </tr>\n",
       "    <tr>\n",
       "      <th>3</th>\n",
       "      <td>international</td>\n",
       "      <td>দক্ষিণ আফ্রিকার কেপটাউন বিশ্ববিদ্যালয়ের (ইউসিট...</td>\n",
       "      <td>দক্ষিণ    আফ্রিকার    কেপটাউন    বিশ্ববিদ্যা...</td>\n",
       "    </tr>\n",
       "    <tr>\n",
       "      <th>4</th>\n",
       "      <td>technology</td>\n",
       "      <td>সহজে ডিজিটাল আর্থিক সেবা দিতে অ্যাপ ও ডিজিটাল ...</td>\n",
       "      <td>সহজে    ডিজিটাল    আর্থিক    সেবা    অ্যাপ  ...</td>\n",
       "    </tr>\n",
       "    <tr>\n",
       "      <th>...</th>\n",
       "      <td>...</td>\n",
       "      <td>...</td>\n",
       "      <td>...</td>\n",
       "    </tr>\n",
       "    <tr>\n",
       "      <th>98879</th>\n",
       "      <td>sports</td>\n",
       "      <td>১৯৫৯ সালে ইউরোপিয়ান ক্লাব কাপে জাতীয় দল পাঠান...</td>\n",
       "      <td>সালে    ইউরোপিয়ান    ক্লাব    কাপে    জাতীয়...</td>\n",
       "    </tr>\n",
       "    <tr>\n",
       "      <th>98880</th>\n",
       "      <td>entertainment</td>\n",
       "      <td>গানের দল সহজিয়ার প্রথম অ্যালবাম ‘রঙমিস্ত্রী’র ...</td>\n",
       "      <td>গানের    সহজিয়ার    প্রথম    অ্যালবাম    রঙম...</td>\n",
       "    </tr>\n",
       "    <tr>\n",
       "      <th>98881</th>\n",
       "      <td>international</td>\n",
       "      <td>ফেসবুকের ৮১ হাজার ব্যবহারকারীর তথ্য চুরি করে স...</td>\n",
       "      <td>ফেসবুকের    হাজার    ব্যবহারকারীর    তথ্য   ...</td>\n",
       "    </tr>\n",
       "    <tr>\n",
       "      <th>98882</th>\n",
       "      <td>economy</td>\n",
       "      <td>পেট্রোল পাম্পে তেল বা সিএনজির বিল বিকাশের মাধ...</td>\n",
       "      <td>পেট্রোল    পাম্পে    তেল    সিএনজির    বিল  ...</td>\n",
       "    </tr>\n",
       "    <tr>\n",
       "      <th>98883</th>\n",
       "      <td>economy</td>\n",
       "      <td>বছর শেষে ঢাকা স্টক এক্সচেঞ্জের (ডিএসই) দুটি সূ...</td>\n",
       "      <td>বছর    শেষে    ঢাকা    স্টক    এক্সচেঞ্জের  ...</td>\n",
       "    </tr>\n",
       "  </tbody>\n",
       "</table>\n",
       "<p>98884 rows × 3 columns</p>\n",
       "</div>"
      ],
      "text/plain": [
       "            category                                               text  \\\n",
       "0          education  অধ্যায়-২প্রিয় পরীক্ষার্থী, আজ তথ্য ও যোগাযোগ প...   \n",
       "1             sports  স্পিন, স্পিন, স্পিন। লর্ডসে ইয়াসির শাহ্‌র লেগ ...   \n",
       "2      international  সিরিয়ার উত্তর-পশ্চিমাঞ্চলে গতকাল রোববার বিমান...   \n",
       "3      international  দক্ষিণ আফ্রিকার কেপটাউন বিশ্ববিদ্যালয়ের (ইউসিট...   \n",
       "4         technology  সহজে ডিজিটাল আর্থিক সেবা দিতে অ্যাপ ও ডিজিটাল ...   \n",
       "...              ...                                                ...   \n",
       "98879         sports  ১৯৫৯ সালে ইউরোপিয়ান ক্লাব কাপে জাতীয় দল পাঠান...   \n",
       "98880  entertainment  গানের দল সহজিয়ার প্রথম অ্যালবাম ‘রঙমিস্ত্রী’র ...   \n",
       "98881  international  ফেসবুকের ৮১ হাজার ব্যবহারকারীর তথ্য চুরি করে স...   \n",
       "98882        economy   পেট্রোল পাম্পে তেল বা সিএনজির বিল বিকাশের মাধ...   \n",
       "98883        economy  বছর শেষে ঢাকা স্টক এক্সচেঞ্জের (ডিএসই) দুটি সূ...   \n",
       "\n",
       "                                               cleanText  \n",
       "0        অধ্যায়    প্রিয়    পরীক্ষার্থী    তথ্য    যো...  \n",
       "1        স্পিন    স্পিন    স্পিন    লর্ডসে    ইয়াসির ...  \n",
       "2        সিরিয়ার    উত্তর    পশ্চিমাঞ্চলে    গতকাল  ...  \n",
       "3        দক্ষিণ    আফ্রিকার    কেপটাউন    বিশ্ববিদ্যা...  \n",
       "4        সহজে    ডিজিটাল    আর্থিক    সেবা    অ্যাপ  ...  \n",
       "...                                                  ...  \n",
       "98879    সালে    ইউরোপিয়ান    ক্লাব    কাপে    জাতীয়...  \n",
       "98880    গানের    সহজিয়ার    প্রথম    অ্যালবাম    রঙম...  \n",
       "98881    ফেসবুকের    হাজার    ব্যবহারকারীর    তথ্য   ...  \n",
       "98882    পেট্রোল    পাম্পে    তেল    সিএনজির    বিল  ...  \n",
       "98883    বছর    শেষে    ঢাকা    স্টক    এক্সচেঞ্জের  ...  \n",
       "\n",
       "[98884 rows x 3 columns]"
      ]
     },
     "metadata": {},
     "output_type": "display_data"
    }
   ],
   "source": [
    "df_train=pd.read_csv(\"/kaggle/input/banglamct7-bangla-multiclass-text-dataset-7-tags/BanglaMCT7/train.csv\")\n",
    "df_test=pd.read_csv(\"/kaggle/input/banglamct7-bangla-multiclass-text-dataset-7-tags/BanglaMCT7/test.csv\")\n",
    "\n",
    "display(df_train)\n",
    "display(df_test)"
   ]
  },
  {
   "cell_type": "markdown",
   "id": "716529c1",
   "metadata": {
    "papermill": {
     "duration": 0.051036,
     "end_time": "2021-10-19T14:04:27.756821",
     "exception": false,
     "start_time": "2021-10-19T14:04:27.705785",
     "status": "completed"
    },
    "tags": []
   },
   "source": [
    "# **Train/Test Split**\n",
    "**We have seen on EDA that,Train and Test set are almost equal in size and classwise ratio is identical. So to build a robust model i have used full train set for training the model and test set for testing. So test and train ratio can be called 50-50.**"
   ]
  },
  {
   "cell_type": "markdown",
   "id": "ad77b383",
   "metadata": {
    "papermill": {
     "duration": 0.050838,
     "end_time": "2021-10-19T14:04:27.858613",
     "exception": false,
     "start_time": "2021-10-19T14:04:27.807775",
     "status": "completed"
    },
    "tags": []
   },
   "source": [
    "# **Preprocessing**"
   ]
  },
  {
   "cell_type": "code",
   "execution_count": 5,
   "id": "affd3d4b",
   "metadata": {
    "execution": {
     "iopub.execute_input": "2021-10-19T14:04:27.964360Z",
     "iopub.status.busy": "2021-10-19T14:04:27.963650Z",
     "iopub.status.idle": "2021-10-19T14:04:27.973345Z",
     "shell.execute_reply": "2021-10-19T14:04:27.973822Z",
     "shell.execute_reply.started": "2021-10-19T13:50:33.118794Z"
    },
    "papermill": {
     "duration": 0.064009,
     "end_time": "2021-10-19T14:04:27.974001",
     "exception": false,
     "start_time": "2021-10-19T14:04:27.909992",
     "status": "completed"
    },
    "tags": []
   },
   "outputs": [],
   "source": [
    "def text_to_word_list(text):\n",
    "    text = text.split()\n",
    "    return text\n",
    "\n",
    "def replace_strings(text):\n",
    "    emoji_pattern = re.compile(\"[\"\n",
    "                           u\"\\U0001F600-\\U0001F64F\"  # emoticons\n",
    "                           u\"\\U0001F300-\\U0001F5FF\"  # symbols & pictographs\n",
    "                           u\"\\U0001F680-\\U0001F6FF\"  # transport & map symbols\n",
    "                           u\"\\U0001F1E0-\\U0001F1FF\"  # flags (iOS)\n",
    "                           u\"\\U00002702-\\U000027B0\"\n",
    "                           u\"\\U000024C2-\\U0001F251\"\n",
    "                           u\"\\u00C0-\\u017F\"          #latin\n",
    "                           u\"\\u2000-\\u206F\"          #generalPunctuations\n",
    "                               \n",
    "                           \"]+\", flags=re.UNICODE)\n",
    "    english_pattern=re.compile('[a-zA-Z0-9]+', flags=re.I)\n",
    "    #latin_pattern=re.compile('[A-Za-z\\u00C0-\\u00D6\\u00D8-\\u00f6\\u00f8-\\u00ff\\s]*',)\n",
    "    \n",
    "    text=emoji_pattern.sub(r'', text)\n",
    "    text=english_pattern.sub(r'', text)\n",
    "\n",
    "    return text\n",
    "\n",
    "def remove_punctuations(my_str):\n",
    "    # define punctuation\n",
    "    punctuations = '''```\u0012\u0010\u0002\b`\u0007\b£|¢|\u0007Ñ+-*/=EROero৳০১২৩৪৫৬৭৮৯012–34567•89।!()-[]{};:'\"“\\’,<>./?@#$%^&*_~‘—॥”‰🤣⚽️✌�￰৷￰'''\n",
    "    \n",
    "    no_punct = \"\"\n",
    "    for char in my_str:\n",
    "        if char not in punctuations:\n",
    "            no_punct = no_punct + char\n",
    "\n",
    "    # display the unpunctuated string\n",
    "    return no_punct\n",
    "\n",
    "\n",
    "\n",
    "def joining(text):\n",
    "    out=' '.join(text)\n",
    "    return out\n",
    "\n",
    "def preprocessing(text):\n",
    "    out=remove_punctuations(replace_strings(text))\n",
    "    return out"
   ]
  },
  {
   "cell_type": "code",
   "execution_count": 6,
   "id": "4ea5f066",
   "metadata": {
    "execution": {
     "iopub.execute_input": "2021-10-19T14:04:28.083809Z",
     "iopub.status.busy": "2021-10-19T14:04:28.083057Z",
     "iopub.status.idle": "2021-10-19T14:04:28.085267Z",
     "shell.execute_reply": "2021-10-19T14:04:28.085879Z",
     "shell.execute_reply.started": "2021-10-19T13:50:33.129409Z"
    },
    "papermill": {
     "duration": 0.058331,
     "end_time": "2021-10-19T14:04:28.086053",
     "exception": false,
     "start_time": "2021-10-19T14:04:28.027722",
     "status": "completed"
    },
    "tags": []
   },
   "outputs": [],
   "source": [
    "#df['cleanText'] = df.cleanText.apply(lambda x: preprocessing(str(x)))"
   ]
  },
  {
   "cell_type": "markdown",
   "id": "8e0632a4",
   "metadata": {
    "papermill": {
     "duration": 0.050745,
     "end_time": "2021-10-19T14:04:28.187943",
     "exception": false,
     "start_time": "2021-10-19T14:04:28.137198",
     "status": "completed"
    },
    "tags": []
   },
   "source": [
    "# **Stopwords Removal**"
   ]
  },
  {
   "cell_type": "code",
   "execution_count": 7,
   "id": "b43d8073",
   "metadata": {
    "execution": {
     "iopub.execute_input": "2021-10-19T14:04:28.296105Z",
     "iopub.status.busy": "2021-10-19T14:04:28.295172Z",
     "iopub.status.idle": "2021-10-19T14:04:28.613404Z",
     "shell.execute_reply": "2021-10-19T14:04:28.612737Z",
     "shell.execute_reply.started": "2021-10-19T13:50:33.147114Z"
    },
    "papermill": {
     "duration": 0.373277,
     "end_time": "2021-10-19T14:04:28.613549",
     "exception": false,
     "start_time": "2021-10-19T14:04:28.240272",
     "status": "completed"
    },
    "tags": []
   },
   "outputs": [
    {
     "data": {
      "text/html": [
       "<div>\n",
       "<style scoped>\n",
       "    .dataframe tbody tr th:only-of-type {\n",
       "        vertical-align: middle;\n",
       "    }\n",
       "\n",
       "    .dataframe tbody tr th {\n",
       "        vertical-align: top;\n",
       "    }\n",
       "\n",
       "    .dataframe thead th {\n",
       "        text-align: right;\n",
       "    }\n",
       "</style>\n",
       "<table border=\"1\" class=\"dataframe\">\n",
       "  <thead>\n",
       "    <tr style=\"text-align: right;\">\n",
       "      <th></th>\n",
       "      <th>Unnamed: 0</th>\n",
       "      <th>words</th>\n",
       "    </tr>\n",
       "  </thead>\n",
       "  <tbody>\n",
       "    <tr>\n",
       "      <th>0</th>\n",
       "      <td>0</td>\n",
       "      <td>অই</td>\n",
       "    </tr>\n",
       "    <tr>\n",
       "      <th>1</th>\n",
       "      <td>1</td>\n",
       "      <td>অগত্যা</td>\n",
       "    </tr>\n",
       "    <tr>\n",
       "      <th>2</th>\n",
       "      <td>2</td>\n",
       "      <td>অত: পর</td>\n",
       "    </tr>\n",
       "    <tr>\n",
       "      <th>3</th>\n",
       "      <td>3</td>\n",
       "      <td>অতএব</td>\n",
       "    </tr>\n",
       "    <tr>\n",
       "      <th>4</th>\n",
       "      <td>4</td>\n",
       "      <td>অথচ</td>\n",
       "    </tr>\n",
       "    <tr>\n",
       "      <th>...</th>\n",
       "      <td>...</td>\n",
       "      <td>...</td>\n",
       "    </tr>\n",
       "    <tr>\n",
       "      <th>727</th>\n",
       "      <td>727</td>\n",
       "      <td>হয়েই</td>\n",
       "    </tr>\n",
       "    <tr>\n",
       "      <th>728</th>\n",
       "      <td>728</td>\n",
       "      <td>হয়েছিল</td>\n",
       "    </tr>\n",
       "    <tr>\n",
       "      <th>729</th>\n",
       "      <td>729</td>\n",
       "      <td>হয়েছে</td>\n",
       "    </tr>\n",
       "    <tr>\n",
       "      <th>730</th>\n",
       "      <td>730</td>\n",
       "      <td>হয়েছেন</td>\n",
       "    </tr>\n",
       "    <tr>\n",
       "      <th>731</th>\n",
       "      <td>731</td>\n",
       "      <td>অংশ</td>\n",
       "    </tr>\n",
       "  </tbody>\n",
       "</table>\n",
       "<p>732 rows × 2 columns</p>\n",
       "</div>"
      ],
      "text/plain": [
       "     Unnamed: 0   words\n",
       "0             0      অই\n",
       "1             1  অগত্যা\n",
       "2             2  অত: পর\n",
       "3             3    অতএব\n",
       "4             4     অথচ\n",
       "..          ...     ...\n",
       "727         727    হয়েই\n",
       "728         728  হয়েছিল\n",
       "729         729   হয়েছে\n",
       "730         730  হয়েছেন\n",
       "731         731     অংশ\n",
       "\n",
       "[732 rows x 2 columns]"
      ]
     },
     "metadata": {},
     "output_type": "display_data"
    }
   ],
   "source": [
    "data1 =pd.read_excel('/kaggle/input/bangla-stopwords/stopwords_bangla.xlsx')\n",
    "display(data1)\n",
    "stop = data1['words'].tolist()"
   ]
  },
  {
   "cell_type": "code",
   "execution_count": 8,
   "id": "f15afbd8",
   "metadata": {
    "execution": {
     "iopub.execute_input": "2021-10-19T14:04:28.726738Z",
     "iopub.status.busy": "2021-10-19T14:04:28.725829Z",
     "iopub.status.idle": "2021-10-19T14:04:28.728096Z",
     "shell.execute_reply": "2021-10-19T14:04:28.728686Z",
     "shell.execute_reply.started": "2021-10-19T13:50:33.502535Z"
    },
    "papermill": {
     "duration": 0.061764,
     "end_time": "2021-10-19T14:04:28.728867",
     "exception": false,
     "start_time": "2021-10-19T14:04:28.667103",
     "status": "completed"
    },
    "tags": []
   },
   "outputs": [],
   "source": [
    "def stopwordRemoval(text):    \n",
    "    x=str(text)\n",
    "    l=x.split()\n",
    "\n",
    "    stm=[elem for elem in l if elem not in stop]\n",
    "    \n",
    "    out=' '.join(stm)\n",
    "    \n",
    "    return str(out)"
   ]
  },
  {
   "cell_type": "code",
   "execution_count": 9,
   "id": "2cf7dd48",
   "metadata": {
    "execution": {
     "iopub.execute_input": "2021-10-19T14:04:28.834818Z",
     "iopub.status.busy": "2021-10-19T14:04:28.834165Z",
     "iopub.status.idle": "2021-10-19T14:10:07.235686Z",
     "shell.execute_reply": "2021-10-19T14:10:07.235048Z",
     "shell.execute_reply.started": "2021-10-19T13:50:33.511766Z"
    },
    "papermill": {
     "duration": 338.45554,
     "end_time": "2021-10-19T14:10:07.235856",
     "exception": false,
     "start_time": "2021-10-19T14:04:28.780316",
     "status": "completed"
    },
    "tags": []
   },
   "outputs": [],
   "source": [
    "df_train['cleanText'] = df_train.cleanText.apply(lambda x: stopwordRemoval(str(x)))\n",
    "df_test['cleanText'] = df_test.cleanText.apply(lambda x: stopwordRemoval(str(x)))"
   ]
  },
  {
   "cell_type": "markdown",
   "id": "a5131a15",
   "metadata": {
    "papermill": {
     "duration": 0.051663,
     "end_time": "2021-10-19T14:10:07.340713",
     "exception": false,
     "start_time": "2021-10-19T14:10:07.289050",
     "status": "completed"
    },
    "tags": []
   },
   "source": [
    "# **Stemming**"
   ]
  },
  {
   "cell_type": "code",
   "execution_count": 10,
   "id": "e4b8bab8",
   "metadata": {
    "execution": {
     "iopub.execute_input": "2021-10-19T14:10:07.453645Z",
     "iopub.status.busy": "2021-10-19T14:10:07.449292Z",
     "iopub.status.idle": "2021-10-19T14:10:16.564840Z",
     "shell.execute_reply": "2021-10-19T14:10:16.563772Z",
     "shell.execute_reply.started": "2021-10-19T13:56:10.072161Z"
    },
    "papermill": {
     "duration": 9.171212,
     "end_time": "2021-10-19T14:10:16.565006",
     "exception": false,
     "start_time": "2021-10-19T14:10:07.393794",
     "status": "completed"
    },
    "tags": []
   },
   "outputs": [
    {
     "name": "stdout",
     "output_type": "stream",
     "text": [
      "Collecting bangla-stemmer\r\n",
      "  Downloading bangla_stemmer-1.0-py3-none-any.whl (9.1 kB)\r\n",
      "Installing collected packages: bangla-stemmer\r\n",
      "Successfully installed bangla-stemmer-1.0\r\n",
      "\u001b[33mWARNING: Running pip as the 'root' user can result in broken permissions and conflicting behaviour with the system package manager. It is recommended to use a virtual environment instead: https://pip.pypa.io/warnings/venv\u001b[0m\r\n"
     ]
    }
   ],
   "source": [
    "#make sure to turn on internet on your kernel\n",
    "#importing stemmer\n",
    "!pip install bangla-stemmer\n",
    "from bangla_stemmer.stemmer import stemmer\n",
    "## stemmer function\n",
    "def stem_text (x):\n",
    "  stmr = stemmer.BanglaStemmer()\n",
    "  words=x.split(' ')\n",
    "  stm = stmr.stem(words)\n",
    "  words=(' ').join(stm)\n",
    "  return words"
   ]
  },
  {
   "cell_type": "markdown",
   "id": "e4fdb73a",
   "metadata": {
    "papermill": {
     "duration": 0.05321,
     "end_time": "2021-10-19T14:10:16.671476",
     "exception": false,
     "start_time": "2021-10-19T14:10:16.618266",
     "status": "completed"
    },
    "tags": []
   },
   "source": [
    "**I have noticed stemming doesn't improve accuracy in this dataset, so i have commented it out.**"
   ]
  },
  {
   "cell_type": "code",
   "execution_count": 11,
   "id": "afc7eb0a",
   "metadata": {
    "execution": {
     "iopub.execute_input": "2021-10-19T14:10:16.782100Z",
     "iopub.status.busy": "2021-10-19T14:10:16.781072Z",
     "iopub.status.idle": "2021-10-19T14:10:16.784034Z",
     "shell.execute_reply": "2021-10-19T14:10:16.783500Z",
     "shell.execute_reply.started": "2021-10-19T13:56:19.485225Z"
    },
    "papermill": {
     "duration": 0.06013,
     "end_time": "2021-10-19T14:10:16.784211",
     "exception": false,
     "start_time": "2021-10-19T14:10:16.724081",
     "status": "completed"
    },
    "tags": []
   },
   "outputs": [],
   "source": [
    "#df_train['cleanText']=df_train['cleanText'].apply(stem_text)\n",
    "#df_test['cleanText']=df_test['cleanText'].apply(stem_text)"
   ]
  },
  {
   "cell_type": "markdown",
   "id": "d1979879",
   "metadata": {
    "papermill": {
     "duration": 0.06003,
     "end_time": "2021-10-19T14:10:16.899433",
     "exception": false,
     "start_time": "2021-10-19T14:10:16.839403",
     "status": "completed"
    },
    "tags": []
   },
   "source": [
    "# **Changing Labels to Numbers**"
   ]
  },
  {
   "cell_type": "code",
   "execution_count": 12,
   "id": "c00774a9",
   "metadata": {
    "execution": {
     "iopub.execute_input": "2021-10-19T14:10:17.026005Z",
     "iopub.status.busy": "2021-10-19T14:10:17.025005Z",
     "iopub.status.idle": "2021-10-19T14:10:17.133632Z",
     "shell.execute_reply": "2021-10-19T14:10:17.132958Z",
     "shell.execute_reply.started": "2021-10-19T13:56:19.493887Z"
    },
    "papermill": {
     "duration": 0.18087,
     "end_time": "2021-10-19T14:10:17.133774",
     "exception": false,
     "start_time": "2021-10-19T14:10:16.952904",
     "status": "completed"
    },
    "tags": []
   },
   "outputs": [
    {
     "data": {
      "text/html": [
       "<div>\n",
       "<style scoped>\n",
       "    .dataframe tbody tr th:only-of-type {\n",
       "        vertical-align: middle;\n",
       "    }\n",
       "\n",
       "    .dataframe tbody tr th {\n",
       "        vertical-align: top;\n",
       "    }\n",
       "\n",
       "    .dataframe thead th {\n",
       "        text-align: right;\n",
       "    }\n",
       "</style>\n",
       "<table border=\"1\" class=\"dataframe\">\n",
       "  <thead>\n",
       "    <tr style=\"text-align: right;\">\n",
       "      <th></th>\n",
       "      <th>category</th>\n",
       "      <th>text</th>\n",
       "      <th>cleanText</th>\n",
       "    </tr>\n",
       "  </thead>\n",
       "  <tbody>\n",
       "    <tr>\n",
       "      <th>0</th>\n",
       "      <td>0</td>\n",
       "      <td>বাংলাদেশে সফররত বিশ্ব বাণিজ্য সংস্থা (ডব্লিউট...</td>\n",
       "      <td>বাংলাদেশে সফররত বাণিজ্য সংস্থা ডব্লিউটিও মহাপর...</td>\n",
       "    </tr>\n",
       "    <tr>\n",
       "      <th>1</th>\n",
       "      <td>1</td>\n",
       "      <td>ইউরোপিয়ান ফুটবলে আজ ঝড় বয়ে যাচ্ছে। একদিকে সংবা...</td>\n",
       "      <td>ইউরোপিয়ান ফুটবলে বয়ে একদিকে সংবাদমাধ্যমগুলো নে...</td>\n",
       "    </tr>\n",
       "    <tr>\n",
       "      <th>2</th>\n",
       "      <td>2</td>\n",
       "      <td>বিজেপির নেতৃত্বে ভারতের উত্তর প্রদেশ থেকে শুরু...</td>\n",
       "      <td>বিজেপির নেতৃত্বে ভারতের প্রদেশ ঐতিহাসিক স্থানে...</td>\n",
       "    </tr>\n",
       "    <tr>\n",
       "      <th>3</th>\n",
       "      <td>3</td>\n",
       "      <td>নারায়ণগঞ্জের সোনারগাঁ উপজেলার একটি সরকারি প্র...</td>\n",
       "      <td>নারায়ণগঞ্জের সোনারগাঁ উপজেলার সরকারি বিদ্যালয...</td>\n",
       "    </tr>\n",
       "    <tr>\n",
       "      <th>4</th>\n",
       "      <td>1</td>\n",
       "      <td>‘ছাই থেকে ছাই, ধুলো থেকে ধুলো...’ আধ্যাত্মিক ক...</td>\n",
       "      <td>ছাই ছাই ধুলো ধুলো আধ্যাত্মিক বাক্যের অর্থটা সে...</td>\n",
       "    </tr>\n",
       "    <tr>\n",
       "      <th>...</th>\n",
       "      <td>...</td>\n",
       "      <td>...</td>\n",
       "      <td>...</td>\n",
       "    </tr>\n",
       "    <tr>\n",
       "      <th>98878</th>\n",
       "      <td>6</td>\n",
       "      <td>সহকারী অধ্যাপক  টিচার্স ট্রেনিং কলেজ (মহিলা)...</td>\n",
       "      <td>সহকারী অধ্যাপক টিচার্স ট্রেনিং কলেজ মহিলা ময়মন...</td>\n",
       "    </tr>\n",
       "    <tr>\n",
       "      <th>98879</th>\n",
       "      <td>5</td>\n",
       "      <td>অক্টোবরের ১১ তারিখে ৭৫ বছর পূর্ণ করবেন অমিতাভ ...</td>\n",
       "      <td>অক্টোবরের তারিখে পূর্ণ অমিতাভ বচ্চন জন্মদিন এক...</td>\n",
       "    </tr>\n",
       "    <tr>\n",
       "      <th>98880</th>\n",
       "      <td>4</td>\n",
       "      <td>কাজী নাঈম আল রশিদ। সফটওয়্যার প্রকৌশলী। কাজ করে...</td>\n",
       "      <td>কাজী নাঈম রশিদ সফটওয়্যার প্রকৌশলী মাইক্রোসফটে ...</td>\n",
       "    </tr>\n",
       "    <tr>\n",
       "      <th>98881</th>\n",
       "      <td>4</td>\n",
       "      <td>ইয়াহুকে মার্কিন টেলিকম প্রতিষ্ঠান ভেরাইজন কিনে...</td>\n",
       "      <td>ইয়াহুকে মার্কিন টেলিকম প্রতিষ্ঠান ভেরাইজন কিনে...</td>\n",
       "    </tr>\n",
       "    <tr>\n",
       "      <th>98882</th>\n",
       "      <td>6</td>\n",
       "      <td>অধ্যায়-১১প্রিয় শিক্ষার্থী, আজ ফিন্যান্স ও ব্যা...</td>\n",
       "      <td>অধ্যায় প্রিয় শিক্ষার্থী ফিন্যান্স ব্যাংকিং বহু...</td>\n",
       "    </tr>\n",
       "  </tbody>\n",
       "</table>\n",
       "<p>98883 rows × 3 columns</p>\n",
       "</div>"
      ],
      "text/plain": [
       "      category                                               text  \\\n",
       "0            0   বাংলাদেশে সফররত বিশ্ব বাণিজ্য সংস্থা (ডব্লিউট...   \n",
       "1            1  ইউরোপিয়ান ফুটবলে আজ ঝড় বয়ে যাচ্ছে। একদিকে সংবা...   \n",
       "2            2  বিজেপির নেতৃত্বে ভারতের উত্তর প্রদেশ থেকে শুরু...   \n",
       "3            3  নারায়ণগঞ্জের সোনারগাঁ উপজেলার একটি সরকারি প্র...   \n",
       "4            1  ‘ছাই থেকে ছাই, ধুলো থেকে ধুলো...’ আধ্যাত্মিক ক...   \n",
       "...        ...                                                ...   \n",
       "98878        6    সহকারী অধ্যাপক  টিচার্স ট্রেনিং কলেজ (মহিলা)...   \n",
       "98879        5  অক্টোবরের ১১ তারিখে ৭৫ বছর পূর্ণ করবেন অমিতাভ ...   \n",
       "98880        4  কাজী নাঈম আল রশিদ। সফটওয়্যার প্রকৌশলী। কাজ করে...   \n",
       "98881        4  ইয়াহুকে মার্কিন টেলিকম প্রতিষ্ঠান ভেরাইজন কিনে...   \n",
       "98882        6  অধ্যায়-১১প্রিয় শিক্ষার্থী, আজ ফিন্যান্স ও ব্যা...   \n",
       "\n",
       "                                               cleanText  \n",
       "0      বাংলাদেশে সফররত বাণিজ্য সংস্থা ডব্লিউটিও মহাপর...  \n",
       "1      ইউরোপিয়ান ফুটবলে বয়ে একদিকে সংবাদমাধ্যমগুলো নে...  \n",
       "2      বিজেপির নেতৃত্বে ভারতের প্রদেশ ঐতিহাসিক স্থানে...  \n",
       "3      নারায়ণগঞ্জের সোনারগাঁ উপজেলার সরকারি বিদ্যালয...  \n",
       "4      ছাই ছাই ধুলো ধুলো আধ্যাত্মিক বাক্যের অর্থটা সে...  \n",
       "...                                                  ...  \n",
       "98878  সহকারী অধ্যাপক টিচার্স ট্রেনিং কলেজ মহিলা ময়মন...  \n",
       "98879  অক্টোবরের তারিখে পূর্ণ অমিতাভ বচ্চন জন্মদিন এক...  \n",
       "98880  কাজী নাঈম রশিদ সফটওয়্যার প্রকৌশলী মাইক্রোসফটে ...  \n",
       "98881  ইয়াহুকে মার্কিন টেলিকম প্রতিষ্ঠান ভেরাইজন কিনে...  \n",
       "98882  অধ্যায় প্রিয় শিক্ষার্থী ফিন্যান্স ব্যাংকিং বহু...  \n",
       "\n",
       "[98883 rows x 3 columns]"
      ]
     },
     "metadata": {},
     "output_type": "display_data"
    },
    {
     "data": {
      "text/html": [
       "<div>\n",
       "<style scoped>\n",
       "    .dataframe tbody tr th:only-of-type {\n",
       "        vertical-align: middle;\n",
       "    }\n",
       "\n",
       "    .dataframe tbody tr th {\n",
       "        vertical-align: top;\n",
       "    }\n",
       "\n",
       "    .dataframe thead th {\n",
       "        text-align: right;\n",
       "    }\n",
       "</style>\n",
       "<table border=\"1\" class=\"dataframe\">\n",
       "  <thead>\n",
       "    <tr style=\"text-align: right;\">\n",
       "      <th></th>\n",
       "      <th>category</th>\n",
       "      <th>text</th>\n",
       "      <th>cleanText</th>\n",
       "    </tr>\n",
       "  </thead>\n",
       "  <tbody>\n",
       "    <tr>\n",
       "      <th>0</th>\n",
       "      <td>6</td>\n",
       "      <td>অধ্যায়-২প্রিয় পরীক্ষার্থী, আজ তথ্য ও যোগাযোগ প...</td>\n",
       "      <td>অধ্যায় প্রিয় পরীক্ষার্থী তথ্য যোগাযোগ প্রযুক্ত...</td>\n",
       "    </tr>\n",
       "    <tr>\n",
       "      <th>1</th>\n",
       "      <td>1</td>\n",
       "      <td>স্পিন, স্পিন, স্পিন। লর্ডসে ইয়াসির শাহ্‌র লেগ ...</td>\n",
       "      <td>স্পিন স্পিন স্পিন লর্ডসে ইয়াসির শাহ্ র লেগ স্প...</td>\n",
       "    </tr>\n",
       "    <tr>\n",
       "      <th>2</th>\n",
       "      <td>2</td>\n",
       "      <td>সিরিয়ার উত্তর-পশ্চিমাঞ্চলে গতকাল রোববার বিমান...</td>\n",
       "      <td>সিরিয়ার পশ্চিমাঞ্চলে গতকাল রোববার বিমান হামলা...</td>\n",
       "    </tr>\n",
       "    <tr>\n",
       "      <th>3</th>\n",
       "      <td>2</td>\n",
       "      <td>দক্ষিণ আফ্রিকার কেপটাউন বিশ্ববিদ্যালয়ের (ইউসিট...</td>\n",
       "      <td>দক্ষিণ আফ্রিকার কেপটাউন বিশ্ববিদ্যালয়ের ইউসিটি...</td>\n",
       "    </tr>\n",
       "    <tr>\n",
       "      <th>4</th>\n",
       "      <td>4</td>\n",
       "      <td>সহজে ডিজিটাল আর্থিক সেবা দিতে অ্যাপ ও ডিজিটাল ...</td>\n",
       "      <td>সহজে ডিজিটাল আর্থিক সেবা অ্যাপ ডিজিটাল কেওয়াইস...</td>\n",
       "    </tr>\n",
       "    <tr>\n",
       "      <th>...</th>\n",
       "      <td>...</td>\n",
       "      <td>...</td>\n",
       "      <td>...</td>\n",
       "    </tr>\n",
       "    <tr>\n",
       "      <th>98879</th>\n",
       "      <td>1</td>\n",
       "      <td>১৯৫৯ সালে ইউরোপিয়ান ক্লাব কাপে জাতীয় দল পাঠান...</td>\n",
       "      <td>সালে ইউরোপিয়ান ক্লাব কাপে জাতীয় পাঠানোর প্রস...</td>\n",
       "    </tr>\n",
       "    <tr>\n",
       "      <th>98880</th>\n",
       "      <td>5</td>\n",
       "      <td>গানের দল সহজিয়ার প্রথম অ্যালবাম ‘রঙমিস্ত্রী’র ...</td>\n",
       "      <td>গানের সহজিয়ার অ্যালবাম রঙমিস্ত্রী প্রকাশনা উত্...</td>\n",
       "    </tr>\n",
       "    <tr>\n",
       "      <th>98881</th>\n",
       "      <td>2</td>\n",
       "      <td>ফেসবুকের ৮১ হাজার ব্যবহারকারীর তথ্য চুরি করে স...</td>\n",
       "      <td>ফেসবুকের ব্যবহারকারীর তথ্য চুরি বিক্রির বিজ্ঞা...</td>\n",
       "    </tr>\n",
       "    <tr>\n",
       "      <th>98882</th>\n",
       "      <td>0</td>\n",
       "      <td>পেট্রোল পাম্পে তেল বা সিএনজির বিল বিকাশের মাধ...</td>\n",
       "      <td>পেট্রোল পাম্পে তেল সিএনজির বিল বিকাশের পরিশোধ ...</td>\n",
       "    </tr>\n",
       "    <tr>\n",
       "      <th>98883</th>\n",
       "      <td>0</td>\n",
       "      <td>বছর শেষে ঢাকা স্টক এক্সচেঞ্জের (ডিএসই) দুটি সূ...</td>\n",
       "      <td>শেষে ঢাকা স্টক এক্সচেঞ্জের ডিএসই পুনঃসমন্বয় দু...</td>\n",
       "    </tr>\n",
       "  </tbody>\n",
       "</table>\n",
       "<p>98884 rows × 3 columns</p>\n",
       "</div>"
      ],
      "text/plain": [
       "      category                                               text  \\\n",
       "0            6  অধ্যায়-২প্রিয় পরীক্ষার্থী, আজ তথ্য ও যোগাযোগ প...   \n",
       "1            1  স্পিন, স্পিন, স্পিন। লর্ডসে ইয়াসির শাহ্‌র লেগ ...   \n",
       "2            2  সিরিয়ার উত্তর-পশ্চিমাঞ্চলে গতকাল রোববার বিমান...   \n",
       "3            2  দক্ষিণ আফ্রিকার কেপটাউন বিশ্ববিদ্যালয়ের (ইউসিট...   \n",
       "4            4  সহজে ডিজিটাল আর্থিক সেবা দিতে অ্যাপ ও ডিজিটাল ...   \n",
       "...        ...                                                ...   \n",
       "98879        1  ১৯৫৯ সালে ইউরোপিয়ান ক্লাব কাপে জাতীয় দল পাঠান...   \n",
       "98880        5  গানের দল সহজিয়ার প্রথম অ্যালবাম ‘রঙমিস্ত্রী’র ...   \n",
       "98881        2  ফেসবুকের ৮১ হাজার ব্যবহারকারীর তথ্য চুরি করে স...   \n",
       "98882        0   পেট্রোল পাম্পে তেল বা সিএনজির বিল বিকাশের মাধ...   \n",
       "98883        0  বছর শেষে ঢাকা স্টক এক্সচেঞ্জের (ডিএসই) দুটি সূ...   \n",
       "\n",
       "                                               cleanText  \n",
       "0      অধ্যায় প্রিয় পরীক্ষার্থী তথ্য যোগাযোগ প্রযুক্ত...  \n",
       "1      স্পিন স্পিন স্পিন লর্ডসে ইয়াসির শাহ্ র লেগ স্প...  \n",
       "2      সিরিয়ার পশ্চিমাঞ্চলে গতকাল রোববার বিমান হামলা...  \n",
       "3      দক্ষিণ আফ্রিকার কেপটাউন বিশ্ববিদ্যালয়ের ইউসিটি...  \n",
       "4      সহজে ডিজিটাল আর্থিক সেবা অ্যাপ ডিজিটাল কেওয়াইস...  \n",
       "...                                                  ...  \n",
       "98879  সালে ইউরোপিয়ান ক্লাব কাপে জাতীয় পাঠানোর প্রস...  \n",
       "98880  গানের সহজিয়ার অ্যালবাম রঙমিস্ত্রী প্রকাশনা উত্...  \n",
       "98881  ফেসবুকের ব্যবহারকারীর তথ্য চুরি বিক্রির বিজ্ঞা...  \n",
       "98882  পেট্রোল পাম্পে তেল সিএনজির বিল বিকাশের পরিশোধ ...  \n",
       "98883  শেষে ঢাকা স্টক এক্সচেঞ্জের ডিএসই পুনঃসমন্বয় দু...  \n",
       "\n",
       "[98884 rows x 3 columns]"
      ]
     },
     "metadata": {},
     "output_type": "display_data"
    }
   ],
   "source": [
    "df_train[\"category\"].replace({\"economy\": \"0\", \"sports\": \"1\",\"international\": \"2\",\"state\": \"3\",\"technology\": \"4\",\"entertainment\": \"5\",\"education\": \"6\"}, inplace=True)\n",
    "df_test[\"category\"].replace({\"economy\": \"0\", \"sports\": \"1\",\"international\": \"2\",\"state\": \"3\",\"technology\": \"4\",\"entertainment\": \"5\",\"education\": \"6\"}, inplace=True)\n",
    "display(df_train)\n",
    "display(df_test)"
   ]
  },
  {
   "cell_type": "markdown",
   "id": "d45348f8",
   "metadata": {
    "papermill": {
     "duration": 0.054237,
     "end_time": "2021-10-19T14:10:17.243510",
     "exception": false,
     "start_time": "2021-10-19T14:10:17.189273",
     "status": "completed"
    },
    "tags": []
   },
   "source": [
    "# **Removing Null values**"
   ]
  },
  {
   "cell_type": "code",
   "execution_count": 13,
   "id": "e6adf07c",
   "metadata": {
    "execution": {
     "iopub.execute_input": "2021-10-19T14:10:17.580426Z",
     "iopub.status.busy": "2021-10-19T14:10:17.579708Z",
     "iopub.status.idle": "2021-10-19T14:10:17.794860Z",
     "shell.execute_reply": "2021-10-19T14:10:17.795393Z",
     "shell.execute_reply.started": "2021-10-19T13:56:19.627600Z"
    },
    "papermill": {
     "duration": 0.497666,
     "end_time": "2021-10-19T14:10:17.795592",
     "exception": false,
     "start_time": "2021-10-19T14:10:17.297926",
     "status": "completed"
    },
    "tags": []
   },
   "outputs": [],
   "source": [
    "#display non-null values\n",
    "df_train = df_train.dropna()\n",
    "df_test = df_test.dropna()"
   ]
  },
  {
   "cell_type": "markdown",
   "id": "a518692b",
   "metadata": {
    "papermill": {
     "duration": 0.064509,
     "end_time": "2021-10-19T14:10:17.915557",
     "exception": false,
     "start_time": "2021-10-19T14:10:17.851048",
     "status": "completed"
    },
    "tags": []
   },
   "source": [
    "# **Removing Small Texts**"
   ]
  },
  {
   "cell_type": "code",
   "execution_count": 14,
   "id": "9c053675",
   "metadata": {
    "execution": {
     "iopub.execute_input": "2021-10-19T14:10:18.096551Z",
     "iopub.status.busy": "2021-10-19T14:10:18.057111Z",
     "iopub.status.idle": "2021-10-19T14:10:26.194269Z",
     "shell.execute_reply": "2021-10-19T14:10:26.193584Z",
     "shell.execute_reply.started": "2021-10-19T13:56:20.109198Z"
    },
    "papermill": {
     "duration": 8.219598,
     "end_time": "2021-10-19T14:10:26.194417",
     "exception": false,
     "start_time": "2021-10-19T14:10:17.974819",
     "status": "completed"
    },
    "tags": []
   },
   "outputs": [],
   "source": [
    "#counting text length\n",
    "df_train['count'] = df_train['cleanText'].str.split().str.len()\n",
    "df_test['count'] = df_test['cleanText'].str.split().str.len()\n",
    "# Remove the text with words less than 5\n",
    "df_train= df_train.loc[df_train['count']>5]\n",
    "df_test= df_test.loc[df_test['count']>5]"
   ]
  },
  {
   "cell_type": "markdown",
   "id": "65c7a7d0",
   "metadata": {
    "papermill": {
     "duration": 0.054319,
     "end_time": "2021-10-19T14:10:26.303659",
     "exception": false,
     "start_time": "2021-10-19T14:10:26.249340",
     "status": "completed"
    },
    "tags": []
   },
   "source": [
    "# **Feature Extraction with TFIDF**"
   ]
  },
  {
   "cell_type": "markdown",
   "id": "94ea6cb6",
   "metadata": {
    "papermill": {
     "duration": 0.054269,
     "end_time": "2021-10-19T14:10:26.412200",
     "exception": false,
     "start_time": "2021-10-19T14:10:26.357931",
     "status": "completed"
    },
    "tags": []
   },
   "source": [
    "**I have tried to tune parameters for max_features and 10000 seems to provide better result**"
   ]
  },
  {
   "cell_type": "code",
   "execution_count": 15,
   "id": "ce36b995",
   "metadata": {
    "execution": {
     "iopub.execute_input": "2021-10-19T14:10:26.574359Z",
     "iopub.status.busy": "2021-10-19T14:10:26.558547Z",
     "iopub.status.idle": "2021-10-19T14:13:46.333110Z",
     "shell.execute_reply": "2021-10-19T14:13:46.331841Z",
     "shell.execute_reply.started": "2021-10-19T13:56:29.749391Z"
    },
    "papermill": {
     "duration": 199.866162,
     "end_time": "2021-10-19T14:13:46.333528",
     "exception": false,
     "start_time": "2021-10-19T14:10:26.467366",
     "status": "completed"
    },
    "tags": []
   },
   "outputs": [],
   "source": [
    "#max features 5000,10000,50000,100000\n",
    "text_transformer = TfidfVectorizer(ngram_range=(1, 3),lowercase=True, max_features=10000)\n",
    "#%%time\n",
    "X_train_text = text_transformer.fit_transform(df_train['cleanText'].values)\n",
    "X_test_text = text_transformer.transform(df_test['cleanText'].values)"
   ]
  },
  {
   "cell_type": "markdown",
   "id": "74207536",
   "metadata": {
    "papermill": {
     "duration": 0.055758,
     "end_time": "2021-10-19T14:13:46.449446",
     "exception": false,
     "start_time": "2021-10-19T14:13:46.393688",
     "status": "completed"
    },
    "tags": []
   },
   "source": [
    "# **Model Creation of Logistic Regression**"
   ]
  },
  {
   "cell_type": "markdown",
   "id": "6031a7a7",
   "metadata": {
    "papermill": {
     "duration": 0.054289,
     "end_time": "2021-10-19T14:13:46.558713",
     "exception": false,
     "start_time": "2021-10-19T14:13:46.504424",
     "status": "completed"
    },
    "tags": []
   },
   "source": [
    "**All the parameters are optimized by grid search.**"
   ]
  },
  {
   "cell_type": "code",
   "execution_count": 16,
   "id": "34d2f2ce",
   "metadata": {
    "execution": {
     "iopub.execute_input": "2021-10-19T14:13:46.673288Z",
     "iopub.status.busy": "2021-10-19T14:13:46.672585Z",
     "iopub.status.idle": "2021-10-19T14:13:46.677902Z",
     "shell.execute_reply": "2021-10-19T14:13:46.678480Z",
     "shell.execute_reply.started": "2021-10-19T13:59:58.316172Z"
    },
    "papermill": {
     "duration": 0.065256,
     "end_time": "2021-10-19T14:13:46.678650",
     "exception": false,
     "start_time": "2021-10-19T14:13:46.613394",
     "status": "completed"
    },
    "tags": []
   },
   "outputs": [],
   "source": [
    "#C_param_range = [0.001,0.01,0.1,1,10,100]\n",
    "#saga is proved best for large dataset\n",
    "logit = LogisticRegression(C=.95,penalty='l2',solver='saga', multi_class='multinomial', random_state=17, n_jobs=4)"
   ]
  },
  {
   "cell_type": "code",
   "execution_count": 17,
   "id": "5ac8f7b7",
   "metadata": {
    "execution": {
     "iopub.execute_input": "2021-10-19T14:13:46.791793Z",
     "iopub.status.busy": "2021-10-19T14:13:46.791026Z",
     "iopub.status.idle": "2021-10-19T14:14:00.390370Z",
     "shell.execute_reply": "2021-10-19T14:14:00.389694Z",
     "shell.execute_reply.started": "2021-10-19T13:59:58.323964Z"
    },
    "papermill": {
     "duration": 13.656772,
     "end_time": "2021-10-19T14:14:00.390544",
     "exception": false,
     "start_time": "2021-10-19T14:13:46.733772",
     "status": "completed"
    },
    "tags": []
   },
   "outputs": [],
   "source": [
    "model=logit.fit(X_train_text, df_train['category'].values)"
   ]
  },
  {
   "cell_type": "markdown",
   "id": "5162febb",
   "metadata": {
    "papermill": {
     "duration": 0.054201,
     "end_time": "2021-10-19T14:14:00.499196",
     "exception": false,
     "start_time": "2021-10-19T14:14:00.444995",
     "status": "completed"
    },
    "tags": []
   },
   "source": [
    "# **Model Creation of Multinomial Naive Bayes**"
   ]
  },
  {
   "cell_type": "markdown",
   "id": "aa3583bb",
   "metadata": {
    "papermill": {
     "duration": 0.054429,
     "end_time": "2021-10-19T14:14:00.607975",
     "exception": false,
     "start_time": "2021-10-19T14:14:00.553546",
     "status": "completed"
    },
    "tags": []
   },
   "source": [
    "**All the parameters are optimized by grid search.**"
   ]
  },
  {
   "cell_type": "code",
   "execution_count": 18,
   "id": "9b9c4931",
   "metadata": {
    "execution": {
     "iopub.execute_input": "2021-10-19T14:14:00.722634Z",
     "iopub.status.busy": "2021-10-19T14:14:00.721909Z",
     "iopub.status.idle": "2021-10-19T14:14:00.723919Z",
     "shell.execute_reply": "2021-10-19T14:14:00.723307Z",
     "shell.execute_reply.started": "2021-10-19T14:00:11.502144Z"
    },
    "papermill": {
     "duration": 0.061692,
     "end_time": "2021-10-19T14:14:00.724056",
     "exception": false,
     "start_time": "2021-10-19T14:14:00.662364",
     "status": "completed"
    },
    "tags": []
   },
   "outputs": [],
   "source": [
    "#0.5, 1.5, 6\n",
    "nb=MultinomialNB(alpha=1.5)"
   ]
  },
  {
   "cell_type": "code",
   "execution_count": 19,
   "id": "9a591233",
   "metadata": {
    "execution": {
     "iopub.execute_input": "2021-10-19T14:14:00.838348Z",
     "iopub.status.busy": "2021-10-19T14:14:00.837653Z",
     "iopub.status.idle": "2021-10-19T14:14:01.514541Z",
     "shell.execute_reply": "2021-10-19T14:14:01.515113Z",
     "shell.execute_reply.started": "2021-10-19T14:00:11.508704Z"
    },
    "papermill": {
     "duration": 0.736028,
     "end_time": "2021-10-19T14:14:01.515314",
     "exception": false,
     "start_time": "2021-10-19T14:14:00.779286",
     "status": "completed"
    },
    "tags": []
   },
   "outputs": [],
   "source": [
    "model=nb.fit(X_train_text, df_train['category'].values)"
   ]
  },
  {
   "cell_type": "markdown",
   "id": "13288ccd",
   "metadata": {
    "papermill": {
     "duration": 0.054564,
     "end_time": "2021-10-19T14:14:01.624411",
     "exception": false,
     "start_time": "2021-10-19T14:14:01.569847",
     "status": "completed"
    },
    "tags": []
   },
   "source": [
    "# **Logistic Regression Evaluation**"
   ]
  },
  {
   "cell_type": "code",
   "execution_count": 20,
   "id": "a9e81302",
   "metadata": {
    "execution": {
     "iopub.execute_input": "2021-10-19T14:14:01.736494Z",
     "iopub.status.busy": "2021-10-19T14:14:01.735849Z",
     "iopub.status.idle": "2021-10-19T14:14:03.507041Z",
     "shell.execute_reply": "2021-10-19T14:14:03.507735Z",
     "shell.execute_reply.started": "2021-10-19T14:00:12.189519Z"
    },
    "papermill": {
     "duration": 1.828902,
     "end_time": "2021-10-19T14:14:03.507916",
     "exception": false,
     "start_time": "2021-10-19T14:14:01.679014",
     "status": "completed"
    },
    "tags": []
   },
   "outputs": [
    {
     "name": "stdout",
     "output_type": "stream",
     "text": [
      "0.8858939893482121\n",
      "Testing Accuracy: 0.9156784174486432\n",
      "Precision :0.915713162947648\n",
      "Recall :0.9156784174486432\n",
      "fscore :0.9156376368750855\n"
     ]
    }
   ],
   "source": [
    "test_preds = logit.predict(X_test_text)\n",
    "test_labels=df_test['category'].values\n",
    "#print(accuracy_score(test_labels,test_preds))\n",
    "test_result=accuracy_score(test_labels,test_preds)\n",
    "\n",
    "precision, recall, fscore, _ = precision_recall_fscore_support(test_labels,test_preds, average='weighted')\n",
    "\n",
    "\n",
    "score = model.score(X_test_text,test_labels)\n",
    "print(score)\n",
    "\n",
    "\n",
    "print(\"Testing Accuracy: \"+str(test_result))\n",
    "\n",
    "print(\"Precision :\"+str(precision))\n",
    "print(\"Recall :\"+str(recall))\n",
    "print(\"fscore :\"+str(fscore))\n"
   ]
  },
  {
   "cell_type": "code",
   "execution_count": 21,
   "id": "d31c4535",
   "metadata": {
    "execution": {
     "iopub.execute_input": "2021-10-19T14:14:03.620964Z",
     "iopub.status.busy": "2021-10-19T14:14:03.620323Z",
     "iopub.status.idle": "2021-10-19T14:14:11.002670Z",
     "shell.execute_reply": "2021-10-19T14:14:11.003210Z",
     "shell.execute_reply.started": "2021-10-19T14:00:13.966089Z"
    },
    "papermill": {
     "duration": 7.440455,
     "end_time": "2021-10-19T14:14:11.003384",
     "exception": false,
     "start_time": "2021-10-19T14:14:03.562929",
     "status": "completed"
    },
    "tags": []
   },
   "outputs": [
    {
     "data": {
      "text/html": [
       "<div>\n",
       "<style scoped>\n",
       "    .dataframe tbody tr th:only-of-type {\n",
       "        vertical-align: middle;\n",
       "    }\n",
       "\n",
       "    .dataframe tbody tr th {\n",
       "        vertical-align: top;\n",
       "    }\n",
       "\n",
       "    .dataframe thead th {\n",
       "        text-align: right;\n",
       "    }\n",
       "</style>\n",
       "<table border=\"1\" class=\"dataframe\">\n",
       "  <thead>\n",
       "    <tr style=\"text-align: right;\">\n",
       "      <th></th>\n",
       "      <th>precision</th>\n",
       "      <th>recall</th>\n",
       "      <th>f1-score</th>\n",
       "      <th>support</th>\n",
       "    </tr>\n",
       "  </thead>\n",
       "  <tbody>\n",
       "    <tr>\n",
       "      <th>economy</th>\n",
       "      <td>88.73</td>\n",
       "      <td>89.76</td>\n",
       "      <td>89.25</td>\n",
       "      <td>14479.000000</td>\n",
       "    </tr>\n",
       "    <tr>\n",
       "      <th>sports</th>\n",
       "      <td>97.64</td>\n",
       "      <td>96.34</td>\n",
       "      <td>96.99</td>\n",
       "      <td>15865.000000</td>\n",
       "    </tr>\n",
       "    <tr>\n",
       "      <th>international</th>\n",
       "      <td>90.74</td>\n",
       "      <td>92.76</td>\n",
       "      <td>91.74</td>\n",
       "      <td>15313.000000</td>\n",
       "    </tr>\n",
       "    <tr>\n",
       "      <th>state</th>\n",
       "      <td>89.04</td>\n",
       "      <td>86.97</td>\n",
       "      <td>87.99</td>\n",
       "      <td>15183.000000</td>\n",
       "    </tr>\n",
       "    <tr>\n",
       "      <th>technology</th>\n",
       "      <td>88.51</td>\n",
       "      <td>87.08</td>\n",
       "      <td>87.79</td>\n",
       "      <td>9935.000000</td>\n",
       "    </tr>\n",
       "    <tr>\n",
       "      <th>entertainment</th>\n",
       "      <td>93.57</td>\n",
       "      <td>94.59</td>\n",
       "      <td>94.08</td>\n",
       "      <td>15242.000000</td>\n",
       "    </tr>\n",
       "    <tr>\n",
       "      <th>education</th>\n",
       "      <td>91.23</td>\n",
       "      <td>91.61</td>\n",
       "      <td>91.42</td>\n",
       "      <td>12558.000000</td>\n",
       "    </tr>\n",
       "    <tr>\n",
       "      <th>accuracy</th>\n",
       "      <td>91.57</td>\n",
       "      <td>91.57</td>\n",
       "      <td>91.57</td>\n",
       "      <td>0.915678</td>\n",
       "    </tr>\n",
       "    <tr>\n",
       "      <th>macro avg</th>\n",
       "      <td>91.35</td>\n",
       "      <td>91.30</td>\n",
       "      <td>91.32</td>\n",
       "      <td>98575.000000</td>\n",
       "    </tr>\n",
       "    <tr>\n",
       "      <th>weighted avg</th>\n",
       "      <td>91.57</td>\n",
       "      <td>91.57</td>\n",
       "      <td>91.56</td>\n",
       "      <td>98575.000000</td>\n",
       "    </tr>\n",
       "  </tbody>\n",
       "</table>\n",
       "</div>"
      ],
      "text/plain": [
       "               precision  recall  f1-score       support\n",
       "economy            88.73   89.76     89.25  14479.000000\n",
       "sports             97.64   96.34     96.99  15865.000000\n",
       "international      90.74   92.76     91.74  15313.000000\n",
       "state              89.04   86.97     87.99  15183.000000\n",
       "technology         88.51   87.08     87.79   9935.000000\n",
       "entertainment      93.57   94.59     94.08  15242.000000\n",
       "education          91.23   91.61     91.42  12558.000000\n",
       "accuracy           91.57   91.57     91.57      0.915678\n",
       "macro avg          91.35   91.30     91.32  98575.000000\n",
       "weighted avg       91.57   91.57     91.56  98575.000000"
      ]
     },
     "metadata": {},
     "output_type": "display_data"
    },
    {
     "data": {
      "image/png": "[encoded data removed]",
      "text/plain": [
       "<Figure size 648x648 with 2 Axes>"
      ]
     },
     "metadata": {
      "needs_background": "light"
     },
     "output_type": "display_data"
    }
   ],
   "source": [
    "cm = metrics.confusion_matrix(test_labels,test_preds)\n",
    "plt.figure(figsize=(9,9))\n",
    "cm_df = pd.DataFrame(cm,index = ['economy' ,'sports' ,'international', 'state','technology', 'entertainment', 'education'], \n",
    "                     columns = ['economy' ,'sports' ,'international', 'state','technology', 'entertainment', 'education'])\n",
    "\n",
    "sns.heatmap(cm_df, annot=True, fmt=\".3f\", linewidths=.5, square = True, cmap = 'Blues_r');\n",
    "plt.ylabel('Actual label');\n",
    "plt.xlabel('Predicted label');\n",
    "all_sample_title = 'Accuracy Score Logistic Regression: {0}'.format(score)\n",
    "plt.title(all_sample_title, size = 15);\n",
    "\n",
    "report = pd.DataFrame(classification_report(y_true = test_labels, y_pred = test_preds, output_dict=True)).transpose()\n",
    "report = report.rename(index={'0': 'economy','1':'sports','2':'international','3':'state','4':'technology','5':'entertainment','6':'education'})\n",
    "report[['precision','recall','f1-score']]=report[['precision','recall','f1-score']].apply(lambda x: round(x*100,2))\n",
    "display(report)"
   ]
  },
  {
   "cell_type": "markdown",
   "id": "d52ed2be",
   "metadata": {
    "papermill": {
     "duration": 0.059941,
     "end_time": "2021-10-19T14:14:11.121924",
     "exception": false,
     "start_time": "2021-10-19T14:14:11.061983",
     "status": "completed"
    },
    "tags": []
   },
   "source": [
    "# **Multinomial Naive Bayes Evaluation**"
   ]
  },
  {
   "cell_type": "code",
   "execution_count": 22,
   "id": "1c1d4a96",
   "metadata": {
    "execution": {
     "iopub.execute_input": "2021-10-19T14:14:11.244880Z",
     "iopub.status.busy": "2021-10-19T14:14:11.243841Z",
     "iopub.status.idle": "2021-10-19T14:14:16.626160Z",
     "shell.execute_reply": "2021-10-19T14:14:16.626682Z",
     "shell.execute_reply.started": "2021-10-19T14:00:21.248822Z"
    },
    "papermill": {
     "duration": 5.44609,
     "end_time": "2021-10-19T14:14:16.626849",
     "exception": false,
     "start_time": "2021-10-19T14:14:11.180759",
     "status": "completed"
    },
    "tags": []
   },
   "outputs": [
    {
     "name": "stdout",
     "output_type": "stream",
     "text": [
      "0.8858939893482121\n",
      "Testing Accuracy: 0.8858939893482121\n",
      "Precision :0.8863059851681149\n",
      "Recall :0.8858939893482121\n",
      "fscore :0.8859202000415151\n"
     ]
    },
    {
     "data": {
      "text/html": [
       "<div>\n",
       "<style scoped>\n",
       "    .dataframe tbody tr th:only-of-type {\n",
       "        vertical-align: middle;\n",
       "    }\n",
       "\n",
       "    .dataframe tbody tr th {\n",
       "        vertical-align: top;\n",
       "    }\n",
       "\n",
       "    .dataframe thead th {\n",
       "        text-align: right;\n",
       "    }\n",
       "</style>\n",
       "<table border=\"1\" class=\"dataframe\">\n",
       "  <thead>\n",
       "    <tr style=\"text-align: right;\">\n",
       "      <th></th>\n",
       "      <th>precision</th>\n",
       "      <th>recall</th>\n",
       "      <th>f1-score</th>\n",
       "      <th>support</th>\n",
       "    </tr>\n",
       "  </thead>\n",
       "  <tbody>\n",
       "    <tr>\n",
       "      <th>economy</th>\n",
       "      <td>86.60</td>\n",
       "      <td>85.93</td>\n",
       "      <td>86.26</td>\n",
       "      <td>14479.000000</td>\n",
       "    </tr>\n",
       "    <tr>\n",
       "      <th>sports</th>\n",
       "      <td>96.72</td>\n",
       "      <td>94.34</td>\n",
       "      <td>95.51</td>\n",
       "      <td>15865.000000</td>\n",
       "    </tr>\n",
       "    <tr>\n",
       "      <th>international</th>\n",
       "      <td>87.87</td>\n",
       "      <td>90.51</td>\n",
       "      <td>89.17</td>\n",
       "      <td>15313.000000</td>\n",
       "    </tr>\n",
       "    <tr>\n",
       "      <th>state</th>\n",
       "      <td>84.24</td>\n",
       "      <td>82.68</td>\n",
       "      <td>83.46</td>\n",
       "      <td>15183.000000</td>\n",
       "    </tr>\n",
       "    <tr>\n",
       "      <th>technology</th>\n",
       "      <td>82.73</td>\n",
       "      <td>86.08</td>\n",
       "      <td>84.37</td>\n",
       "      <td>9935.000000</td>\n",
       "    </tr>\n",
       "    <tr>\n",
       "      <th>entertainment</th>\n",
       "      <td>90.42</td>\n",
       "      <td>93.05</td>\n",
       "      <td>91.72</td>\n",
       "      <td>15242.000000</td>\n",
       "    </tr>\n",
       "    <tr>\n",
       "      <th>education</th>\n",
       "      <td>89.47</td>\n",
       "      <td>85.76</td>\n",
       "      <td>87.58</td>\n",
       "      <td>12558.000000</td>\n",
       "    </tr>\n",
       "    <tr>\n",
       "      <th>accuracy</th>\n",
       "      <td>88.59</td>\n",
       "      <td>88.59</td>\n",
       "      <td>88.59</td>\n",
       "      <td>0.885894</td>\n",
       "    </tr>\n",
       "    <tr>\n",
       "      <th>macro avg</th>\n",
       "      <td>88.29</td>\n",
       "      <td>88.34</td>\n",
       "      <td>88.30</td>\n",
       "      <td>98575.000000</td>\n",
       "    </tr>\n",
       "    <tr>\n",
       "      <th>weighted avg</th>\n",
       "      <td>88.63</td>\n",
       "      <td>88.59</td>\n",
       "      <td>88.59</td>\n",
       "      <td>98575.000000</td>\n",
       "    </tr>\n",
       "  </tbody>\n",
       "</table>\n",
       "</div>"
      ],
      "text/plain": [
       "               precision  recall  f1-score       support\n",
       "economy            86.60   85.93     86.26  14479.000000\n",
       "sports             96.72   94.34     95.51  15865.000000\n",
       "international      87.87   90.51     89.17  15313.000000\n",
       "state              84.24   82.68     83.46  15183.000000\n",
       "technology         82.73   86.08     84.37   9935.000000\n",
       "entertainment      90.42   93.05     91.72  15242.000000\n",
       "education          89.47   85.76     87.58  12558.000000\n",
       "accuracy           88.59   88.59     88.59      0.885894\n",
       "macro avg          88.29   88.34     88.30  98575.000000\n",
       "weighted avg       88.63   88.59     88.59  98575.000000"
      ]
     },
     "metadata": {},
     "output_type": "display_data"
    },
    {
     "data": {
      "image/png": "[encoded data removed]",
      "text/plain": [
       "<Figure size 648x648 with 2 Axes>"
      ]
     },
     "metadata": {
      "needs_background": "light"
     },
     "output_type": "display_data"
    }
   ],
   "source": [
    "test_preds = nb.predict(X_test_text)\n",
    "test_labels=df_test['category'].values\n",
    "#print(accuracy_score(test_labels,test_preds))\n",
    "test_result=accuracy_score(test_labels,test_preds)\n",
    "\n",
    "precision, recall, fscore, _ = precision_recall_fscore_support(test_labels,test_preds, average='weighted')\n",
    "\n",
    "\n",
    "score = model.score(X_test_text,test_labels)\n",
    "print(score)\n",
    "\n",
    "\n",
    "print(\"Testing Accuracy: \"+str(test_result))\n",
    "\n",
    "print(\"Precision :\"+str(precision))\n",
    "print(\"Recall :\"+str(recall))\n",
    "print(\"fscore :\"+str(fscore))\n",
    "\n",
    "\n",
    "cm = metrics.confusion_matrix(test_labels,test_preds)\n",
    "cm_df = pd.DataFrame(cm,index = ['economy' ,'sports' ,'international', 'state','technology', 'entertainment', 'education'], \n",
    "                     columns = ['economy' ,'sports' ,'international', 'state','technology', 'entertainment', 'education'])\n",
    "\n",
    "\n",
    "plt.figure(figsize=(9,9))\n",
    "sns.heatmap(cm_df, annot=True, fmt=\".3f\", linewidths=.5, square = True, cmap = 'Blues_r');\n",
    "plt.ylabel('Actual label');\n",
    "plt.xlabel('Predicted label');\n",
    "all_sample_title = 'Accuracy Score Multinomial NB: {0}'.format(score)\n",
    "plt.title(all_sample_title, size = 15);\n",
    "\n",
    "report = pd.DataFrame(classification_report(y_true = test_labels, y_pred = test_preds, output_dict=True)).transpose()\n",
    "report = report.rename(index={'0': 'economy','1':'sports','2':'international','3':'state','4':'technology','5':'entertainment','6':'education'})\n",
    "report[['precision','recall','f1-score']]=report[['precision','recall','f1-score']].apply(lambda x: round(x*100,2))\n",
    "display(report)"
   ]
  },
  {
   "cell_type": "markdown",
   "id": "321bedcb",
   "metadata": {
    "papermill": {
     "duration": 0.061162,
     "end_time": "2021-10-19T14:14:16.749931",
     "exception": false,
     "start_time": "2021-10-19T14:14:16.688769",
     "status": "completed"
    },
    "tags": []
   },
   "source": [
    "# **Conclusion**\n",
    "**After Hyperparameter Tuning and comparing the evaluation measures, we can say that Logistic Regression provides better result.**"
   ]
  },
  {
   "cell_type": "code",
   "execution_count": null,
   "id": "3f48ca85",
   "metadata": {
    "papermill": {
     "duration": 0.06684,
     "end_time": "2021-10-19T14:14:16.878579",
     "exception": false,
     "start_time": "2021-10-19T14:14:16.811739",
     "status": "completed"
    },
    "tags": []
   },
   "outputs": [],
   "source": []
  },
  {
   "cell_type": "code",
   "execution_count": null,
   "id": "4e80ed08",
   "metadata": {
    "papermill": {
     "duration": 0.064669,
     "end_time": "2021-10-19T14:14:17.004729",
     "exception": false,
     "start_time": "2021-10-19T14:14:16.940060",
     "status": "completed"
    },
    "tags": []
   },
   "outputs": [],
   "source": []
  },
  {
   "cell_type": "code",
   "execution_count": null,
   "id": "ad77d89a",
   "metadata": {
    "papermill": {
     "duration": 0.063641,
     "end_time": "2021-10-19T14:14:17.134541",
     "exception": false,
     "start_time": "2021-10-19T14:14:17.070900",
     "status": "completed"
    },
    "tags": []
   },
   "outputs": [],
   "source": []
  },
  {
   "cell_type": "code",
   "execution_count": null,
   "id": "62e6b0aa",
   "metadata": {
    "papermill": {
     "duration": 0.06131,
     "end_time": "2021-10-19T14:14:17.257598",
     "exception": false,
     "start_time": "2021-10-19T14:14:17.196288",
     "status": "completed"
    },
    "tags": []
   },
   "outputs": [],
   "source": []
  }
 ],
 "metadata": {
  "kernelspec": {
   "display_name": "Python 3",
   "language": "python",
   "name": "python3"
  },
  "language_info": {
   "codemirror_mode": {
    "name": "ipython",
    "version": 3
   },
   "file_extension": ".py",
   "mimetype": "text/x-python",
   "name": "python",
   "nbconvert_exporter": "python",
   "pygments_lexer": "ipython3",
   "version": "3.7.10"
  },
  "papermill": {
   "default_parameters": {},
   "duration": 680.74411,
   "end_time": "2021-10-19T14:14:20.136520",
   "environment_variables": {},
   "exception": null,
   "input_path": "__notebook__.ipynb",
   "output_path": "__notebook__.ipynb",
   "parameters": {},
   "start_time": "2021-10-19T14:02:59.392410",
   "version": "2.3.3"
  }
 },
 "nbformat": 4,
 "nbformat_minor": 5
}
