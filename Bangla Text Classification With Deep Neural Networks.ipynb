{
 "cells": [
  {
   "cell_type": "code",
   "execution_count": 1,
   "id": "5509e5fc",
   "metadata": {
    "_cell_guid": "b1076dfc-b9ad-4769-8c92-a6c4dae69d19",
    "_uuid": "8f2839f25d086af736a60e9eeb907d3b93b6e0e5",
    "execution": {
     "iopub.execute_input": "2021-10-19T15:49:54.148628Z",
     "iopub.status.busy": "2021-10-19T15:49:54.147146Z",
     "iopub.status.idle": "2021-10-19T15:49:54.255845Z",
     "shell.execute_reply": "2021-10-19T15:49:54.256564Z",
     "shell.execute_reply.started": "2021-10-19T15:11:58.016130Z"
    },
    "papermill": {
     "duration": 0.145271,
     "end_time": "2021-10-19T15:49:54.256874",
     "exception": false,
     "start_time": "2021-10-19T15:49:54.111603",
     "status": "completed"
    },
    "tags": []
   },
   "outputs": [
    {
     "name": "stdout",
     "output_type": "stream",
     "text": [
      "/kaggle/input/bangla-stopwords/stopwords_bangla.xlsx\n",
      "/kaggle/input/banglamct7-bangla-multiclass-text-dataset-7-tags/BanglaMCT7/train.csv\n",
      "/kaggle/input/banglamct7-bangla-multiclass-text-dataset-7-tags/BanglaMCT7/test.csv\n",
      "/kaggle/input/siyam-rupali-text/Siyamrupali.ttf\n"
     ]
    }
   ],
   "source": [
    "# This Python 3 environment comes with many helpful analytics libraries installed\n",
    "# It is defined by the kaggle/python Docker image: https://github.com/kaggle/docker-python\n",
    "# For example, here's several helpful packages to load\n",
    "\n",
    "import numpy as np # linear algebra\n",
    "import pandas as pd # data processing, CSV file I/O (e.g. pd.read_csv)\n",
    "\n",
    "# Input data files are available in the read-only \"../input/\" directory\n",
    "# For example, running this (by clicking run or pressing Shift+Enter) will list all files under the input directory\n",
    "\n",
    "import os\n",
    "for dirname, _, filenames in os.walk('/kaggle/input'):\n",
    "    for filename in filenames:\n",
    "        print(os.path.join(dirname, filename))\n",
    "\n",
    "# You can write up to 20GB to the current directory (/kaggle/working/) that gets preserved as output when you create a version using \"Save & Run All\" \n",
    "# You can also write temporary files to /kaggle/temp/, but they won't be saved outside of the current session"
   ]
  },
  {
   "cell_type": "markdown",
   "id": "195a1b41",
   "metadata": {
    "papermill": {
     "duration": 0.029067,
     "end_time": "2021-10-19T15:49:54.318085",
     "exception": false,
     "start_time": "2021-10-19T15:49:54.289018",
     "status": "completed"
    },
    "tags": []
   },
   "source": [
    "# **Updating/Instaling Libraries**"
   ]
  },
  {
   "cell_type": "code",
   "execution_count": 2,
   "id": "c30e7e89",
   "metadata": {
    "execution": {
     "iopub.execute_input": "2021-10-19T15:49:54.382125Z",
     "iopub.status.busy": "2021-10-19T15:49:54.381546Z",
     "iopub.status.idle": "2021-10-19T15:50:10.309665Z",
     "shell.execute_reply": "2021-10-19T15:50:10.310122Z",
     "shell.execute_reply.started": "2021-10-19T15:11:58.181003Z"
    },
    "papermill": {
     "duration": 15.963129,
     "end_time": "2021-10-19T15:50:10.310307",
     "exception": false,
     "start_time": "2021-10-19T15:49:54.347178",
     "status": "completed"
    },
    "tags": []
   },
   "outputs": [
    {
     "name": "stdout",
     "output_type": "stream",
     "text": [
      "Collecting xlrd==1.2.0\r\n",
      "  Downloading xlrd-1.2.0-py2.py3-none-any.whl (103 kB)\r\n",
      "\u001b[K     |████████████████████████████████| 103 kB 5.7 MB/s \r\n",
      "\u001b[?25hInstalling collected packages: xlrd\r\n",
      "Successfully installed xlrd-1.2.0\r\n",
      "\u001b[33mWARNING: Running pip as the 'root' user can result in broken permissions and conflicting behaviour with the system package manager. It is recommended to use a virtual environment instead: https://pip.pypa.io/warnings/venv\u001b[0m\r\n",
      "Collecting openpyxl\r\n",
      "  Downloading openpyxl-3.0.9-py2.py3-none-any.whl (242 kB)\r\n",
      "\u001b[K     |████████████████████████████████| 242 kB 4.5 MB/s \r\n",
      "\u001b[?25hCollecting et-xmlfile\r\n",
      "  Downloading et_xmlfile-1.1.0-py3-none-any.whl (4.7 kB)\r\n",
      "Installing collected packages: et-xmlfile, openpyxl\r\n",
      "Successfully installed et-xmlfile-1.1.0 openpyxl-3.0.9\r\n",
      "\u001b[33mWARNING: Running pip as the 'root' user can result in broken permissions and conflicting behaviour with the system package manager. It is recommended to use a virtual environment instead: https://pip.pypa.io/warnings/venv\u001b[0m\r\n"
     ]
    }
   ],
   "source": [
    "#!pip install keras\n",
    "#!pip install --upgrade tensorflow\n",
    "#!pip install --upgrade tensorflow-gpu\n",
    "!pip install xlrd==1.2.0\n",
    "!pip install openpyxl"
   ]
  },
  {
   "cell_type": "code",
   "execution_count": 3,
   "id": "34bf1e6b",
   "metadata": {
    "execution": {
     "iopub.execute_input": "2021-10-19T15:50:10.386550Z",
     "iopub.status.busy": "2021-10-19T15:50:10.385733Z",
     "iopub.status.idle": "2021-10-19T15:50:16.139542Z",
     "shell.execute_reply": "2021-10-19T15:50:16.139067Z",
     "shell.execute_reply.started": "2021-10-19T15:12:18.451761Z"
    },
    "papermill": {
     "duration": 5.795641,
     "end_time": "2021-10-19T15:50:16.139673",
     "exception": false,
     "start_time": "2021-10-19T15:50:10.344032",
     "status": "completed"
    },
    "tags": []
   },
   "outputs": [
    {
     "name": "stderr",
     "output_type": "stream",
     "text": [
      "2021-10-19 15:50:11.751381: I tensorflow/stream_executor/platform/default/dso_loader.cc:49] Successfully opened dynamic library libcudart.so.11.0\n"
     ]
    }
   ],
   "source": [
    "import pandas as pd\n",
    "from pandas import read_excel\n",
    "import numpy as np\n",
    "import re\n",
    "from re import sub\n",
    "import multiprocessing\n",
    "from unidecode import unidecode\n",
    "import os\n",
    "from time import time \n",
    "\n",
    "\n",
    "from sklearn import metrics\n",
    "import tensorflow as tf\n",
    "from tensorflow import keras\n",
    "from tensorflow.keras import layers\n",
    "from tensorflow.python.keras.layers import LSTM,Dense,Dropout,Activation,Embedding,Flatten,Bidirectional,MaxPooling2D, Conv1D, MaxPooling1D\n",
    "from tensorflow.python.keras.models import Sequential\n",
    "\n",
    "from tensorflow.keras.optimizers import SGD,Adam\n",
    "from tensorflow.keras import regularizers\n",
    "\n",
    "from tensorflow.keras.preprocessing.text import Tokenizer\n",
    "from tensorflow.keras.preprocessing.sequence import pad_sequences\n",
    "from tensorflow.keras.utils import to_categorical\n",
    "\n",
    "\n",
    "import h5py\n",
    "import csv\n",
    "import seaborn as sns\n",
    "import matplotlib.pyplot as plt\n",
    "from sklearn.model_selection import train_test_split\n",
    "from sklearn.model_selection import StratifiedKFold\n",
    "from sklearn.metrics import precision_recall_fscore_support\n",
    "from sklearn.metrics import accuracy_score\n",
    "from sklearn.metrics import classification_report \n",
    "\n",
    "\n",
    "from nltk.corpus import stopwords\n",
    "import nltk\n",
    "import re\n",
    "from nltk.stem import WordNetLemmatizer\n",
    "import string\n",
    "from nltk.tokenize import word_tokenize\n",
    "from nltk.util import ngrams"
   ]
  },
  {
   "cell_type": "markdown",
   "id": "ffa92c22",
   "metadata": {
    "papermill": {
     "duration": 0.033638,
     "end_time": "2021-10-19T15:50:16.206566",
     "exception": false,
     "start_time": "2021-10-19T15:50:16.172928",
     "status": "completed"
    },
    "tags": []
   },
   "source": [
    "# **Loading Dataset**"
   ]
  },
  {
   "cell_type": "code",
   "execution_count": 4,
   "id": "d07d67c6",
   "metadata": {
    "execution": {
     "iopub.execute_input": "2021-10-19T15:50:16.281861Z",
     "iopub.status.busy": "2021-10-19T15:50:16.281249Z",
     "iopub.status.idle": "2021-10-19T15:50:48.911966Z",
     "shell.execute_reply": "2021-10-19T15:50:48.911463Z",
     "shell.execute_reply.started": "2021-10-19T15:12:25.453355Z"
    },
    "papermill": {
     "duration": 32.6727,
     "end_time": "2021-10-19T15:50:48.912114",
     "exception": false,
     "start_time": "2021-10-19T15:50:16.239414",
     "status": "completed"
    },
    "tags": []
   },
   "outputs": [],
   "source": [
    "df_train=pd.read_csv(\"/kaggle/input/banglamct7-bangla-multiclass-text-dataset-7-tags/BanglaMCT7/train.csv\")\n",
    "df_test=pd.read_csv(\"/kaggle/input/banglamct7-bangla-multiclass-text-dataset-7-tags/BanglaMCT7/test.csv\")\n"
   ]
  },
  {
   "cell_type": "code",
   "execution_count": 5,
   "id": "39798f97",
   "metadata": {
    "execution": {
     "iopub.execute_input": "2021-10-19T15:50:49.007522Z",
     "iopub.status.busy": "2021-10-19T15:50:49.006519Z",
     "iopub.status.idle": "2021-10-19T15:50:56.895342Z",
     "shell.execute_reply": "2021-10-19T15:50:56.895901Z",
     "shell.execute_reply.started": "2021-10-19T15:12:59.151777Z"
    },
    "papermill": {
     "duration": 7.950669,
     "end_time": "2021-10-19T15:50:56.896111",
     "exception": false,
     "start_time": "2021-10-19T15:50:48.945442",
     "status": "completed"
    },
    "tags": []
   },
   "outputs": [
    {
     "data": {
      "text/html": [
       "<div>\n",
       "<style scoped>\n",
       "    .dataframe tbody tr th:only-of-type {\n",
       "        vertical-align: middle;\n",
       "    }\n",
       "\n",
       "    .dataframe tbody tr th {\n",
       "        vertical-align: top;\n",
       "    }\n",
       "\n",
       "    .dataframe thead th {\n",
       "        text-align: right;\n",
       "    }\n",
       "</style>\n",
       "<table border=\"1\" class=\"dataframe\">\n",
       "  <thead>\n",
       "    <tr style=\"text-align: right;\">\n",
       "      <th></th>\n",
       "      <th>category</th>\n",
       "      <th>text</th>\n",
       "      <th>cleanText</th>\n",
       "      <th>count</th>\n",
       "    </tr>\n",
       "  </thead>\n",
       "  <tbody>\n",
       "    <tr>\n",
       "      <th>0</th>\n",
       "      <td>economy</td>\n",
       "      <td>বাংলাদেশে সফররত বিশ্ব বাণিজ্য সংস্থা (ডব্লিউট...</td>\n",
       "      <td>বাংলাদেশে    সফররত    বিশ্ব    বাণিজ্য    সং...</td>\n",
       "      <td>293</td>\n",
       "    </tr>\n",
       "    <tr>\n",
       "      <th>1</th>\n",
       "      <td>sports</td>\n",
       "      <td>ইউরোপিয়ান ফুটবলে আজ ঝড় বয়ে যাচ্ছে। একদিকে সংবা...</td>\n",
       "      <td>ইউরোপিয়ান    ফুটবলে    বয়ে    একদিকে    সংবা...</td>\n",
       "      <td>206</td>\n",
       "    </tr>\n",
       "    <tr>\n",
       "      <th>2</th>\n",
       "      <td>international</td>\n",
       "      <td>বিজেপির নেতৃত্বে ভারতের উত্তর প্রদেশ থেকে শুরু...</td>\n",
       "      <td>বিজেপির    নেতৃত্বে    ভারতের    উত্তর    প্...</td>\n",
       "      <td>167</td>\n",
       "    </tr>\n",
       "    <tr>\n",
       "      <th>3</th>\n",
       "      <td>state</td>\n",
       "      <td>নারায়ণগঞ্জের সোনারগাঁ উপজেলার একটি সরকারি প্র...</td>\n",
       "      <td>নারায়ণগঞ্জের    সোনারগাঁ    উপজেলার    সরকা...</td>\n",
       "      <td>181</td>\n",
       "    </tr>\n",
       "    <tr>\n",
       "      <th>4</th>\n",
       "      <td>sports</td>\n",
       "      <td>‘ছাই থেকে ছাই, ধুলো থেকে ধুলো...’ আধ্যাত্মিক ক...</td>\n",
       "      <td>ছাই    ছাই    ধুলো    ধুলো    আধ্যাত্মিক    ...</td>\n",
       "      <td>148</td>\n",
       "    </tr>\n",
       "    <tr>\n",
       "      <th>...</th>\n",
       "      <td>...</td>\n",
       "      <td>...</td>\n",
       "      <td>...</td>\n",
       "      <td>...</td>\n",
       "    </tr>\n",
       "    <tr>\n",
       "      <th>98878</th>\n",
       "      <td>education</td>\n",
       "      <td>সহকারী অধ্যাপক  টিচার্স ট্রেনিং কলেজ (মহিলা)...</td>\n",
       "      <td>সহকারী    অধ্যাপক    টিচার্স    ট্রেনিং    ক...</td>\n",
       "      <td>389</td>\n",
       "    </tr>\n",
       "    <tr>\n",
       "      <th>98879</th>\n",
       "      <td>entertainment</td>\n",
       "      <td>অক্টোবরের ১১ তারিখে ৭৫ বছর পূর্ণ করবেন অমিতাভ ...</td>\n",
       "      <td>অক্টোবরের    তারিখে    বছর    পূর্ণ    অমিতা...</td>\n",
       "      <td>147</td>\n",
       "    </tr>\n",
       "    <tr>\n",
       "      <th>98880</th>\n",
       "      <td>technology</td>\n",
       "      <td>কাজী নাঈম আল রশিদ। সফটওয়্যার প্রকৌশলী। কাজ করে...</td>\n",
       "      <td>কাজী    নাঈম    রশিদ    সফটওয়্যার    প্রকৌশল...</td>\n",
       "      <td>673</td>\n",
       "    </tr>\n",
       "    <tr>\n",
       "      <th>98881</th>\n",
       "      <td>technology</td>\n",
       "      <td>ইয়াহুকে মার্কিন টেলিকম প্রতিষ্ঠান ভেরাইজন কিনে...</td>\n",
       "      <td>ইয়াহুকে    মার্কিন    টেলিকম    প্রতিষ্ঠান  ...</td>\n",
       "      <td>161</td>\n",
       "    </tr>\n",
       "    <tr>\n",
       "      <th>98882</th>\n",
       "      <td>education</td>\n",
       "      <td>অধ্যায়-১১প্রিয় শিক্ষার্থী, আজ ফিন্যান্স ও ব্যা...</td>\n",
       "      <td>অধ্যায়    প্রিয়    শিক্ষার্থী    ফিন্যান্স  ...</td>\n",
       "      <td>204</td>\n",
       "    </tr>\n",
       "  </tbody>\n",
       "</table>\n",
       "<p>98883 rows × 4 columns</p>\n",
       "</div>"
      ],
      "text/plain": [
       "            category                                               text  \\\n",
       "0            economy   বাংলাদেশে সফররত বিশ্ব বাণিজ্য সংস্থা (ডব্লিউট...   \n",
       "1             sports  ইউরোপিয়ান ফুটবলে আজ ঝড় বয়ে যাচ্ছে। একদিকে সংবা...   \n",
       "2      international  বিজেপির নেতৃত্বে ভারতের উত্তর প্রদেশ থেকে শুরু...   \n",
       "3              state  নারায়ণগঞ্জের সোনারগাঁ উপজেলার একটি সরকারি প্র...   \n",
       "4             sports  ‘ছাই থেকে ছাই, ধুলো থেকে ধুলো...’ আধ্যাত্মিক ক...   \n",
       "...              ...                                                ...   \n",
       "98878      education    সহকারী অধ্যাপক  টিচার্স ট্রেনিং কলেজ (মহিলা)...   \n",
       "98879  entertainment  অক্টোবরের ১১ তারিখে ৭৫ বছর পূর্ণ করবেন অমিতাভ ...   \n",
       "98880     technology  কাজী নাঈম আল রশিদ। সফটওয়্যার প্রকৌশলী। কাজ করে...   \n",
       "98881     technology  ইয়াহুকে মার্কিন টেলিকম প্রতিষ্ঠান ভেরাইজন কিনে...   \n",
       "98882      education  অধ্যায়-১১প্রিয় শিক্ষার্থী, আজ ফিন্যান্স ও ব্যা...   \n",
       "\n",
       "                                               cleanText  count  \n",
       "0        বাংলাদেশে    সফররত    বিশ্ব    বাণিজ্য    সং...    293  \n",
       "1        ইউরোপিয়ান    ফুটবলে    বয়ে    একদিকে    সংবা...    206  \n",
       "2        বিজেপির    নেতৃত্বে    ভারতের    উত্তর    প্...    167  \n",
       "3        নারায়ণগঞ্জের    সোনারগাঁ    উপজেলার    সরকা...    181  \n",
       "4        ছাই    ছাই    ধুলো    ধুলো    আধ্যাত্মিক    ...    148  \n",
       "...                                                  ...    ...  \n",
       "98878    সহকারী    অধ্যাপক    টিচার্স    ট্রেনিং    ক...    389  \n",
       "98879    অক্টোবরের    তারিখে    বছর    পূর্ণ    অমিতা...    147  \n",
       "98880    কাজী    নাঈম    রশিদ    সফটওয়্যার    প্রকৌশল...    673  \n",
       "98881    ইয়াহুকে    মার্কিন    টেলিকম    প্রতিষ্ঠান  ...    161  \n",
       "98882    অধ্যায়    প্রিয়    শিক্ষার্থী    ফিন্যান্স  ...    204  \n",
       "\n",
       "[98883 rows x 4 columns]"
      ]
     },
     "metadata": {},
     "output_type": "display_data"
    },
    {
     "name": "stdout",
     "output_type": "stream",
     "text": [
      "<class 'pandas.core.frame.DataFrame'>\n",
      "RangeIndex: 98883 entries, 0 to 98882\n",
      "Data columns (total 4 columns):\n",
      " #   Column     Non-Null Count  Dtype \n",
      "---  ------     --------------  ----- \n",
      " 0   category   98883 non-null  object\n",
      " 1   text       98883 non-null  object\n",
      " 2   cleanText  98883 non-null  object\n",
      " 3   count      98883 non-null  int64 \n",
      "dtypes: int64(1), object(3)\n",
      "memory usage: 3.0+ MB\n",
      "['economy' 'sports' 'international' 'state' 'technology' 'entertainment'\n",
      " 'education']\n"
     ]
    }
   ],
   "source": [
    "\n",
    "df_train['count'] = df_train['cleanText'].str.split().str.len()\n",
    "df_test['count'] = df_test['cleanText'].str.split().str.len()\n",
    "display(df_train)\n",
    "df_train.head()\n",
    "df_train.describe()\n",
    "df_train.info()\n",
    "print(df_train.category.unique())"
   ]
  },
  {
   "cell_type": "code",
   "execution_count": 6,
   "id": "e592e85d",
   "metadata": {
    "execution": {
     "iopub.execute_input": "2021-10-19T15:50:56.978464Z",
     "iopub.status.busy": "2021-10-19T15:50:56.973835Z",
     "iopub.status.idle": "2021-10-19T15:50:57.036246Z",
     "shell.execute_reply": "2021-10-19T15:50:57.036681Z",
     "shell.execute_reply.started": "2021-10-19T15:13:07.328735Z"
    },
    "papermill": {
     "duration": 0.105641,
     "end_time": "2021-10-19T15:50:57.036829",
     "exception": false,
     "start_time": "2021-10-19T15:50:56.931188",
     "status": "completed"
    },
    "tags": []
   },
   "outputs": [
    {
     "data": {
      "text/html": [
       "<div>\n",
       "<style scoped>\n",
       "    .dataframe tbody tr th:only-of-type {\n",
       "        vertical-align: middle;\n",
       "    }\n",
       "\n",
       "    .dataframe tbody tr th {\n",
       "        vertical-align: top;\n",
       "    }\n",
       "\n",
       "    .dataframe thead th {\n",
       "        text-align: right;\n",
       "    }\n",
       "</style>\n",
       "<table border=\"1\" class=\"dataframe\">\n",
       "  <thead>\n",
       "    <tr style=\"text-align: right;\">\n",
       "      <th></th>\n",
       "      <th>category</th>\n",
       "      <th>text</th>\n",
       "      <th>cleanText</th>\n",
       "      <th>count</th>\n",
       "    </tr>\n",
       "  </thead>\n",
       "  <tbody>\n",
       "    <tr>\n",
       "      <th>0</th>\n",
       "      <td>education</td>\n",
       "      <td>অধ্যায়-২প্রিয় পরীক্ষার্থী, আজ তথ্য ও যোগাযোগ প...</td>\n",
       "      <td>অধ্যায়    প্রিয়    পরীক্ষার্থী    তথ্য    যো...</td>\n",
       "      <td>260</td>\n",
       "    </tr>\n",
       "    <tr>\n",
       "      <th>1</th>\n",
       "      <td>sports</td>\n",
       "      <td>স্পিন, স্পিন, স্পিন। লর্ডসে ইয়াসির শাহ্‌র লেগ ...</td>\n",
       "      <td>স্পিন    স্পিন    স্পিন    লর্ডসে    ইয়াসির ...</td>\n",
       "      <td>131</td>\n",
       "    </tr>\n",
       "    <tr>\n",
       "      <th>2</th>\n",
       "      <td>international</td>\n",
       "      <td>সিরিয়ার উত্তর-পশ্চিমাঞ্চলে গতকাল রোববার বিমান...</td>\n",
       "      <td>সিরিয়ার    উত্তর    পশ্চিমাঞ্চলে    গতকাল  ...</td>\n",
       "      <td>75</td>\n",
       "    </tr>\n",
       "    <tr>\n",
       "      <th>3</th>\n",
       "      <td>international</td>\n",
       "      <td>দক্ষিণ আফ্রিকার কেপটাউন বিশ্ববিদ্যালয়ের (ইউসিট...</td>\n",
       "      <td>দক্ষিণ    আফ্রিকার    কেপটাউন    বিশ্ববিদ্যা...</td>\n",
       "      <td>49</td>\n",
       "    </tr>\n",
       "    <tr>\n",
       "      <th>4</th>\n",
       "      <td>technology</td>\n",
       "      <td>সহজে ডিজিটাল আর্থিক সেবা দিতে অ্যাপ ও ডিজিটাল ...</td>\n",
       "      <td>সহজে    ডিজিটাল    আর্থিক    সেবা    অ্যাপ  ...</td>\n",
       "      <td>172</td>\n",
       "    </tr>\n",
       "    <tr>\n",
       "      <th>...</th>\n",
       "      <td>...</td>\n",
       "      <td>...</td>\n",
       "      <td>...</td>\n",
       "      <td>...</td>\n",
       "    </tr>\n",
       "    <tr>\n",
       "      <th>98879</th>\n",
       "      <td>sports</td>\n",
       "      <td>১৯৫৯ সালে ইউরোপিয়ান ক্লাব কাপে জাতীয় দল পাঠান...</td>\n",
       "      <td>সালে    ইউরোপিয়ান    ক্লাব    কাপে    জাতীয়...</td>\n",
       "      <td>14</td>\n",
       "    </tr>\n",
       "    <tr>\n",
       "      <th>98880</th>\n",
       "      <td>entertainment</td>\n",
       "      <td>গানের দল সহজিয়ার প্রথম অ্যালবাম ‘রঙমিস্ত্রী’র ...</td>\n",
       "      <td>গানের    সহজিয়ার    প্রথম    অ্যালবাম    রঙম...</td>\n",
       "      <td>163</td>\n",
       "    </tr>\n",
       "    <tr>\n",
       "      <th>98881</th>\n",
       "      <td>international</td>\n",
       "      <td>ফেসবুকের ৮১ হাজার ব্যবহারকারীর তথ্য চুরি করে স...</td>\n",
       "      <td>ফেসবুকের    হাজার    ব্যবহারকারীর    তথ্য   ...</td>\n",
       "      <td>159</td>\n",
       "    </tr>\n",
       "    <tr>\n",
       "      <th>98882</th>\n",
       "      <td>economy</td>\n",
       "      <td>পেট্রোল পাম্পে তেল বা সিএনজির বিল বিকাশের মাধ...</td>\n",
       "      <td>পেট্রোল    পাম্পে    তেল    সিএনজির    বিল  ...</td>\n",
       "      <td>14</td>\n",
       "    </tr>\n",
       "    <tr>\n",
       "      <th>98883</th>\n",
       "      <td>economy</td>\n",
       "      <td>বছর শেষে ঢাকা স্টক এক্সচেঞ্জের (ডিএসই) দুটি সূ...</td>\n",
       "      <td>বছর    শেষে    ঢাকা    স্টক    এক্সচেঞ্জের  ...</td>\n",
       "      <td>257</td>\n",
       "    </tr>\n",
       "  </tbody>\n",
       "</table>\n",
       "<p>98884 rows × 4 columns</p>\n",
       "</div>"
      ],
      "text/plain": [
       "            category                                               text  \\\n",
       "0          education  অধ্যায়-২প্রিয় পরীক্ষার্থী, আজ তথ্য ও যোগাযোগ প...   \n",
       "1             sports  স্পিন, স্পিন, স্পিন। লর্ডসে ইয়াসির শাহ্‌র লেগ ...   \n",
       "2      international  সিরিয়ার উত্তর-পশ্চিমাঞ্চলে গতকাল রোববার বিমান...   \n",
       "3      international  দক্ষিণ আফ্রিকার কেপটাউন বিশ্ববিদ্যালয়ের (ইউসিট...   \n",
       "4         technology  সহজে ডিজিটাল আর্থিক সেবা দিতে অ্যাপ ও ডিজিটাল ...   \n",
       "...              ...                                                ...   \n",
       "98879         sports  ১৯৫৯ সালে ইউরোপিয়ান ক্লাব কাপে জাতীয় দল পাঠান...   \n",
       "98880  entertainment  গানের দল সহজিয়ার প্রথম অ্যালবাম ‘রঙমিস্ত্রী’র ...   \n",
       "98881  international  ফেসবুকের ৮১ হাজার ব্যবহারকারীর তথ্য চুরি করে স...   \n",
       "98882        economy   পেট্রোল পাম্পে তেল বা সিএনজির বিল বিকাশের মাধ...   \n",
       "98883        economy  বছর শেষে ঢাকা স্টক এক্সচেঞ্জের (ডিএসই) দুটি সূ...   \n",
       "\n",
       "                                               cleanText  count  \n",
       "0        অধ্যায়    প্রিয়    পরীক্ষার্থী    তথ্য    যো...    260  \n",
       "1        স্পিন    স্পিন    স্পিন    লর্ডসে    ইয়াসির ...    131  \n",
       "2        সিরিয়ার    উত্তর    পশ্চিমাঞ্চলে    গতকাল  ...     75  \n",
       "3        দক্ষিণ    আফ্রিকার    কেপটাউন    বিশ্ববিদ্যা...     49  \n",
       "4        সহজে    ডিজিটাল    আর্থিক    সেবা    অ্যাপ  ...    172  \n",
       "...                                                  ...    ...  \n",
       "98879    সালে    ইউরোপিয়ান    ক্লাব    কাপে    জাতীয়...     14  \n",
       "98880    গানের    সহজিয়ার    প্রথম    অ্যালবাম    রঙম...    163  \n",
       "98881    ফেসবুকের    হাজার    ব্যবহারকারীর    তথ্য   ...    159  \n",
       "98882    পেট্রোল    পাম্পে    তেল    সিএনজির    বিল  ...     14  \n",
       "98883    বছর    শেষে    ঢাকা    স্টক    এক্সচেঞ্জের  ...    257  \n",
       "\n",
       "[98884 rows x 4 columns]"
      ]
     },
     "metadata": {},
     "output_type": "display_data"
    },
    {
     "name": "stdout",
     "output_type": "stream",
     "text": [
      "<class 'pandas.core.frame.DataFrame'>\n",
      "RangeIndex: 98884 entries, 0 to 98883\n",
      "Data columns (total 4 columns):\n",
      " #   Column     Non-Null Count  Dtype \n",
      "---  ------     --------------  ----- \n",
      " 0   category   98884 non-null  object\n",
      " 1   text       98884 non-null  object\n",
      " 2   cleanText  98884 non-null  object\n",
      " 3   count      98884 non-null  int64 \n",
      "dtypes: int64(1), object(3)\n",
      "memory usage: 3.0+ MB\n"
     ]
    }
   ],
   "source": [
    "display(df_test)\n",
    "df_test.head()\n",
    "df_test.describe()\n",
    "df_test.info()"
   ]
  },
  {
   "cell_type": "code",
   "execution_count": 7,
   "id": "25ff6025",
   "metadata": {
    "execution": {
     "iopub.execute_input": "2021-10-19T15:50:57.111590Z",
     "iopub.status.busy": "2021-10-19T15:50:57.110912Z",
     "iopub.status.idle": "2021-10-19T15:50:57.113584Z",
     "shell.execute_reply": "2021-10-19T15:50:57.113176Z",
     "shell.execute_reply.started": "2021-10-19T15:13:07.414487Z"
    },
    "papermill": {
     "duration": 0.042051,
     "end_time": "2021-10-19T15:50:57.113675",
     "exception": false,
     "start_time": "2021-10-19T15:50:57.071624",
     "status": "completed"
    },
    "tags": []
   },
   "outputs": [],
   "source": [
    "def stopwordRemoval(text):    \n",
    "    x=str(text)\n",
    "    l=x.split()\n",
    "\n",
    "    stm=[elem for elem in l if elem not in stop]\n",
    "    \n",
    "    out=' '.join(stm)\n",
    "    \n",
    "    return str(out)"
   ]
  },
  {
   "cell_type": "markdown",
   "id": "b958f128",
   "metadata": {
    "papermill": {
     "duration": 0.034106,
     "end_time": "2021-10-19T15:50:57.181905",
     "exception": false,
     "start_time": "2021-10-19T15:50:57.147799",
     "status": "completed"
    },
    "tags": []
   },
   "source": [
    "# **Stopwords Removal**"
   ]
  },
  {
   "cell_type": "code",
   "execution_count": 8,
   "id": "3596444a",
   "metadata": {
    "execution": {
     "iopub.execute_input": "2021-10-19T15:50:57.256160Z",
     "iopub.status.busy": "2021-10-19T15:50:57.255317Z",
     "iopub.status.idle": "2021-10-19T15:50:57.522801Z",
     "shell.execute_reply": "2021-10-19T15:50:57.522373Z",
     "shell.execute_reply.started": "2021-10-19T15:13:07.424839Z"
    },
    "papermill": {
     "duration": 0.306621,
     "end_time": "2021-10-19T15:50:57.522956",
     "exception": false,
     "start_time": "2021-10-19T15:50:57.216335",
     "status": "completed"
    },
    "tags": []
   },
   "outputs": [
    {
     "data": {
      "text/html": [
       "<div>\n",
       "<style scoped>\n",
       "    .dataframe tbody tr th:only-of-type {\n",
       "        vertical-align: middle;\n",
       "    }\n",
       "\n",
       "    .dataframe tbody tr th {\n",
       "        vertical-align: top;\n",
       "    }\n",
       "\n",
       "    .dataframe thead th {\n",
       "        text-align: right;\n",
       "    }\n",
       "</style>\n",
       "<table border=\"1\" class=\"dataframe\">\n",
       "  <thead>\n",
       "    <tr style=\"text-align: right;\">\n",
       "      <th></th>\n",
       "      <th>Unnamed: 0</th>\n",
       "      <th>words</th>\n",
       "    </tr>\n",
       "  </thead>\n",
       "  <tbody>\n",
       "    <tr>\n",
       "      <th>0</th>\n",
       "      <td>0</td>\n",
       "      <td>অই</td>\n",
       "    </tr>\n",
       "    <tr>\n",
       "      <th>1</th>\n",
       "      <td>1</td>\n",
       "      <td>অগত্যা</td>\n",
       "    </tr>\n",
       "    <tr>\n",
       "      <th>2</th>\n",
       "      <td>2</td>\n",
       "      <td>অত: পর</td>\n",
       "    </tr>\n",
       "    <tr>\n",
       "      <th>3</th>\n",
       "      <td>3</td>\n",
       "      <td>অতএব</td>\n",
       "    </tr>\n",
       "    <tr>\n",
       "      <th>4</th>\n",
       "      <td>4</td>\n",
       "      <td>অথচ</td>\n",
       "    </tr>\n",
       "    <tr>\n",
       "      <th>...</th>\n",
       "      <td>...</td>\n",
       "      <td>...</td>\n",
       "    </tr>\n",
       "    <tr>\n",
       "      <th>727</th>\n",
       "      <td>727</td>\n",
       "      <td>হয়েই</td>\n",
       "    </tr>\n",
       "    <tr>\n",
       "      <th>728</th>\n",
       "      <td>728</td>\n",
       "      <td>হয়েছিল</td>\n",
       "    </tr>\n",
       "    <tr>\n",
       "      <th>729</th>\n",
       "      <td>729</td>\n",
       "      <td>হয়েছে</td>\n",
       "    </tr>\n",
       "    <tr>\n",
       "      <th>730</th>\n",
       "      <td>730</td>\n",
       "      <td>হয়েছেন</td>\n",
       "    </tr>\n",
       "    <tr>\n",
       "      <th>731</th>\n",
       "      <td>731</td>\n",
       "      <td>অংশ</td>\n",
       "    </tr>\n",
       "  </tbody>\n",
       "</table>\n",
       "<p>732 rows × 2 columns</p>\n",
       "</div>"
      ],
      "text/plain": [
       "     Unnamed: 0   words\n",
       "0             0      অই\n",
       "1             1  অগত্যা\n",
       "2             2  অত: পর\n",
       "3             3    অতএব\n",
       "4             4     অথচ\n",
       "..          ...     ...\n",
       "727         727    হয়েই\n",
       "728         728  হয়েছিল\n",
       "729         729   হয়েছে\n",
       "730         730  হয়েছেন\n",
       "731         731     অংশ\n",
       "\n",
       "[732 rows x 2 columns]"
      ]
     },
     "metadata": {},
     "output_type": "display_data"
    }
   ],
   "source": [
    "data1 =pd.read_excel('/kaggle/input/bangla-stopwords/stopwords_bangla.xlsx')\n",
    "display(data1)\n",
    "stop = data1['words'].tolist()"
   ]
  },
  {
   "cell_type": "code",
   "execution_count": 9,
   "id": "9956712b",
   "metadata": {
    "execution": {
     "iopub.execute_input": "2021-10-19T15:50:57.621699Z",
     "iopub.status.busy": "2021-10-19T15:50:57.601744Z",
     "iopub.status.idle": "2021-10-19T15:53:55.328391Z",
     "shell.execute_reply": "2021-10-19T15:53:55.304964Z",
     "shell.execute_reply.started": "2021-10-19T15:13:07.926185Z"
    },
    "papermill": {
     "duration": 177.769835,
     "end_time": "2021-10-19T15:53:55.328548",
     "exception": false,
     "start_time": "2021-10-19T15:50:57.558713",
     "status": "completed"
    },
    "tags": []
   },
   "outputs": [],
   "source": [
    "df_train['cleanText'] = df_train.cleanText.apply(lambda x: stopwordRemoval(str(x)))\n"
   ]
  },
  {
   "cell_type": "code",
   "execution_count": 10,
   "id": "bda655cc",
   "metadata": {
    "execution": {
     "iopub.execute_input": "2021-10-19T15:53:55.403114Z",
     "iopub.status.busy": "2021-10-19T15:53:55.402321Z",
     "iopub.status.idle": "2021-10-19T15:56:51.853009Z",
     "shell.execute_reply": "2021-10-19T15:56:51.812727Z",
     "shell.execute_reply.started": "2021-10-19T15:16:16.793329Z"
    },
    "papermill": {
     "duration": 176.489362,
     "end_time": "2021-10-19T15:56:51.853171",
     "exception": false,
     "start_time": "2021-10-19T15:53:55.363809",
     "status": "completed"
    },
    "tags": []
   },
   "outputs": [],
   "source": [
    "df_test['cleanText'] = df_test.cleanText.apply(lambda x: stopwordRemoval(str(x)))"
   ]
  },
  {
   "cell_type": "markdown",
   "id": "19ce5683",
   "metadata": {
    "papermill": {
     "duration": 0.035718,
     "end_time": "2021-10-19T15:56:51.925536",
     "exception": false,
     "start_time": "2021-10-19T15:56:51.889818",
     "status": "completed"
    },
    "tags": []
   },
   "source": [
    "# **Stemming**"
   ]
  },
  {
   "cell_type": "code",
   "execution_count": 11,
   "id": "9c8c45ea",
   "metadata": {
    "execution": {
     "iopub.execute_input": "2021-10-19T15:56:52.004546Z",
     "iopub.status.busy": "2021-10-19T15:56:52.003764Z",
     "iopub.status.idle": "2021-10-19T15:56:59.023366Z",
     "shell.execute_reply": "2021-10-19T15:56:59.022516Z",
     "shell.execute_reply.started": "2021-10-19T15:19:24.271370Z"
    },
    "papermill": {
     "duration": 7.061834,
     "end_time": "2021-10-19T15:56:59.023501",
     "exception": false,
     "start_time": "2021-10-19T15:56:51.961667",
     "status": "completed"
    },
    "tags": []
   },
   "outputs": [
    {
     "name": "stdout",
     "output_type": "stream",
     "text": [
      "Collecting bangla-stemmer\r\n",
      "  Downloading bangla_stemmer-1.0-py3-none-any.whl (9.1 kB)\r\n",
      "Installing collected packages: bangla-stemmer\r\n",
      "Successfully installed bangla-stemmer-1.0\r\n",
      "\u001b[33mWARNING: Running pip as the 'root' user can result in broken permissions and conflicting behaviour with the system package manager. It is recommended to use a virtual environment instead: https://pip.pypa.io/warnings/venv\u001b[0m\r\n"
     ]
    }
   ],
   "source": [
    "#make sure to turn on internet on your kernel\n",
    "#importing stemmer\n",
    "!pip install bangla-stemmer\n",
    "from bangla_stemmer.stemmer import stemmer\n",
    "## stemmer function\n",
    "def stem_text (x):\n",
    "  stmr = stemmer.BanglaStemmer()\n",
    "  words=x.split(' ')\n",
    "  stm = stmr.stem(words)\n",
    "  words=(' ').join(stm)\n",
    "  return words"
   ]
  },
  {
   "cell_type": "code",
   "execution_count": 12,
   "id": "342b00a8",
   "metadata": {
    "execution": {
     "iopub.execute_input": "2021-10-19T15:56:59.101550Z",
     "iopub.status.busy": "2021-10-19T15:56:59.100765Z",
     "iopub.status.idle": "2021-10-19T15:56:59.103589Z",
     "shell.execute_reply": "2021-10-19T15:56:59.103140Z",
     "shell.execute_reply.started": "2021-10-19T15:19:34.422795Z"
    },
    "papermill": {
     "duration": 0.043403,
     "end_time": "2021-10-19T15:56:59.103700",
     "exception": false,
     "start_time": "2021-10-19T15:56:59.060297",
     "status": "completed"
    },
    "tags": []
   },
   "outputs": [],
   "source": [
    "#df_train['cleanText']=df_train['cleanText'].apply(stem_text)\n",
    "#df_test['cleanText']=df_test['cleanText'].apply(stem_text)"
   ]
  },
  {
   "cell_type": "markdown",
   "id": "ea77af53",
   "metadata": {
    "papermill": {
     "duration": 0.03582,
     "end_time": "2021-10-19T15:56:59.175690",
     "exception": false,
     "start_time": "2021-10-19T15:56:59.139870",
     "status": "completed"
    },
    "tags": []
   },
   "source": [
    "# **Changing Labels to Numbers**"
   ]
  },
  {
   "cell_type": "code",
   "execution_count": 13,
   "id": "369e6243",
   "metadata": {
    "execution": {
     "iopub.execute_input": "2021-10-19T15:56:59.263211Z",
     "iopub.status.busy": "2021-10-19T15:56:59.262339Z",
     "iopub.status.idle": "2021-10-19T15:56:59.358280Z",
     "shell.execute_reply": "2021-10-19T15:56:59.358708Z",
     "shell.execute_reply.started": "2021-10-19T15:19:34.433296Z"
    },
    "papermill": {
     "duration": 0.14663,
     "end_time": "2021-10-19T15:56:59.358840",
     "exception": false,
     "start_time": "2021-10-19T15:56:59.212210",
     "status": "completed"
    },
    "tags": []
   },
   "outputs": [
    {
     "data": {
      "text/html": [
       "<div>\n",
       "<style scoped>\n",
       "    .dataframe tbody tr th:only-of-type {\n",
       "        vertical-align: middle;\n",
       "    }\n",
       "\n",
       "    .dataframe tbody tr th {\n",
       "        vertical-align: top;\n",
       "    }\n",
       "\n",
       "    .dataframe thead th {\n",
       "        text-align: right;\n",
       "    }\n",
       "</style>\n",
       "<table border=\"1\" class=\"dataframe\">\n",
       "  <thead>\n",
       "    <tr style=\"text-align: right;\">\n",
       "      <th></th>\n",
       "      <th>category</th>\n",
       "      <th>text</th>\n",
       "      <th>cleanText</th>\n",
       "      <th>count</th>\n",
       "    </tr>\n",
       "  </thead>\n",
       "  <tbody>\n",
       "    <tr>\n",
       "      <th>0</th>\n",
       "      <td>0</td>\n",
       "      <td>বাংলাদেশে সফররত বিশ্ব বাণিজ্য সংস্থা (ডব্লিউট...</td>\n",
       "      <td>বাংলাদেশে সফররত বাণিজ্য সংস্থা ডব্লিউটিও মহাপর...</td>\n",
       "      <td>293</td>\n",
       "    </tr>\n",
       "    <tr>\n",
       "      <th>1</th>\n",
       "      <td>1</td>\n",
       "      <td>ইউরোপিয়ান ফুটবলে আজ ঝড় বয়ে যাচ্ছে। একদিকে সংবা...</td>\n",
       "      <td>ইউরোপিয়ান ফুটবলে বয়ে একদিকে সংবাদমাধ্যমগুলো নে...</td>\n",
       "      <td>206</td>\n",
       "    </tr>\n",
       "    <tr>\n",
       "      <th>2</th>\n",
       "      <td>2</td>\n",
       "      <td>বিজেপির নেতৃত্বে ভারতের উত্তর প্রদেশ থেকে শুরু...</td>\n",
       "      <td>বিজেপির নেতৃত্বে ভারতের প্রদেশ ঐতিহাসিক স্থানে...</td>\n",
       "      <td>167</td>\n",
       "    </tr>\n",
       "    <tr>\n",
       "      <th>3</th>\n",
       "      <td>3</td>\n",
       "      <td>নারায়ণগঞ্জের সোনারগাঁ উপজেলার একটি সরকারি প্র...</td>\n",
       "      <td>নারায়ণগঞ্জের সোনারগাঁ উপজেলার সরকারি বিদ্যালয...</td>\n",
       "      <td>181</td>\n",
       "    </tr>\n",
       "    <tr>\n",
       "      <th>4</th>\n",
       "      <td>1</td>\n",
       "      <td>‘ছাই থেকে ছাই, ধুলো থেকে ধুলো...’ আধ্যাত্মিক ক...</td>\n",
       "      <td>ছাই ছাই ধুলো ধুলো আধ্যাত্মিক বাক্যের অর্থটা সে...</td>\n",
       "      <td>148</td>\n",
       "    </tr>\n",
       "    <tr>\n",
       "      <th>...</th>\n",
       "      <td>...</td>\n",
       "      <td>...</td>\n",
       "      <td>...</td>\n",
       "      <td>...</td>\n",
       "    </tr>\n",
       "    <tr>\n",
       "      <th>98878</th>\n",
       "      <td>6</td>\n",
       "      <td>সহকারী অধ্যাপক  টিচার্স ট্রেনিং কলেজ (মহিলা)...</td>\n",
       "      <td>সহকারী অধ্যাপক টিচার্স ট্রেনিং কলেজ মহিলা ময়মন...</td>\n",
       "      <td>389</td>\n",
       "    </tr>\n",
       "    <tr>\n",
       "      <th>98879</th>\n",
       "      <td>5</td>\n",
       "      <td>অক্টোবরের ১১ তারিখে ৭৫ বছর পূর্ণ করবেন অমিতাভ ...</td>\n",
       "      <td>অক্টোবরের তারিখে পূর্ণ অমিতাভ বচ্চন জন্মদিন এক...</td>\n",
       "      <td>147</td>\n",
       "    </tr>\n",
       "    <tr>\n",
       "      <th>98880</th>\n",
       "      <td>4</td>\n",
       "      <td>কাজী নাঈম আল রশিদ। সফটওয়্যার প্রকৌশলী। কাজ করে...</td>\n",
       "      <td>কাজী নাঈম রশিদ সফটওয়্যার প্রকৌশলী মাইক্রোসফটে ...</td>\n",
       "      <td>673</td>\n",
       "    </tr>\n",
       "    <tr>\n",
       "      <th>98881</th>\n",
       "      <td>4</td>\n",
       "      <td>ইয়াহুকে মার্কিন টেলিকম প্রতিষ্ঠান ভেরাইজন কিনে...</td>\n",
       "      <td>ইয়াহুকে মার্কিন টেলিকম প্রতিষ্ঠান ভেরাইজন কিনে...</td>\n",
       "      <td>161</td>\n",
       "    </tr>\n",
       "    <tr>\n",
       "      <th>98882</th>\n",
       "      <td>6</td>\n",
       "      <td>অধ্যায়-১১প্রিয় শিক্ষার্থী, আজ ফিন্যান্স ও ব্যা...</td>\n",
       "      <td>অধ্যায় প্রিয় শিক্ষার্থী ফিন্যান্স ব্যাংকিং বহু...</td>\n",
       "      <td>204</td>\n",
       "    </tr>\n",
       "  </tbody>\n",
       "</table>\n",
       "<p>98883 rows × 4 columns</p>\n",
       "</div>"
      ],
      "text/plain": [
       "      category                                               text  \\\n",
       "0            0   বাংলাদেশে সফররত বিশ্ব বাণিজ্য সংস্থা (ডব্লিউট...   \n",
       "1            1  ইউরোপিয়ান ফুটবলে আজ ঝড় বয়ে যাচ্ছে। একদিকে সংবা...   \n",
       "2            2  বিজেপির নেতৃত্বে ভারতের উত্তর প্রদেশ থেকে শুরু...   \n",
       "3            3  নারায়ণগঞ্জের সোনারগাঁ উপজেলার একটি সরকারি প্র...   \n",
       "4            1  ‘ছাই থেকে ছাই, ধুলো থেকে ধুলো...’ আধ্যাত্মিক ক...   \n",
       "...        ...                                                ...   \n",
       "98878        6    সহকারী অধ্যাপক  টিচার্স ট্রেনিং কলেজ (মহিলা)...   \n",
       "98879        5  অক্টোবরের ১১ তারিখে ৭৫ বছর পূর্ণ করবেন অমিতাভ ...   \n",
       "98880        4  কাজী নাঈম আল রশিদ। সফটওয়্যার প্রকৌশলী। কাজ করে...   \n",
       "98881        4  ইয়াহুকে মার্কিন টেলিকম প্রতিষ্ঠান ভেরাইজন কিনে...   \n",
       "98882        6  অধ্যায়-১১প্রিয় শিক্ষার্থী, আজ ফিন্যান্স ও ব্যা...   \n",
       "\n",
       "                                               cleanText  count  \n",
       "0      বাংলাদেশে সফররত বাণিজ্য সংস্থা ডব্লিউটিও মহাপর...    293  \n",
       "1      ইউরোপিয়ান ফুটবলে বয়ে একদিকে সংবাদমাধ্যমগুলো নে...    206  \n",
       "2      বিজেপির নেতৃত্বে ভারতের প্রদেশ ঐতিহাসিক স্থানে...    167  \n",
       "3      নারায়ণগঞ্জের সোনারগাঁ উপজেলার সরকারি বিদ্যালয...    181  \n",
       "4      ছাই ছাই ধুলো ধুলো আধ্যাত্মিক বাক্যের অর্থটা সে...    148  \n",
       "...                                                  ...    ...  \n",
       "98878  সহকারী অধ্যাপক টিচার্স ট্রেনিং কলেজ মহিলা ময়মন...    389  \n",
       "98879  অক্টোবরের তারিখে পূর্ণ অমিতাভ বচ্চন জন্মদিন এক...    147  \n",
       "98880  কাজী নাঈম রশিদ সফটওয়্যার প্রকৌশলী মাইক্রোসফটে ...    673  \n",
       "98881  ইয়াহুকে মার্কিন টেলিকম প্রতিষ্ঠান ভেরাইজন কিনে...    161  \n",
       "98882  অধ্যায় প্রিয় শিক্ষার্থী ফিন্যান্স ব্যাংকিং বহু...    204  \n",
       "\n",
       "[98883 rows x 4 columns]"
      ]
     },
     "metadata": {},
     "output_type": "display_data"
    },
    {
     "data": {
      "text/html": [
       "<div>\n",
       "<style scoped>\n",
       "    .dataframe tbody tr th:only-of-type {\n",
       "        vertical-align: middle;\n",
       "    }\n",
       "\n",
       "    .dataframe tbody tr th {\n",
       "        vertical-align: top;\n",
       "    }\n",
       "\n",
       "    .dataframe thead th {\n",
       "        text-align: right;\n",
       "    }\n",
       "</style>\n",
       "<table border=\"1\" class=\"dataframe\">\n",
       "  <thead>\n",
       "    <tr style=\"text-align: right;\">\n",
       "      <th></th>\n",
       "      <th>category</th>\n",
       "      <th>text</th>\n",
       "      <th>cleanText</th>\n",
       "      <th>count</th>\n",
       "    </tr>\n",
       "  </thead>\n",
       "  <tbody>\n",
       "    <tr>\n",
       "      <th>0</th>\n",
       "      <td>6</td>\n",
       "      <td>অধ্যায়-২প্রিয় পরীক্ষার্থী, আজ তথ্য ও যোগাযোগ প...</td>\n",
       "      <td>অধ্যায় প্রিয় পরীক্ষার্থী তথ্য যোগাযোগ প্রযুক্ত...</td>\n",
       "      <td>260</td>\n",
       "    </tr>\n",
       "    <tr>\n",
       "      <th>1</th>\n",
       "      <td>1</td>\n",
       "      <td>স্পিন, স্পিন, স্পিন। লর্ডসে ইয়াসির শাহ্‌র লেগ ...</td>\n",
       "      <td>স্পিন স্পিন স্পিন লর্ডসে ইয়াসির শাহ্ র লেগ স্প...</td>\n",
       "      <td>131</td>\n",
       "    </tr>\n",
       "    <tr>\n",
       "      <th>2</th>\n",
       "      <td>2</td>\n",
       "      <td>সিরিয়ার উত্তর-পশ্চিমাঞ্চলে গতকাল রোববার বিমান...</td>\n",
       "      <td>সিরিয়ার পশ্চিমাঞ্চলে গতকাল রোববার বিমান হামলা...</td>\n",
       "      <td>75</td>\n",
       "    </tr>\n",
       "    <tr>\n",
       "      <th>3</th>\n",
       "      <td>2</td>\n",
       "      <td>দক্ষিণ আফ্রিকার কেপটাউন বিশ্ববিদ্যালয়ের (ইউসিট...</td>\n",
       "      <td>দক্ষিণ আফ্রিকার কেপটাউন বিশ্ববিদ্যালয়ের ইউসিটি...</td>\n",
       "      <td>49</td>\n",
       "    </tr>\n",
       "    <tr>\n",
       "      <th>4</th>\n",
       "      <td>4</td>\n",
       "      <td>সহজে ডিজিটাল আর্থিক সেবা দিতে অ্যাপ ও ডিজিটাল ...</td>\n",
       "      <td>সহজে ডিজিটাল আর্থিক সেবা অ্যাপ ডিজিটাল কেওয়াইস...</td>\n",
       "      <td>172</td>\n",
       "    </tr>\n",
       "    <tr>\n",
       "      <th>...</th>\n",
       "      <td>...</td>\n",
       "      <td>...</td>\n",
       "      <td>...</td>\n",
       "      <td>...</td>\n",
       "    </tr>\n",
       "    <tr>\n",
       "      <th>98879</th>\n",
       "      <td>1</td>\n",
       "      <td>১৯৫৯ সালে ইউরোপিয়ান ক্লাব কাপে জাতীয় দল পাঠান...</td>\n",
       "      <td>সালে ইউরোপিয়ান ক্লাব কাপে জাতীয় পাঠানোর প্রস...</td>\n",
       "      <td>14</td>\n",
       "    </tr>\n",
       "    <tr>\n",
       "      <th>98880</th>\n",
       "      <td>5</td>\n",
       "      <td>গানের দল সহজিয়ার প্রথম অ্যালবাম ‘রঙমিস্ত্রী’র ...</td>\n",
       "      <td>গানের সহজিয়ার অ্যালবাম রঙমিস্ত্রী প্রকাশনা উত্...</td>\n",
       "      <td>163</td>\n",
       "    </tr>\n",
       "    <tr>\n",
       "      <th>98881</th>\n",
       "      <td>2</td>\n",
       "      <td>ফেসবুকের ৮১ হাজার ব্যবহারকারীর তথ্য চুরি করে স...</td>\n",
       "      <td>ফেসবুকের ব্যবহারকারীর তথ্য চুরি বিক্রির বিজ্ঞা...</td>\n",
       "      <td>159</td>\n",
       "    </tr>\n",
       "    <tr>\n",
       "      <th>98882</th>\n",
       "      <td>0</td>\n",
       "      <td>পেট্রোল পাম্পে তেল বা সিএনজির বিল বিকাশের মাধ...</td>\n",
       "      <td>পেট্রোল পাম্পে তেল সিএনজির বিল বিকাশের পরিশোধ ...</td>\n",
       "      <td>14</td>\n",
       "    </tr>\n",
       "    <tr>\n",
       "      <th>98883</th>\n",
       "      <td>0</td>\n",
       "      <td>বছর শেষে ঢাকা স্টক এক্সচেঞ্জের (ডিএসই) দুটি সূ...</td>\n",
       "      <td>শেষে ঢাকা স্টক এক্সচেঞ্জের ডিএসই পুনঃসমন্বয় দু...</td>\n",
       "      <td>257</td>\n",
       "    </tr>\n",
       "  </tbody>\n",
       "</table>\n",
       "<p>98884 rows × 4 columns</p>\n",
       "</div>"
      ],
      "text/plain": [
       "      category                                               text  \\\n",
       "0            6  অধ্যায়-২প্রিয় পরীক্ষার্থী, আজ তথ্য ও যোগাযোগ প...   \n",
       "1            1  স্পিন, স্পিন, স্পিন। লর্ডসে ইয়াসির শাহ্‌র লেগ ...   \n",
       "2            2  সিরিয়ার উত্তর-পশ্চিমাঞ্চলে গতকাল রোববার বিমান...   \n",
       "3            2  দক্ষিণ আফ্রিকার কেপটাউন বিশ্ববিদ্যালয়ের (ইউসিট...   \n",
       "4            4  সহজে ডিজিটাল আর্থিক সেবা দিতে অ্যাপ ও ডিজিটাল ...   \n",
       "...        ...                                                ...   \n",
       "98879        1  ১৯৫৯ সালে ইউরোপিয়ান ক্লাব কাপে জাতীয় দল পাঠান...   \n",
       "98880        5  গানের দল সহজিয়ার প্রথম অ্যালবাম ‘রঙমিস্ত্রী’র ...   \n",
       "98881        2  ফেসবুকের ৮১ হাজার ব্যবহারকারীর তথ্য চুরি করে স...   \n",
       "98882        0   পেট্রোল পাম্পে তেল বা সিএনজির বিল বিকাশের মাধ...   \n",
       "98883        0  বছর শেষে ঢাকা স্টক এক্সচেঞ্জের (ডিএসই) দুটি সূ...   \n",
       "\n",
       "                                               cleanText  count  \n",
       "0      অধ্যায় প্রিয় পরীক্ষার্থী তথ্য যোগাযোগ প্রযুক্ত...    260  \n",
       "1      স্পিন স্পিন স্পিন লর্ডসে ইয়াসির শাহ্ র লেগ স্প...    131  \n",
       "2      সিরিয়ার পশ্চিমাঞ্চলে গতকাল রোববার বিমান হামলা...     75  \n",
       "3      দক্ষিণ আফ্রিকার কেপটাউন বিশ্ববিদ্যালয়ের ইউসিটি...     49  \n",
       "4      সহজে ডিজিটাল আর্থিক সেবা অ্যাপ ডিজিটাল কেওয়াইস...    172  \n",
       "...                                                  ...    ...  \n",
       "98879  সালে ইউরোপিয়ান ক্লাব কাপে জাতীয় পাঠানোর প্রস...     14  \n",
       "98880  গানের সহজিয়ার অ্যালবাম রঙমিস্ত্রী প্রকাশনা উত্...    163  \n",
       "98881  ফেসবুকের ব্যবহারকারীর তথ্য চুরি বিক্রির বিজ্ঞা...    159  \n",
       "98882  পেট্রোল পাম্পে তেল সিএনজির বিল বিকাশের পরিশোধ ...     14  \n",
       "98883  শেষে ঢাকা স্টক এক্সচেঞ্জের ডিএসই পুনঃসমন্বয় দু...    257  \n",
       "\n",
       "[98884 rows x 4 columns]"
      ]
     },
     "metadata": {},
     "output_type": "display_data"
    }
   ],
   "source": [
    "#['economy' 'sports' 'international' 'state' 'technology' 'entertainment' 'education']\n",
    "\n",
    "df_train[\"category\"].replace({\"economy\": \"0\", \"sports\": \"1\",\"international\": \"2\",\"state\": \"3\",\"technology\": \"4\",\"entertainment\": \"5\",\"education\": \"6\"}, inplace=True)\n",
    "df_test[\"category\"].replace({\"economy\": \"0\", \"sports\": \"1\",\"international\": \"2\",\"state\": \"3\",\"technology\": \"4\",\"entertainment\": \"5\",\"education\": \"6\"}, inplace=True)\n",
    "display(df_train)\n",
    "display(df_test)"
   ]
  },
  {
   "cell_type": "markdown",
   "id": "329fc2df",
   "metadata": {
    "papermill": {
     "duration": 0.036676,
     "end_time": "2021-10-19T15:56:59.432428",
     "exception": false,
     "start_time": "2021-10-19T15:56:59.395752",
     "status": "completed"
    },
    "tags": []
   },
   "source": [
    "# **Removing Null values**"
   ]
  },
  {
   "cell_type": "code",
   "execution_count": 14,
   "id": "9af92c8a",
   "metadata": {
    "execution": {
     "iopub.execute_input": "2021-10-19T15:56:59.699540Z",
     "iopub.status.busy": "2021-10-19T15:56:59.698723Z",
     "iopub.status.idle": "2021-10-19T15:56:59.889399Z",
     "shell.execute_reply": "2021-10-19T15:56:59.888908Z",
     "shell.execute_reply.started": "2021-10-19T15:19:34.593964Z"
    },
    "papermill": {
     "duration": 0.420253,
     "end_time": "2021-10-19T15:56:59.889527",
     "exception": false,
     "start_time": "2021-10-19T15:56:59.469274",
     "status": "completed"
    },
    "tags": []
   },
   "outputs": [],
   "source": [
    "#display non-null values\n",
    "df_train = df_train.dropna()\n",
    "df_test = df_test.dropna()"
   ]
  },
  {
   "cell_type": "markdown",
   "id": "86c3e95e",
   "metadata": {
    "papermill": {
     "duration": 0.036856,
     "end_time": "2021-10-19T15:56:59.964075",
     "exception": false,
     "start_time": "2021-10-19T15:56:59.927219",
     "status": "completed"
    },
    "tags": []
   },
   "source": [
    "# **Removing Small Texts**"
   ]
  },
  {
   "cell_type": "code",
   "execution_count": 15,
   "id": "954a8d9d",
   "metadata": {
    "execution": {
     "iopub.execute_input": "2021-10-19T15:57:00.067360Z",
     "iopub.status.busy": "2021-10-19T15:57:00.066266Z",
     "iopub.status.idle": "2021-10-19T15:57:06.794334Z",
     "shell.execute_reply": "2021-10-19T15:57:06.795125Z",
     "shell.execute_reply.started": "2021-10-19T15:19:35.045500Z"
    },
    "papermill": {
     "duration": 6.793066,
     "end_time": "2021-10-19T15:57:06.795371",
     "exception": false,
     "start_time": "2021-10-19T15:57:00.002305",
     "status": "completed"
    },
    "tags": []
   },
   "outputs": [],
   "source": [
    "#counting text length\n",
    "df_train['count'] = df_train['cleanText'].str.split().str.len()\n",
    "df_test['count'] = df_test['cleanText'].str.split().str.len()\n",
    "# Remove the text with words less than 5\n",
    "df_train= df_train.loc[df_train['count']>5]\n",
    "df_test= df_test.loc[df_test['count']>5]"
   ]
  },
  {
   "cell_type": "markdown",
   "id": "886253aa",
   "metadata": {
    "papermill": {
     "duration": 0.064527,
     "end_time": "2021-10-19T15:57:06.938220",
     "exception": false,
     "start_time": "2021-10-19T15:57:06.873693",
     "status": "completed"
    },
    "tags": []
   },
   "source": [
    "# **Shuffle Dataset**"
   ]
  },
  {
   "cell_type": "code",
   "execution_count": 16,
   "id": "aed6f402",
   "metadata": {
    "execution": {
     "iopub.execute_input": "2021-10-19T15:57:07.084586Z",
     "iopub.status.busy": "2021-10-19T15:57:07.083766Z",
     "iopub.status.idle": "2021-10-19T15:57:07.157647Z",
     "shell.execute_reply": "2021-10-19T15:57:07.158903Z",
     "shell.execute_reply.started": "2021-10-19T15:19:42.025045Z"
    },
    "papermill": {
     "duration": 0.158248,
     "end_time": "2021-10-19T15:57:07.159106",
     "exception": false,
     "start_time": "2021-10-19T15:57:07.000858",
     "status": "completed"
    },
    "tags": []
   },
   "outputs": [
    {
     "data": {
      "text/html": [
       "<div>\n",
       "<style scoped>\n",
       "    .dataframe tbody tr th:only-of-type {\n",
       "        vertical-align: middle;\n",
       "    }\n",
       "\n",
       "    .dataframe tbody tr th {\n",
       "        vertical-align: top;\n",
       "    }\n",
       "\n",
       "    .dataframe thead th {\n",
       "        text-align: right;\n",
       "    }\n",
       "</style>\n",
       "<table border=\"1\" class=\"dataframe\">\n",
       "  <thead>\n",
       "    <tr style=\"text-align: right;\">\n",
       "      <th></th>\n",
       "      <th>category</th>\n",
       "      <th>text</th>\n",
       "      <th>cleanText</th>\n",
       "      <th>count</th>\n",
       "    </tr>\n",
       "  </thead>\n",
       "  <tbody>\n",
       "    <tr>\n",
       "      <th>0</th>\n",
       "      <td>2</td>\n",
       "      <td>ইরাকে যুদ্ধের সময় দেশটির সাধারণ মানুষের ওপর নি...</td>\n",
       "      <td>ইরাকে যুদ্ধের সময় দেশটির মানুষের ওপর নির্যাতন ...</td>\n",
       "      <td>236</td>\n",
       "    </tr>\n",
       "    <tr>\n",
       "      <th>1</th>\n",
       "      <td>4</td>\n",
       "      <td>বিসিএস কম্পিউটার সিটির বার্ষিক মেলা ‘সিটিআইটি ...</td>\n",
       "      <td>বিসিএস কম্পিউটার সিটির বার্ষিক মেলা সিটিআইটি ব...</td>\n",
       "      <td>120</td>\n",
       "    </tr>\n",
       "    <tr>\n",
       "      <th>2</th>\n",
       "      <td>5</td>\n",
       "      <td>সিলেট নগরের রিকাবীবাজার এলাকার কবি নজরুল অডিটো...</td>\n",
       "      <td>সিলেট নগরের রিকাবীবাজার কবি নজরুল অডিটোরিয়ামে ...</td>\n",
       "      <td>44</td>\n",
       "    </tr>\n",
       "    <tr>\n",
       "      <th>3</th>\n",
       "      <td>2</td>\n",
       "      <td>জাতিসংঘের সাধারণ পরিষদের মানবাধিকারবিষয়ক কমিট...</td>\n",
       "      <td>জাতিসংঘের পরিষদের মানবাধিকারবিষয়ক কমিটিতে বুধ...</td>\n",
       "      <td>97</td>\n",
       "    </tr>\n",
       "    <tr>\n",
       "      <th>4</th>\n",
       "      <td>3</td>\n",
       "      <td>বিশ্বের ৪৬টি দেশে ৬৫ বছরের বেশি বয়সী প্রবীণের...</td>\n",
       "      <td>বিশ্বের দেশে বছরের বয়সী প্রবীণেরা কষ্টে আছেন ...</td>\n",
       "      <td>254</td>\n",
       "    </tr>\n",
       "    <tr>\n",
       "      <th>...</th>\n",
       "      <td>...</td>\n",
       "      <td>...</td>\n",
       "      <td>...</td>\n",
       "      <td>...</td>\n",
       "    </tr>\n",
       "    <tr>\n",
       "      <th>98595</th>\n",
       "      <td>6</td>\n",
       "      <td>এক জাদুঘরে একজন কৌতুহলী শিক্ষার্থী অবাক হয়ে এ...</td>\n",
       "      <td>জাদুঘরে একজন কৌতুহলী শিক্ষার্থী অবাক ডাইনোসরের...</td>\n",
       "      <td>33</td>\n",
       "    </tr>\n",
       "    <tr>\n",
       "      <th>98596</th>\n",
       "      <td>6</td>\n",
       "      <td>Guided writingপ্রিয় শিক্ষার্থীরা, আজ ইংরেজি ১...</td>\n",
       "      <td>প্রিয় শিক্ষার্থীরা ইংরেজি পত্রের অর্থাৎ প্রশ্...</td>\n",
       "      <td>20</td>\n",
       "    </tr>\n",
       "    <tr>\n",
       "      <th>98597</th>\n",
       "      <td>3</td>\n",
       "      <td>ঠাকুরগাঁওয়ে বিলুপ্ত প্রজাতির দুটি লক্ষ্মীপ্যাঁ...</td>\n",
       "      <td>ঠাকুরগাঁওয়ে বিলুপ্ত প্রজাতির লক্ষ্মীপ্যাঁচা উদ...</td>\n",
       "      <td>155</td>\n",
       "    </tr>\n",
       "    <tr>\n",
       "      <th>98598</th>\n",
       "      <td>0</td>\n",
       "      <td>বাংলাদেশের টেক্সটাইল খাতে জাপানি বিনিয়োগের আহ...</td>\n",
       "      <td>বাংলাদেশের টেক্সটাইল খাতে জাপানি বিনিয়োগের আহ্...</td>\n",
       "      <td>254</td>\n",
       "    </tr>\n",
       "    <tr>\n",
       "      <th>98599</th>\n",
       "      <td>5</td>\n",
       "      <td>এবারই প্রথম স্বামী অনীক মাহমুদকে সঙ্গে নিয়ে মঞ...</td>\n",
       "      <td>এবারই স্বামী অনীক মাহমুদকে মঞ্চে উঠলেন ঢাকাই ছ...</td>\n",
       "      <td>142</td>\n",
       "    </tr>\n",
       "  </tbody>\n",
       "</table>\n",
       "<p>98600 rows × 4 columns</p>\n",
       "</div>"
      ],
      "text/plain": [
       "      category                                               text  \\\n",
       "0            2  ইরাকে যুদ্ধের সময় দেশটির সাধারণ মানুষের ওপর নি...   \n",
       "1            4  বিসিএস কম্পিউটার সিটির বার্ষিক মেলা ‘সিটিআইটি ...   \n",
       "2            5  সিলেট নগরের রিকাবীবাজার এলাকার কবি নজরুল অডিটো...   \n",
       "3            2  জাতিসংঘের সাধারণ পরিষদের মানবাধিকারবিষয়ক কমিট...   \n",
       "4            3  বিশ্বের ৪৬টি দেশে ৬৫ বছরের বেশি বয়সী প্রবীণের...   \n",
       "...        ...                                                ...   \n",
       "98595        6   এক জাদুঘরে একজন কৌতুহলী শিক্ষার্থী অবাক হয়ে এ...   \n",
       "98596        6  Guided writingপ্রিয় শিক্ষার্থীরা, আজ ইংরেজি ১...   \n",
       "98597        3  ঠাকুরগাঁওয়ে বিলুপ্ত প্রজাতির দুটি লক্ষ্মীপ্যাঁ...   \n",
       "98598        0   বাংলাদেশের টেক্সটাইল খাতে জাপানি বিনিয়োগের আহ...   \n",
       "98599        5  এবারই প্রথম স্বামী অনীক মাহমুদকে সঙ্গে নিয়ে মঞ...   \n",
       "\n",
       "                                               cleanText  count  \n",
       "0      ইরাকে যুদ্ধের সময় দেশটির মানুষের ওপর নির্যাতন ...    236  \n",
       "1      বিসিএস কম্পিউটার সিটির বার্ষিক মেলা সিটিআইটি ব...    120  \n",
       "2      সিলেট নগরের রিকাবীবাজার কবি নজরুল অডিটোরিয়ামে ...     44  \n",
       "3      জাতিসংঘের পরিষদের মানবাধিকারবিষয়ক কমিটিতে বুধ...     97  \n",
       "4      বিশ্বের দেশে বছরের বয়সী প্রবীণেরা কষ্টে আছেন ...    254  \n",
       "...                                                  ...    ...  \n",
       "98595  জাদুঘরে একজন কৌতুহলী শিক্ষার্থী অবাক ডাইনোসরের...     33  \n",
       "98596  প্রিয় শিক্ষার্থীরা ইংরেজি পত্রের অর্থাৎ প্রশ্...     20  \n",
       "98597  ঠাকুরগাঁওয়ে বিলুপ্ত প্রজাতির লক্ষ্মীপ্যাঁচা উদ...    155  \n",
       "98598  বাংলাদেশের টেক্সটাইল খাতে জাপানি বিনিয়োগের আহ্...    254  \n",
       "98599  এবারই স্বামী অনীক মাহমুদকে মঞ্চে উঠলেন ঢাকাই ছ...    142  \n",
       "\n",
       "[98600 rows x 4 columns]"
      ]
     },
     "metadata": {},
     "output_type": "display_data"
    },
    {
     "data": {
      "text/html": [
       "<div>\n",
       "<style scoped>\n",
       "    .dataframe tbody tr th:only-of-type {\n",
       "        vertical-align: middle;\n",
       "    }\n",
       "\n",
       "    .dataframe tbody tr th {\n",
       "        vertical-align: top;\n",
       "    }\n",
       "\n",
       "    .dataframe thead th {\n",
       "        text-align: right;\n",
       "    }\n",
       "</style>\n",
       "<table border=\"1\" class=\"dataframe\">\n",
       "  <thead>\n",
       "    <tr style=\"text-align: right;\">\n",
       "      <th></th>\n",
       "      <th>category</th>\n",
       "      <th>text</th>\n",
       "      <th>cleanText</th>\n",
       "      <th>count</th>\n",
       "    </tr>\n",
       "  </thead>\n",
       "  <tbody>\n",
       "    <tr>\n",
       "      <th>0</th>\n",
       "      <td>6</td>\n",
       "      <td>অধ্যায়-২প্রিয় পরীক্ষার্থী, আজ তথ্য ও যোগাযোগ প...</td>\n",
       "      <td>অধ্যায় প্রিয় পরীক্ষার্থী তথ্য যোগাযোগ প্রযুক্ত...</td>\n",
       "      <td>243</td>\n",
       "    </tr>\n",
       "    <tr>\n",
       "      <th>1</th>\n",
       "      <td>1</td>\n",
       "      <td>স্পিন, স্পিন, স্পিন। লর্ডসে ইয়াসির শাহ্‌র লেগ ...</td>\n",
       "      <td>স্পিন স্পিন স্পিন লর্ডসে ইয়াসির শাহ্ র লেগ স্প...</td>\n",
       "      <td>117</td>\n",
       "    </tr>\n",
       "    <tr>\n",
       "      <th>2</th>\n",
       "      <td>2</td>\n",
       "      <td>সিরিয়ার উত্তর-পশ্চিমাঞ্চলে গতকাল রোববার বিমান...</td>\n",
       "      <td>সিরিয়ার পশ্চিমাঞ্চলে গতকাল রোববার বিমান হামলা...</td>\n",
       "      <td>61</td>\n",
       "    </tr>\n",
       "    <tr>\n",
       "      <th>3</th>\n",
       "      <td>2</td>\n",
       "      <td>দক্ষিণ আফ্রিকার কেপটাউন বিশ্ববিদ্যালয়ের (ইউসিট...</td>\n",
       "      <td>দক্ষিণ আফ্রিকার কেপটাউন বিশ্ববিদ্যালয়ের ইউসিটি...</td>\n",
       "      <td>49</td>\n",
       "    </tr>\n",
       "    <tr>\n",
       "      <th>4</th>\n",
       "      <td>4</td>\n",
       "      <td>সহজে ডিজিটাল আর্থিক সেবা দিতে অ্যাপ ও ডিজিটাল ...</td>\n",
       "      <td>সহজে ডিজিটাল আর্থিক সেবা অ্যাপ ডিজিটাল কেওয়াইস...</td>\n",
       "      <td>165</td>\n",
       "    </tr>\n",
       "    <tr>\n",
       "      <th>...</th>\n",
       "      <td>...</td>\n",
       "      <td>...</td>\n",
       "      <td>...</td>\n",
       "      <td>...</td>\n",
       "    </tr>\n",
       "    <tr>\n",
       "      <th>98879</th>\n",
       "      <td>1</td>\n",
       "      <td>১৯৫৯ সালে ইউরোপিয়ান ক্লাব কাপে জাতীয় দল পাঠান...</td>\n",
       "      <td>সালে ইউরোপিয়ান ক্লাব কাপে জাতীয় পাঠানোর প্রস...</td>\n",
       "      <td>14</td>\n",
       "    </tr>\n",
       "    <tr>\n",
       "      <th>98880</th>\n",
       "      <td>5</td>\n",
       "      <td>গানের দল সহজিয়ার প্রথম অ্যালবাম ‘রঙমিস্ত্রী’র ...</td>\n",
       "      <td>গানের সহজিয়ার অ্যালবাম রঙমিস্ত্রী প্রকাশনা উত্...</td>\n",
       "      <td>151</td>\n",
       "    </tr>\n",
       "    <tr>\n",
       "      <th>98881</th>\n",
       "      <td>2</td>\n",
       "      <td>ফেসবুকের ৮১ হাজার ব্যবহারকারীর তথ্য চুরি করে স...</td>\n",
       "      <td>ফেসবুকের ব্যবহারকারীর তথ্য চুরি বিক্রির বিজ্ঞা...</td>\n",
       "      <td>147</td>\n",
       "    </tr>\n",
       "    <tr>\n",
       "      <th>98882</th>\n",
       "      <td>0</td>\n",
       "      <td>পেট্রোল পাম্পে তেল বা সিএনজির বিল বিকাশের মাধ...</td>\n",
       "      <td>পেট্রোল পাম্পে তেল সিএনজির বিল বিকাশের পরিশোধ ...</td>\n",
       "      <td>13</td>\n",
       "    </tr>\n",
       "    <tr>\n",
       "      <th>98883</th>\n",
       "      <td>0</td>\n",
       "      <td>বছর শেষে ঢাকা স্টক এক্সচেঞ্জের (ডিএসই) দুটি সূ...</td>\n",
       "      <td>শেষে ঢাকা স্টক এক্সচেঞ্জের ডিএসই পুনঃসমন্বয় দু...</td>\n",
       "      <td>224</td>\n",
       "    </tr>\n",
       "  </tbody>\n",
       "</table>\n",
       "<p>98575 rows × 4 columns</p>\n",
       "</div>"
      ],
      "text/plain": [
       "      category                                               text  \\\n",
       "0            6  অধ্যায়-২প্রিয় পরীক্ষার্থী, আজ তথ্য ও যোগাযোগ প...   \n",
       "1            1  স্পিন, স্পিন, স্পিন। লর্ডসে ইয়াসির শাহ্‌র লেগ ...   \n",
       "2            2  সিরিয়ার উত্তর-পশ্চিমাঞ্চলে গতকাল রোববার বিমান...   \n",
       "3            2  দক্ষিণ আফ্রিকার কেপটাউন বিশ্ববিদ্যালয়ের (ইউসিট...   \n",
       "4            4  সহজে ডিজিটাল আর্থিক সেবা দিতে অ্যাপ ও ডিজিটাল ...   \n",
       "...        ...                                                ...   \n",
       "98879        1  ১৯৫৯ সালে ইউরোপিয়ান ক্লাব কাপে জাতীয় দল পাঠান...   \n",
       "98880        5  গানের দল সহজিয়ার প্রথম অ্যালবাম ‘রঙমিস্ত্রী’র ...   \n",
       "98881        2  ফেসবুকের ৮১ হাজার ব্যবহারকারীর তথ্য চুরি করে স...   \n",
       "98882        0   পেট্রোল পাম্পে তেল বা সিএনজির বিল বিকাশের মাধ...   \n",
       "98883        0  বছর শেষে ঢাকা স্টক এক্সচেঞ্জের (ডিএসই) দুটি সূ...   \n",
       "\n",
       "                                               cleanText  count  \n",
       "0      অধ্যায় প্রিয় পরীক্ষার্থী তথ্য যোগাযোগ প্রযুক্ত...    243  \n",
       "1      স্পিন স্পিন স্পিন লর্ডসে ইয়াসির শাহ্ র লেগ স্প...    117  \n",
       "2      সিরিয়ার পশ্চিমাঞ্চলে গতকাল রোববার বিমান হামলা...     61  \n",
       "3      দক্ষিণ আফ্রিকার কেপটাউন বিশ্ববিদ্যালয়ের ইউসিটি...     49  \n",
       "4      সহজে ডিজিটাল আর্থিক সেবা অ্যাপ ডিজিটাল কেওয়াইস...    165  \n",
       "...                                                  ...    ...  \n",
       "98879  সালে ইউরোপিয়ান ক্লাব কাপে জাতীয় পাঠানোর প্রস...     14  \n",
       "98880  গানের সহজিয়ার অ্যালবাম রঙমিস্ত্রী প্রকাশনা উত্...    151  \n",
       "98881  ফেসবুকের ব্যবহারকারীর তথ্য চুরি বিক্রির বিজ্ঞা...    147  \n",
       "98882  পেট্রোল পাম্পে তেল সিএনজির বিল বিকাশের পরিশোধ ...     13  \n",
       "98883  শেষে ঢাকা স্টক এক্সচেঞ্জের ডিএসই পুনঃসমন্বয় দু...    224  \n",
       "\n",
       "[98575 rows x 4 columns]"
      ]
     },
     "metadata": {},
     "output_type": "display_data"
    }
   ],
   "source": [
    "df_train = df_train.sample(frac=1).reset_index(drop=True)\n",
    "display(df_train)\n",
    "display(df_test)"
   ]
  },
  {
   "cell_type": "code",
   "execution_count": 17,
   "id": "377d457f",
   "metadata": {
    "execution": {
     "iopub.execute_input": "2021-10-19T15:57:07.294553Z",
     "iopub.status.busy": "2021-10-19T15:57:07.293710Z",
     "iopub.status.idle": "2021-10-19T15:57:07.295907Z",
     "shell.execute_reply": "2021-10-19T15:57:07.295257Z",
     "shell.execute_reply.started": "2021-10-19T15:19:42.185666Z"
    },
    "papermill": {
     "duration": 0.071228,
     "end_time": "2021-10-19T15:57:07.296059",
     "exception": false,
     "start_time": "2021-10-19T15:57:07.224831",
     "status": "completed"
    },
    "tags": []
   },
   "outputs": [],
   "source": [
    "train_sentences=df_train['cleanText'].values\n",
    "train_labels=df_train['category'].values"
   ]
  },
  {
   "cell_type": "code",
   "execution_count": 18,
   "id": "b6bc30a6",
   "metadata": {
    "execution": {
     "iopub.execute_input": "2021-10-19T15:57:07.429526Z",
     "iopub.status.busy": "2021-10-19T15:57:07.428681Z",
     "iopub.status.idle": "2021-10-19T15:57:07.430849Z",
     "shell.execute_reply": "2021-10-19T15:57:07.430224Z",
     "shell.execute_reply.started": "2021-10-19T15:19:42.201453Z"
    },
    "papermill": {
     "duration": 0.071788,
     "end_time": "2021-10-19T15:57:07.431006",
     "exception": false,
     "start_time": "2021-10-19T15:57:07.359218",
     "status": "completed"
    },
    "tags": []
   },
   "outputs": [],
   "source": [
    "test_sentences=df_test['cleanText'].values\n",
    "test_labels=df_test['category'].values"
   ]
  },
  {
   "cell_type": "code",
   "execution_count": 19,
   "id": "f94bf556",
   "metadata": {
    "execution": {
     "iopub.execute_input": "2021-10-19T15:57:07.567235Z",
     "iopub.status.busy": "2021-10-19T15:57:07.566393Z",
     "iopub.status.idle": "2021-10-19T15:57:07.570105Z",
     "shell.execute_reply": "2021-10-19T15:57:07.567944Z",
     "shell.execute_reply.started": "2021-10-19T15:19:42.214881Z"
    },
    "papermill": {
     "duration": 0.075957,
     "end_time": "2021-10-19T15:57:07.570254",
     "exception": false,
     "start_time": "2021-10-19T15:57:07.494297",
     "status": "completed"
    },
    "tags": []
   },
   "outputs": [
    {
     "name": "stdout",
     "output_type": "stream",
     "text": [
      "Training Set Length: 98600\n",
      "Testing Set Length: 98575\n",
      "train_labels shape: (98600,)\n",
      "test_labels shape: (98575,)\n"
     ]
    }
   ],
   "source": [
    "print(\"Training Set Length: \"+str(len(df_train)))\n",
    "print(\"Testing Set Length: \"+str(len(df_test)))\n",
    "print(\"train_labels shape: \"+str(train_labels.shape))\n",
    "print(\"test_labels shape: \"+str(test_labels.shape))"
   ]
  },
  {
   "cell_type": "markdown",
   "id": "001f4d62",
   "metadata": {
    "papermill": {
     "duration": 0.064416,
     "end_time": "2021-10-19T15:57:07.698168",
     "exception": false,
     "start_time": "2021-10-19T15:57:07.633752",
     "status": "completed"
    },
    "tags": []
   },
   "source": [
    "# **Train/Test/Validation Set**\n",
    "**This dataset contains two csv files. One is Train set and another is Test set.IN EDA,we have seen that train and test set is equal sized and distribution of class is identical to both of the test and train set.\n",
    "I have used full train set for training and used 20% of the data from testset for validation set and 80% for testing\n",
    "The validation set and the Test set is partitioned into stratified fashion to keep the distribution of class intact.**"
   ]
  },
  {
   "cell_type": "code",
   "execution_count": 20,
   "id": "1cff63b8",
   "metadata": {
    "execution": {
     "iopub.execute_input": "2021-10-19T15:57:07.888904Z",
     "iopub.status.busy": "2021-10-19T15:57:07.808752Z",
     "iopub.status.idle": "2021-10-19T15:57:07.962630Z",
     "shell.execute_reply": "2021-10-19T15:57:07.962188Z",
     "shell.execute_reply.started": "2021-10-19T15:19:42.877323Z"
    },
    "papermill": {
     "duration": 0.203136,
     "end_time": "2021-10-19T15:57:07.962753",
     "exception": false,
     "start_time": "2021-10-19T15:57:07.759617",
     "status": "completed"
    },
    "tags": []
   },
   "outputs": [],
   "source": [
    "test_sentences, validation_sentences,test_labels, validation_labels = train_test_split(test_sentences, test_labels,stratify=test_labels,test_size=0.2)"
   ]
  },
  {
   "cell_type": "code",
   "execution_count": 21,
   "id": "2c244642",
   "metadata": {
    "execution": {
     "iopub.execute_input": "2021-10-19T15:57:08.513547Z",
     "iopub.status.busy": "2021-10-19T15:57:08.512881Z",
     "iopub.status.idle": "2021-10-19T15:57:08.532141Z",
     "shell.execute_reply": "2021-10-19T15:57:08.532608Z",
     "shell.execute_reply.started": "2021-10-19T15:19:43.123382Z"
    },
    "papermill": {
     "duration": 0.530604,
     "end_time": "2021-10-19T15:57:08.532767",
     "exception": false,
     "start_time": "2021-10-19T15:57:08.002163",
     "status": "completed"
    },
    "tags": []
   },
   "outputs": [
    {
     "name": "stdout",
     "output_type": "stream",
     "text": [
      "Training Set Length: 98600\n",
      "Testing Set Length: 98575\n",
      "training_sentences shape: (98600,)\n",
      "testing_sentences shape: (78860,)\n",
      "validation_sentences shape: (19715,)\n",
      "train_labels shape: (98600, 7)\n",
      "test_labels shape: (78860, 7)\n",
      "validation_labels shape: (19715, 7)\n"
     ]
    }
   ],
   "source": [
    "train_labels=keras.utils.to_categorical(train_labels)\n",
    "test_labels=keras.utils.to_categorical(test_labels)\n",
    "validation_labels=keras.utils.to_categorical(validation_labels)\n",
    "\n",
    "\n",
    "print(\"Training Set Length: \"+str(len(df_train)))\n",
    "print(\"Testing Set Length: \"+str(len(df_test)))\n",
    "print(\"training_sentences shape: \"+str(train_sentences.shape))\n",
    "print(\"testing_sentences shape: \"+str(test_sentences.shape))\n",
    "print(\"validation_sentences shape: \"+str(validation_sentences.shape))\n",
    "print(\"train_labels shape: \"+str(train_labels.shape))\n",
    "print(\"test_labels shape: \"+str(test_labels.shape))\n",
    "print(\"validation_labels shape: \"+str(validation_labels.shape))"
   ]
  },
  {
   "cell_type": "code",
   "execution_count": 22,
   "id": "dfcfc59c",
   "metadata": {
    "execution": {
     "iopub.execute_input": "2021-10-19T15:57:08.618855Z",
     "iopub.status.busy": "2021-10-19T15:57:08.618159Z",
     "iopub.status.idle": "2021-10-19T15:57:08.621241Z",
     "shell.execute_reply": "2021-10-19T15:57:08.621647Z",
     "shell.execute_reply.started": "2021-10-19T15:19:43.189554Z"
    },
    "papermill": {
     "duration": 0.048235,
     "end_time": "2021-10-19T15:57:08.621791",
     "exception": false,
     "start_time": "2021-10-19T15:57:08.573556",
     "status": "completed"
    },
    "tags": []
   },
   "outputs": [
    {
     "name": "stdout",
     "output_type": "stream",
     "text": [
      "বিসিএস কম্পিউটার সিটির বার্ষিক মেলা সিটিআইটি বৃহস্পতিবার গেম প্রতিযোগিতার চূড়ান্ত পর্ব ফাইনাল খেলা আগামীকাল শুক্রবার গিগাবাইট আয়োজিত প্রতিযোগিতায় নিড স্পিড ফিফা কাউন্টার স্ট্রাইক ডিউটি গেমে গেমার নেন মেলার চিত্রাঙ্কন প্রতিযোগিতার নিবন্ধনের মেলায় ধরনের প্রযুক্তিপণ্যের দর্শকদের আগ্রহ প্রসেসর প্রতিও ইন্টেলের পিডিসি গিগাহার্টজ কোর সেলেরন কোরআই থ্রিসহ প্রসেসর এএমডির সেমপ্রোন এপিইউ বুলডোজারও মেলায় মেলায় কম্পিউটার কেনার চাহিদাও ড্রিমল্যান্ড কম্পিউটার টাকায় দিচ্ছে পার্সোনাল কম্পিউটার রায়ানস কম্পিউটার টাকায় বিক্রি কম্পিউটার জেএএন অ্যাসোসিয়েটস ক্যানন প্রিন্টারে দিচ্ছে মূল্য ছাড় ক্যানন পিক্সমা এমজি ইঙ্কজেট মাল্টি ফাংশন প্রিন্টার টাকায় এলবিপি লেজার প্রিন্টার টাকায় প্রতিটি এসার নেটবুক নোটবুক ট্যাবলেট পিসির থাকছে র ্যাফল ড্র কুপন মেলা শেষে ড্রয়ের পুরস্কার সিঙ্গাপুর মালয়েশিয়া নেপাল ভ্রমণের টিকিট সন্ধ্যার মেলার আয়োজকদের উদ্যোগে অনুষ্ঠিত নাটক পাদুকা বর্জন হঠাৎ নাট্য সম্প্রদায় এটির মঞ্চায়ন রাহিতুল ইসলাম\n",
      "[0. 0. 1. 0. 0. 0. 0.]\n"
     ]
    }
   ],
   "source": [
    "print(train_sentences[1])\n",
    "print(train_labels[0])"
   ]
  },
  {
   "cell_type": "markdown",
   "id": "5c824edb",
   "metadata": {
    "papermill": {
     "duration": 0.039494,
     "end_time": "2021-10-19T15:57:08.700854",
     "exception": false,
     "start_time": "2021-10-19T15:57:08.661360",
     "status": "completed"
    },
    "tags": []
   },
   "source": [
    "# **Tokenization**"
   ]
  },
  {
   "cell_type": "code",
   "execution_count": 23,
   "id": "acc76970",
   "metadata": {
    "execution": {
     "iopub.execute_input": "2021-10-19T15:57:08.787364Z",
     "iopub.status.busy": "2021-10-19T15:57:08.786537Z",
     "iopub.status.idle": "2021-10-19T15:58:26.759087Z",
     "shell.execute_reply": "2021-10-19T15:58:26.758235Z",
     "shell.execute_reply.started": "2021-10-19T15:19:43.202503Z"
    },
    "papermill": {
     "duration": 78.018667,
     "end_time": "2021-10-19T15:58:26.759234",
     "exception": false,
     "start_time": "2021-10-19T15:57:08.740567",
     "status": "completed"
    },
    "tags": []
   },
   "outputs": [
    {
     "name": "stdout",
     "output_type": "stream",
     "text": [
      "(98600,)\n",
      "(98600, 7)\n",
      "463635\n",
      "Word index length:463635\n"
     ]
    }
   ],
   "source": [
    "vocab_size = 100000\n",
    "embedding_dim = 150\n",
    "max_length = 600\n",
    "trunc_type='post'\n",
    "oov_tok = \"<OOV>\"\n",
    "\n",
    "print(train_sentences.shape)\n",
    "print(train_labels.shape)\n",
    "\n",
    "\n",
    "tokenizer = Tokenizer(num_words = vocab_size, oov_token=oov_tok)\n",
    "tokenizer.fit_on_texts(train_sentences)\n",
    "word_index = tokenizer.word_index\n",
    "\n",
    "#464246 words in raw dataset\n",
    "#463651 words in raw dataset after stopwords removal\n",
    "#***** after stemming \n",
    "\n",
    "print(len(word_index))\n",
    "print(\"Word index length:\"+str(len(tokenizer.word_index)))\n",
    "sequences = tokenizer.texts_to_sequences(train_sentences)\n",
    "padded = pad_sequences(sequences,maxlen=max_length, truncating=trunc_type)\n",
    "\n",
    "\n",
    "test_sequences = tokenizer.texts_to_sequences(test_sentences)\n",
    "testing_padded = pad_sequences(test_sequences,maxlen=max_length)\n",
    "\n",
    "validation_sequences = tokenizer.texts_to_sequences(validation_sentences)\n",
    "validation_padded = pad_sequences(validation_sequences,maxlen=max_length)"
   ]
  },
  {
   "cell_type": "markdown",
   "id": "6ff24dc1",
   "metadata": {
    "papermill": {
     "duration": 0.04016,
     "end_time": "2021-10-19T15:58:26.840497",
     "exception": false,
     "start_time": "2021-10-19T15:58:26.800337",
     "status": "completed"
    },
    "tags": []
   },
   "source": [
    "# **After Tokenization Data visualization**"
   ]
  },
  {
   "cell_type": "code",
   "execution_count": 24,
   "id": "cc690ada",
   "metadata": {
    "execution": {
     "iopub.execute_input": "2021-10-19T15:58:26.926040Z",
     "iopub.status.busy": "2021-10-19T15:58:26.925264Z",
     "iopub.status.idle": "2021-10-19T15:58:26.931845Z",
     "shell.execute_reply": "2021-10-19T15:58:26.932425Z",
     "shell.execute_reply.started": "2021-10-19T15:21:17.624981Z"
    },
    "papermill": {
     "duration": 0.052562,
     "end_time": "2021-10-19T15:58:26.932593",
     "exception": false,
     "start_time": "2021-10-19T15:58:26.880031",
     "status": "completed"
    },
    "tags": []
   },
   "outputs": [
    {
     "name": "stdout",
     "output_type": "stream",
     "text": [
      "Sentence :--> \n",
      "\n",
      "সিলেট নগরের রিকাবীবাজার কবি নজরুল অডিটোরিয়ামে সোমবার নাট্যদল থিয়েটার বাংলা মঞ্চায়ন বিশ্বখ্যাত ফরাসি নাট্যকার মলিয়েরের ম্যারিজ ফোর্স নাটকটি সন্ধ্যা সাড়ে ছয়টায় মঞ্চনাটকটির উদ্বোধনী অনুষ্ঠিত নাটকের নবরূপায়ণ নির্দেশনা নাট্যকার মোস্তাক আহমেদ নির্দেশক নাটকটি সংগঠনের প্রযোজনা সিলেটের দর্শকেরা নাটকটি ভালোভাবে উচ্ছ্বসিত শিগগিরই নাটকটির দ্বিতীয় মঞ্চায়ন অনুষ্ঠিত\n",
      "\n",
      "Sentence Tokenized and Converted into Sequence :--> \n",
      "\n",
      "[990, 1089, 59211, 874, 1007, 14854, 132, 10700, 2318, 105, 8376, 6240, 2224, 6679, 1, 94009, 10701, 1961, 430, 175, 5066, 1, 1060, 81, 828, 1, 885, 6679, 15896, 89, 5387, 1961, 797, 1646, 2569, 2558, 1961, 1959, 4326, 1181, 3172, 73, 8376, 81]\n",
      "\n",
      "After Padding the Sequence with padding length 100 :--> \n",
      "\n",
      "[    0     0     0     0     0     0     0     0     0     0     0     0\n",
      "     0     0     0     0     0     0     0     0     0     0     0     0\n",
      "     0     0     0     0     0     0     0     0     0     0     0     0\n",
      "     0     0     0     0     0     0     0     0     0     0     0     0\n",
      "     0     0     0     0     0     0     0     0     0     0     0     0\n",
      "     0     0     0     0     0     0     0     0     0     0     0     0\n",
      "     0     0     0     0     0     0     0     0     0     0     0     0\n",
      "     0     0     0     0     0     0     0     0     0     0     0     0\n",
      "     0     0     0     0     0     0     0     0     0     0     0     0\n",
      "     0     0     0     0     0     0     0     0     0     0     0     0\n",
      "     0     0     0     0     0     0     0     0     0     0     0     0\n",
      "     0     0     0     0     0     0     0     0     0     0     0     0\n",
      "     0     0     0     0     0     0     0     0     0     0     0     0\n",
      "     0     0     0     0     0     0     0     0     0     0     0     0\n",
      "     0     0     0     0     0     0     0     0     0     0     0     0\n",
      "     0     0     0     0     0     0     0     0     0     0     0     0\n",
      "     0     0     0     0     0     0     0     0     0     0     0     0\n",
      "     0     0     0     0     0     0     0     0     0     0     0     0\n",
      "     0     0     0     0     0     0     0     0     0     0     0     0\n",
      "     0     0     0     0     0     0     0     0     0     0     0     0\n",
      "     0     0     0     0     0     0     0     0     0     0     0     0\n",
      "     0     0     0     0     0     0     0     0     0     0     0     0\n",
      "     0     0     0     0     0     0     0     0     0     0     0     0\n",
      "     0     0     0     0     0     0     0     0     0     0     0     0\n",
      "     0     0     0     0     0     0     0     0     0     0     0     0\n",
      "     0     0     0     0     0     0     0     0     0     0     0     0\n",
      "     0     0     0     0     0     0     0     0     0     0     0     0\n",
      "     0     0     0     0     0     0     0     0     0     0     0     0\n",
      "     0     0     0     0     0     0     0     0     0     0     0     0\n",
      "     0     0     0     0     0     0     0     0     0     0     0     0\n",
      "     0     0     0     0     0     0     0     0     0     0     0     0\n",
      "     0     0     0     0     0     0     0     0     0     0     0     0\n",
      "     0     0     0     0     0     0     0     0     0     0     0     0\n",
      "     0     0     0     0     0     0     0     0     0     0     0     0\n",
      "     0     0     0     0     0     0     0     0     0     0     0     0\n",
      "     0     0     0     0     0     0     0     0     0     0     0     0\n",
      "     0     0     0     0     0     0     0     0     0     0     0     0\n",
      "     0     0     0     0     0     0     0     0     0     0     0     0\n",
      "     0     0     0     0     0     0     0     0     0     0     0     0\n",
      "     0     0     0     0     0     0     0     0     0     0     0     0\n",
      "     0     0     0     0     0     0     0     0     0     0     0     0\n",
      "     0     0     0     0     0     0     0     0     0     0     0     0\n",
      "     0     0     0     0     0     0     0     0     0     0     0     0\n",
      "     0     0     0     0     0     0     0     0     0     0     0     0\n",
      "     0     0     0     0     0     0     0     0     0     0     0     0\n",
      "     0     0     0     0     0     0     0     0     0     0     0     0\n",
      "     0     0     0     0   990  1089 59211   874  1007 14854   132 10700\n",
      "  2318   105  8376  6240  2224  6679     1 94009 10701  1961   430   175\n",
      "  5066     1  1060    81   828     1   885  6679 15896    89  5387  1961\n",
      "   797  1646  2569  2558  1961  1959  4326  1181  3172    73  8376    81]\n"
     ]
    }
   ],
   "source": [
    "print(\"Sentence :--> \\n\")\n",
    "print(train_sentences[2]+\"\\n\")\n",
    "print(\"Sentence Tokenized and Converted into Sequence :--> \\n\")\n",
    "print(str(sequences[2])+\"\\n\")\n",
    "print(\"After Padding the Sequence with padding length 100 :--> \\n\")\n",
    "print(padded[2])"
   ]
  },
  {
   "cell_type": "code",
   "execution_count": 25,
   "id": "e1829e8e",
   "metadata": {
    "execution": {
     "iopub.execute_input": "2021-10-19T15:58:27.020278Z",
     "iopub.status.busy": "2021-10-19T15:58:27.019577Z",
     "iopub.status.idle": "2021-10-19T15:58:27.022439Z",
     "shell.execute_reply": "2021-10-19T15:58:27.023019Z",
     "shell.execute_reply.started": "2021-10-19T15:21:17.649508Z"
    },
    "papermill": {
     "duration": 0.048564,
     "end_time": "2021-10-19T15:58:27.023184",
     "exception": false,
     "start_time": "2021-10-19T15:58:26.974620",
     "status": "completed"
    },
    "tags": []
   },
   "outputs": [
    {
     "name": "stdout",
     "output_type": "stream",
     "text": [
      "Padded shape(training): (98600, 600)\n",
      "Padded shape(testing): (78860, 600)\n"
     ]
    }
   ],
   "source": [
    "print(\"Padded shape(training): \"+str(padded.shape))\n",
    "print(\"Padded shape(testing): \"+str(testing_padded.shape))"
   ]
  },
  {
   "cell_type": "markdown",
   "id": "8f248b15",
   "metadata": {
    "papermill": {
     "duration": 0.040586,
     "end_time": "2021-10-19T15:58:27.105314",
     "exception": false,
     "start_time": "2021-10-19T15:58:27.064728",
     "status": "completed"
    },
    "tags": []
   },
   "source": [
    "# **Model Creation**"
   ]
  },
  {
   "cell_type": "code",
   "execution_count": 26,
   "id": "de5e8ef4",
   "metadata": {
    "execution": {
     "iopub.execute_input": "2021-10-19T15:58:27.194512Z",
     "iopub.status.busy": "2021-10-19T15:58:27.194008Z",
     "iopub.status.idle": "2021-10-19T15:58:29.972853Z",
     "shell.execute_reply": "2021-10-19T15:58:29.973469Z",
     "shell.execute_reply.started": "2021-10-19T15:21:17.662747Z"
    },
    "papermill": {
     "duration": 2.827159,
     "end_time": "2021-10-19T15:58:29.973664",
     "exception": false,
     "start_time": "2021-10-19T15:58:27.146505",
     "status": "completed"
    },
    "tags": []
   },
   "outputs": [
    {
     "name": "stderr",
     "output_type": "stream",
     "text": [
      "2021-10-19 15:58:27.205879: I tensorflow/compiler/jit/xla_cpu_device.cc:41] Not creating XLA devices, tf_xla_enable_xla_devices not set\n",
      "2021-10-19 15:58:27.209607: I tensorflow/stream_executor/platform/default/dso_loader.cc:49] Successfully opened dynamic library libcuda.so.1\n",
      "2021-10-19 15:58:27.253977: I tensorflow/stream_executor/cuda/cuda_gpu_executor.cc:941] successful NUMA node read from SysFS had negative value (-1), but there must be at least one NUMA node, so returning NUMA node zero\n",
      "2021-10-19 15:58:27.254644: I tensorflow/core/common_runtime/gpu/gpu_device.cc:1720] Found device 0 with properties: \n",
      "pciBusID: 0000:00:04.0 name: Tesla P100-PCIE-16GB computeCapability: 6.0\n",
      "coreClock: 1.3285GHz coreCount: 56 deviceMemorySize: 15.90GiB deviceMemoryBandwidth: 681.88GiB/s\n",
      "2021-10-19 15:58:27.254717: I tensorflow/stream_executor/platform/default/dso_loader.cc:49] Successfully opened dynamic library libcudart.so.11.0\n",
      "2021-10-19 15:58:27.285957: I tensorflow/stream_executor/platform/default/dso_loader.cc:49] Successfully opened dynamic library libcublas.so.11\n",
      "2021-10-19 15:58:27.286052: I tensorflow/stream_executor/platform/default/dso_loader.cc:49] Successfully opened dynamic library libcublasLt.so.11\n",
      "2021-10-19 15:58:27.304534: I tensorflow/stream_executor/platform/default/dso_loader.cc:49] Successfully opened dynamic library libcufft.so.10\n",
      "2021-10-19 15:58:27.312881: I tensorflow/stream_executor/platform/default/dso_loader.cc:49] Successfully opened dynamic library libcurand.so.10\n",
      "2021-10-19 15:58:27.341492: I tensorflow/stream_executor/platform/default/dso_loader.cc:49] Successfully opened dynamic library libcusolver.so.10\n",
      "2021-10-19 15:58:27.348976: I tensorflow/stream_executor/platform/default/dso_loader.cc:49] Successfully opened dynamic library libcusparse.so.11\n",
      "2021-10-19 15:58:27.352834: I tensorflow/stream_executor/platform/default/dso_loader.cc:49] Successfully opened dynamic library libcudnn.so.8\n",
      "2021-10-19 15:58:27.353025: I tensorflow/stream_executor/cuda/cuda_gpu_executor.cc:941] successful NUMA node read from SysFS had negative value (-1), but there must be at least one NUMA node, so returning NUMA node zero\n",
      "2021-10-19 15:58:27.353962: I tensorflow/stream_executor/cuda/cuda_gpu_executor.cc:941] successful NUMA node read from SysFS had negative value (-1), but there must be at least one NUMA node, so returning NUMA node zero\n",
      "2021-10-19 15:58:27.355644: I tensorflow/core/common_runtime/gpu/gpu_device.cc:1862] Adding visible gpu devices: 0\n",
      "2021-10-19 15:58:27.356999: I tensorflow/core/platform/cpu_feature_guard.cc:142] This TensorFlow binary is optimized with oneAPI Deep Neural Network Library (oneDNN) to use the following CPU instructions in performance-critical operations:  AVX2 AVX512F FMA\n",
      "To enable them in other operations, rebuild TensorFlow with the appropriate compiler flags.\n",
      "2021-10-19 15:58:27.357224: I tensorflow/compiler/jit/xla_gpu_device.cc:99] Not creating XLA devices, tf_xla_enable_xla_devices not set\n",
      "2021-10-19 15:58:27.357402: I tensorflow/stream_executor/cuda/cuda_gpu_executor.cc:941] successful NUMA node read from SysFS had negative value (-1), but there must be at least one NUMA node, so returning NUMA node zero\n",
      "2021-10-19 15:58:27.358014: I tensorflow/core/common_runtime/gpu/gpu_device.cc:1720] Found device 0 with properties: \n",
      "pciBusID: 0000:00:04.0 name: Tesla P100-PCIE-16GB computeCapability: 6.0\n",
      "coreClock: 1.3285GHz coreCount: 56 deviceMemorySize: 15.90GiB deviceMemoryBandwidth: 681.88GiB/s\n",
      "2021-10-19 15:58:27.358070: I tensorflow/stream_executor/platform/default/dso_loader.cc:49] Successfully opened dynamic library libcudart.so.11.0\n",
      "2021-10-19 15:58:27.358103: I tensorflow/stream_executor/platform/default/dso_loader.cc:49] Successfully opened dynamic library libcublas.so.11\n",
      "2021-10-19 15:58:27.358127: I tensorflow/stream_executor/platform/default/dso_loader.cc:49] Successfully opened dynamic library libcublasLt.so.11\n",
      "2021-10-19 15:58:27.358151: I tensorflow/stream_executor/platform/default/dso_loader.cc:49] Successfully opened dynamic library libcufft.so.10\n",
      "2021-10-19 15:58:27.358174: I tensorflow/stream_executor/platform/default/dso_loader.cc:49] Successfully opened dynamic library libcurand.so.10\n",
      "2021-10-19 15:58:27.358197: I tensorflow/stream_executor/platform/default/dso_loader.cc:49] Successfully opened dynamic library libcusolver.so.10\n",
      "2021-10-19 15:58:27.358222: I tensorflow/stream_executor/platform/default/dso_loader.cc:49] Successfully opened dynamic library libcusparse.so.11\n",
      "2021-10-19 15:58:27.358246: I tensorflow/stream_executor/platform/default/dso_loader.cc:49] Successfully opened dynamic library libcudnn.so.8\n",
      "2021-10-19 15:58:27.358359: I tensorflow/stream_executor/cuda/cuda_gpu_executor.cc:941] successful NUMA node read from SysFS had negative value (-1), but there must be at least one NUMA node, so returning NUMA node zero\n",
      "2021-10-19 15:58:27.359047: I tensorflow/stream_executor/cuda/cuda_gpu_executor.cc:941] successful NUMA node read from SysFS had negative value (-1), but there must be at least one NUMA node, so returning NUMA node zero\n",
      "2021-10-19 15:58:27.359587: I tensorflow/core/common_runtime/gpu/gpu_device.cc:1862] Adding visible gpu devices: 0\n",
      "2021-10-19 15:58:27.360878: I tensorflow/stream_executor/platform/default/dso_loader.cc:49] Successfully opened dynamic library libcudart.so.11.0\n",
      "2021-10-19 15:58:28.824691: I tensorflow/core/common_runtime/gpu/gpu_device.cc:1261] Device interconnect StreamExecutor with strength 1 edge matrix:\n",
      "2021-10-19 15:58:28.824746: I tensorflow/core/common_runtime/gpu/gpu_device.cc:1267]      0 \n",
      "2021-10-19 15:58:28.824759: I tensorflow/core/common_runtime/gpu/gpu_device.cc:1280] 0:   N \n",
      "2021-10-19 15:58:28.826916: I tensorflow/stream_executor/cuda/cuda_gpu_executor.cc:941] successful NUMA node read from SysFS had negative value (-1), but there must be at least one NUMA node, so returning NUMA node zero\n",
      "2021-10-19 15:58:28.827715: I tensorflow/stream_executor/cuda/cuda_gpu_executor.cc:941] successful NUMA node read from SysFS had negative value (-1), but there must be at least one NUMA node, so returning NUMA node zero\n",
      "2021-10-19 15:58:28.828454: I tensorflow/stream_executor/cuda/cuda_gpu_executor.cc:941] successful NUMA node read from SysFS had negative value (-1), but there must be at least one NUMA node, so returning NUMA node zero\n",
      "2021-10-19 15:58:28.829054: I tensorflow/core/common_runtime/gpu/gpu_device.cc:1406] Created TensorFlow device (/job:localhost/replica:0/task:0/device:GPU:0 with 14957 MB memory) -> physical GPU (device: 0, name: Tesla P100-PCIE-16GB, pci bus id: 0000:00:04.0, compute capability: 6.0)\n"
     ]
    },
    {
     "name": "stdout",
     "output_type": "stream",
     "text": [
      "Model: \"sequential\"\n",
      "_________________________________________________________________\n",
      "Layer (type)                 Output Shape              Param #   \n",
      "=================================================================\n",
      "embedding (Embedding)        (None, 600, 150)          15000000  \n",
      "_________________________________________________________________\n",
      "dense (Dense)                (None, 600, 50)           7550      \n",
      "_________________________________________________________________\n",
      "dense_1 (Dense)              (None, 600, 25)           1275      \n",
      "_________________________________________________________________\n",
      "dense_2 (Dense)              (None, 600, 20)           520       \n",
      "_________________________________________________________________\n",
      "flatten (Flatten)            (None, 12000)             0         \n",
      "_________________________________________________________________\n",
      "dense_3 (Dense)              (None, 7)                 84007     \n",
      "=================================================================\n",
      "Total params: 15,093,352\n",
      "Trainable params: 15,093,352\n",
      "Non-trainable params: 0\n",
      "_________________________________________________________________\n"
     ]
    }
   ],
   "source": [
    "model= Sequential()\n",
    "model.add(Embedding(vocab_size, embedding_dim, input_length=max_length))\n",
    "model.add(Dense(50, activation='relu'))\n",
    "model.add(Dense(25, activation='relu'))\n",
    "#l2 regularizer\n",
    "model.add(Dense(20,kernel_regularizer=regularizers.l2(0.01),activation=\"relu\"))\n",
    "model.add(Flatten())\n",
    "model.add(Dense(7, activation='softmax'))\n",
    "#sgd= SGD(lr=0.0001,decay=1e-6,momentum=0.9,nesterov=True)\n",
    "adam=Adam(learning_rate=0.00005,beta_1=0.9,beta_2=0.999,epsilon=1e-07,amsgrad=False)\n",
    "model.summary()\n",
    "model.compile(loss='categorical_crossentropy',optimizer=adam,metrics=['accuracy'])"
   ]
  },
  {
   "cell_type": "code",
   "execution_count": 27,
   "id": "3bcf48dc",
   "metadata": {
    "execution": {
     "iopub.execute_input": "2021-10-19T15:58:30.062031Z",
     "iopub.status.busy": "2021-10-19T15:58:30.061391Z",
     "iopub.status.idle": "2021-10-19T16:16:13.646509Z",
     "shell.execute_reply": "2021-10-19T16:16:13.647400Z",
     "shell.execute_reply.started": "2021-10-19T15:21:20.424666Z"
    },
    "papermill": {
     "duration": 1063.631189,
     "end_time": "2021-10-19T16:16:13.647580",
     "exception": false,
     "start_time": "2021-10-19T15:58:30.016391",
     "status": "completed"
    },
    "tags": []
   },
   "outputs": [
    {
     "name": "stderr",
     "output_type": "stream",
     "text": [
      "2021-10-19 15:58:30.286438: I tensorflow/compiler/mlir/mlir_graph_optimization_pass.cc:116] None of the MLIR optimization passes are enabled (registered 2)\n",
      "2021-10-19 15:58:30.298600: I tensorflow/core/platform/profile_utils/cpu_utils.cc:112] CPU Frequency: 2000140000 Hz\n"
     ]
    },
    {
     "name": "stdout",
     "output_type": "stream",
     "text": [
      "Epoch 1/10\n"
     ]
    },
    {
     "name": "stderr",
     "output_type": "stream",
     "text": [
      "2021-10-19 15:58:31.032575: I tensorflow/stream_executor/platform/default/dso_loader.cc:49] Successfully opened dynamic library libcublas.so.11\n",
      "2021-10-19 15:58:31.855960: I tensorflow/stream_executor/platform/default/dso_loader.cc:49] Successfully opened dynamic library libcublasLt.so.11\n"
     ]
    },
    {
     "name": "stdout",
     "output_type": "stream",
     "text": [
      "386/386 [==============================] - 108s 275ms/step - loss: 2.1337 - accuracy: 0.1767 - val_loss: 1.9219 - val_accuracy: 0.3853\n",
      "Epoch 2/10\n",
      "386/386 [==============================] - 105s 273ms/step - loss: 1.6087 - accuracy: 0.5834 - val_loss: 0.8922 - val_accuracy: 0.8102\n",
      "Epoch 3/10\n",
      "386/386 [==============================] - 106s 273ms/step - loss: 0.7798 - accuracy: 0.8458 - val_loss: 0.6005 - val_accuracy: 0.8907\n",
      "Epoch 4/10\n",
      "386/386 [==============================] - 105s 273ms/step - loss: 0.5328 - accuracy: 0.9088 - val_loss: 0.4948 - val_accuracy: 0.9077\n",
      "Epoch 5/10\n",
      "386/386 [==============================] - 106s 274ms/step - loss: 0.4275 - accuracy: 0.9305 - val_loss: 0.4441 - val_accuracy: 0.9173\n",
      "Epoch 6/10\n",
      "386/386 [==============================] - 107s 277ms/step - loss: 0.3683 - accuracy: 0.9442 - val_loss: 0.4151 - val_accuracy: 0.9220\n",
      "Epoch 7/10\n",
      "386/386 [==============================] - 107s 276ms/step - loss: 0.3263 - accuracy: 0.9533 - val_loss: 0.3958 - val_accuracy: 0.9245\n",
      "Epoch 8/10\n",
      "386/386 [==============================] - 107s 276ms/step - loss: 0.2944 - accuracy: 0.9606 - val_loss: 0.3799 - val_accuracy: 0.9265\n",
      "Epoch 9/10\n",
      "386/386 [==============================] - 106s 275ms/step - loss: 0.2675 - accuracy: 0.9669 - val_loss: 0.3644 - val_accuracy: 0.9296\n",
      "Epoch 10/10\n",
      "386/386 [==============================] - 107s 277ms/step - loss: 0.2440 - accuracy: 0.9717 - val_loss: 0.3554 - val_accuracy: 0.9296\n"
     ]
    }
   ],
   "source": [
    "history=model.fit(padded,train_labels,epochs=10,batch_size=256,validation_data=( validation_padded,validation_labels),use_multiprocessing=True, workers=8)"
   ]
  },
  {
   "cell_type": "markdown",
   "id": "9d323bc7",
   "metadata": {
    "papermill": {
     "duration": 1.030315,
     "end_time": "2021-10-19T16:16:15.704991",
     "exception": false,
     "start_time": "2021-10-19T16:16:14.674676",
     "status": "completed"
    },
    "tags": []
   },
   "source": [
    "# **Learning Curve**"
   ]
  },
  {
   "cell_type": "code",
   "execution_count": 28,
   "id": "0f0afd51",
   "metadata": {
    "execution": {
     "iopub.execute_input": "2021-10-19T16:16:17.762965Z",
     "iopub.status.busy": "2021-10-19T16:16:17.762092Z",
     "iopub.status.idle": "2021-10-19T16:16:18.226603Z",
     "shell.execute_reply": "2021-10-19T16:16:18.227308Z",
     "shell.execute_reply.started": "2021-10-19T15:38:26.767054Z"
    },
    "papermill": {
     "duration": 1.500424,
     "end_time": "2021-10-19T16:16:18.227470",
     "exception": false,
     "start_time": "2021-10-19T16:16:16.727046",
     "status": "completed"
    },
    "tags": []
   },
   "outputs": [
    {
     "name": "stdout",
     "output_type": "stream",
     "text": [
      "dict_keys(['loss', 'accuracy', 'val_loss', 'val_accuracy'])\n"
     ]
    },
    {
     "data": {
      "image/png": "[encoded data removed]",
      "text/plain": [
       "<Figure size 432x288 with 1 Axes>"
      ]
     },
     "metadata": {
      "needs_background": "light"
     },
     "output_type": "display_data"
    },
    {
     "data": {
      "image/png": "[encoded data removed]",
      "text/plain": [
       "<Figure size 432x288 with 1 Axes>"
      ]
     },
     "metadata": {
      "needs_background": "light"
     },
     "output_type": "display_data"
    }
   ],
   "source": [
    "print(history.history.keys())\n",
    "loss = history.history['loss']\n",
    "val_loss = history.history['val_loss']\n",
    "plt.plot(loss)\n",
    "plt.plot(val_loss)\n",
    "plt.title('model loss')\n",
    "plt.ylabel('loss')\n",
    "plt.xlabel('epoch')\n",
    "plt.legend(['loss', 'val_loss'])\n",
    "plt.show()\n",
    "\n",
    "accuracy = history.history['accuracy']\n",
    "val_accuracy= history.history['val_accuracy']\n",
    "plt.plot(accuracy)\n",
    "plt.plot(val_accuracy)\n",
    "plt.title('model accuracy')\n",
    "plt.ylabel('accuracy')\n",
    "plt.xlabel('epoch')\n",
    "plt.legend(['accuracy', 'val_accuracy'])\n",
    "plt.show()\n"
   ]
  },
  {
   "cell_type": "markdown",
   "id": "cf5c008f",
   "metadata": {
    "papermill": {
     "duration": 1.06426,
     "end_time": "2021-10-19T16:16:20.320319",
     "exception": false,
     "start_time": "2021-10-19T16:16:19.256059",
     "status": "completed"
    },
    "tags": []
   },
   "source": [
    "# **Evaluation**"
   ]
  },
  {
   "cell_type": "code",
   "execution_count": 29,
   "id": "292afac0",
   "metadata": {
    "execution": {
     "iopub.execute_input": "2021-10-19T16:16:22.636427Z",
     "iopub.status.busy": "2021-10-19T16:16:22.635470Z",
     "iopub.status.idle": "2021-10-19T16:16:39.972811Z",
     "shell.execute_reply": "2021-10-19T16:16:39.973868Z",
     "shell.execute_reply.started": "2021-10-19T15:38:27.375646Z"
    },
    "papermill": {
     "duration": 18.385085,
     "end_time": "2021-10-19T16:16:39.974096",
     "exception": false,
     "start_time": "2021-10-19T16:16:21.589011",
     "status": "completed"
    },
    "tags": []
   },
   "outputs": [
    {
     "name": "stdout",
     "output_type": "stream",
     "text": [
      "386/386 [==============================] - 9s 24ms/step - loss: 0.2249 - accuracy: 0.9772\n",
      "The train accuracy is: 0.977180540561676\n",
      "309/309 [==============================] - 8s 24ms/step - loss: 0.3616 - accuracy: 0.9298\n",
      "The test accuracy is: 0.9297996163368225\n"
     ]
    }
   ],
   "source": [
    "#accuracy calculation\n",
    "loss_and_metrics = model.evaluate(padded,train_labels,batch_size=256)\n",
    "print(\"The train accuracy is: \"+str(loss_and_metrics[1]))\n",
    "loss_and_metrics = model.evaluate(testing_padded,test_labels,batch_size=256)\n",
    "print(\"The test accuracy is: \"+str(loss_and_metrics[1]))"
   ]
  },
  {
   "cell_type": "code",
   "execution_count": 30,
   "id": "fb7ee149",
   "metadata": {
    "execution": {
     "iopub.execute_input": "2021-10-19T16:16:42.172818Z",
     "iopub.status.busy": "2021-10-19T16:16:42.171900Z",
     "iopub.status.idle": "2021-10-19T16:16:53.144877Z",
     "shell.execute_reply": "2021-10-19T16:16:53.144095Z",
     "shell.execute_reply.started": "2021-10-19T15:38:52.261879Z"
    },
    "papermill": {
     "duration": 12.073365,
     "end_time": "2021-10-19T16:16:53.145067",
     "exception": false,
     "start_time": "2021-10-19T16:16:41.071702",
     "status": "completed"
    },
    "tags": []
   },
   "outputs": [],
   "source": [
    "predictions = model.predict(testing_padded)"
   ]
  },
  {
   "cell_type": "code",
   "execution_count": 31,
   "id": "5aff01c8",
   "metadata": {
    "execution": {
     "iopub.execute_input": "2021-10-19T16:16:55.769635Z",
     "iopub.status.busy": "2021-10-19T16:16:55.768782Z",
     "iopub.status.idle": "2021-10-19T16:16:55.772783Z",
     "shell.execute_reply": "2021-10-19T16:16:55.773198Z",
     "shell.execute_reply.started": "2021-10-19T15:39:05.515219Z"
    },
    "papermill": {
     "duration": 1.350268,
     "end_time": "2021-10-19T16:16:55.773345",
     "exception": false,
     "start_time": "2021-10-19T16:16:54.423077",
     "status": "completed"
    },
    "tags": []
   },
   "outputs": [],
   "source": [
    "predictions = np.argmax(predictions, axis=-1) "
   ]
  },
  {
   "cell_type": "code",
   "execution_count": 32,
   "id": "60dd8e8a",
   "metadata": {
    "execution": {
     "iopub.execute_input": "2021-10-19T16:16:58.017264Z",
     "iopub.status.busy": "2021-10-19T16:16:58.016326Z",
     "iopub.status.idle": "2021-10-19T16:16:58.020171Z",
     "shell.execute_reply": "2021-10-19T16:16:58.020569Z",
     "shell.execute_reply.started": "2021-10-19T15:39:05.526233Z"
    },
    "papermill": {
     "duration": 1.144988,
     "end_time": "2021-10-19T16:16:58.020714",
     "exception": false,
     "start_time": "2021-10-19T16:16:56.875726",
     "status": "completed"
    },
    "tags": []
   },
   "outputs": [],
   "source": [
    "test_labels=np.argmax(test_labels, axis=-1)"
   ]
  },
  {
   "cell_type": "code",
   "execution_count": 33,
   "id": "dc82ec93",
   "metadata": {
    "execution": {
     "iopub.execute_input": "2021-10-19T16:17:00.236966Z",
     "iopub.status.busy": "2021-10-19T16:17:00.236117Z",
     "iopub.status.idle": "2021-10-19T16:17:00.267723Z",
     "shell.execute_reply": "2021-10-19T16:17:00.268372Z",
     "shell.execute_reply.started": "2021-10-19T15:39:05.538982Z"
    },
    "papermill": {
     "duration": 1.143419,
     "end_time": "2021-10-19T16:17:00.268536",
     "exception": false,
     "start_time": "2021-10-19T16:16:59.125117",
     "status": "completed"
    },
    "tags": []
   },
   "outputs": [
    {
     "name": "stdout",
     "output_type": "stream",
     "text": [
      "Precision :0.9300842455648933\n",
      "Recall :0.9297996449404007\n",
      "fscore :0.9298866212424677\n"
     ]
    }
   ],
   "source": [
    "precision, recall, fscore, _ = precision_recall_fscore_support(test_labels,predictions, average='weighted')\n",
    "print(\"Precision :\"+str(precision))\n",
    "print(\"Recall :\"+str(recall))\n",
    "print(\"fscore :\"+str(fscore))"
   ]
  },
  {
   "cell_type": "markdown",
   "id": "9a2dc6df",
   "metadata": {
    "papermill": {
     "duration": 1.110767,
     "end_time": "2021-10-19T16:17:02.489299",
     "exception": false,
     "start_time": "2021-10-19T16:17:01.378532",
     "status": "completed"
    },
    "tags": []
   },
   "source": [
    "# **Confusion Matrix & Classification Report**"
   ]
  },
  {
   "cell_type": "code",
   "execution_count": 34,
   "id": "043895e4",
   "metadata": {
    "execution": {
     "iopub.execute_input": "2021-10-19T16:17:04.711791Z",
     "iopub.status.busy": "2021-10-19T16:17:04.710844Z",
     "iopub.status.idle": "2021-10-19T16:17:05.757072Z",
     "shell.execute_reply": "2021-10-19T16:17:05.756614Z",
     "shell.execute_reply.started": "2021-10-19T15:48:51.699036Z"
    },
    "papermill": {
     "duration": 2.161845,
     "end_time": "2021-10-19T16:17:05.757205",
     "exception": false,
     "start_time": "2021-10-19T16:17:03.595360",
     "status": "completed"
    },
    "tags": []
   },
   "outputs": [
    {
     "data": {
      "text/html": [
       "<div>\n",
       "<style scoped>\n",
       "    .dataframe tbody tr th:only-of-type {\n",
       "        vertical-align: middle;\n",
       "    }\n",
       "\n",
       "    .dataframe tbody tr th {\n",
       "        vertical-align: top;\n",
       "    }\n",
       "\n",
       "    .dataframe thead th {\n",
       "        text-align: right;\n",
       "    }\n",
       "</style>\n",
       "<table border=\"1\" class=\"dataframe\">\n",
       "  <thead>\n",
       "    <tr style=\"text-align: right;\">\n",
       "      <th></th>\n",
       "      <th>precision</th>\n",
       "      <th>recall</th>\n",
       "      <th>f1-score</th>\n",
       "      <th>support</th>\n",
       "    </tr>\n",
       "  </thead>\n",
       "  <tbody>\n",
       "    <tr>\n",
       "      <th>economy</th>\n",
       "      <td>90.93</td>\n",
       "      <td>90.81</td>\n",
       "      <td>90.87</td>\n",
       "      <td>11583.0000</td>\n",
       "    </tr>\n",
       "    <tr>\n",
       "      <th>sports</th>\n",
       "      <td>99.04</td>\n",
       "      <td>97.46</td>\n",
       "      <td>98.24</td>\n",
       "      <td>12692.0000</td>\n",
       "    </tr>\n",
       "    <tr>\n",
       "      <th>international</th>\n",
       "      <td>93.36</td>\n",
       "      <td>93.74</td>\n",
       "      <td>93.55</td>\n",
       "      <td>12251.0000</td>\n",
       "    </tr>\n",
       "    <tr>\n",
       "      <th>state</th>\n",
       "      <td>89.52</td>\n",
       "      <td>88.43</td>\n",
       "      <td>88.97</td>\n",
       "      <td>12146.0000</td>\n",
       "    </tr>\n",
       "    <tr>\n",
       "      <th>technology</th>\n",
       "      <td>87.41</td>\n",
       "      <td>90.82</td>\n",
       "      <td>89.08</td>\n",
       "      <td>7948.0000</td>\n",
       "    </tr>\n",
       "    <tr>\n",
       "      <th>entertainment</th>\n",
       "      <td>94.95</td>\n",
       "      <td>95.83</td>\n",
       "      <td>95.39</td>\n",
       "      <td>12194.0000</td>\n",
       "    </tr>\n",
       "    <tr>\n",
       "      <th>education</th>\n",
       "      <td>93.65</td>\n",
       "      <td>92.64</td>\n",
       "      <td>93.14</td>\n",
       "      <td>10046.0000</td>\n",
       "    </tr>\n",
       "    <tr>\n",
       "      <th>accuracy</th>\n",
       "      <td>92.98</td>\n",
       "      <td>92.98</td>\n",
       "      <td>92.98</td>\n",
       "      <td>0.9298</td>\n",
       "    </tr>\n",
       "    <tr>\n",
       "      <th>macro avg</th>\n",
       "      <td>92.69</td>\n",
       "      <td>92.82</td>\n",
       "      <td>92.75</td>\n",
       "      <td>78860.0000</td>\n",
       "    </tr>\n",
       "    <tr>\n",
       "      <th>weighted avg</th>\n",
       "      <td>93.01</td>\n",
       "      <td>92.98</td>\n",
       "      <td>92.99</td>\n",
       "      <td>78860.0000</td>\n",
       "    </tr>\n",
       "  </tbody>\n",
       "</table>\n",
       "</div>"
      ],
      "text/plain": [
       "               precision  recall  f1-score     support\n",
       "economy            90.93   90.81     90.87  11583.0000\n",
       "sports             99.04   97.46     98.24  12692.0000\n",
       "international      93.36   93.74     93.55  12251.0000\n",
       "state              89.52   88.43     88.97  12146.0000\n",
       "technology         87.41   90.82     89.08   7948.0000\n",
       "entertainment      94.95   95.83     95.39  12194.0000\n",
       "education          93.65   92.64     93.14  10046.0000\n",
       "accuracy           92.98   92.98     92.98      0.9298\n",
       "macro avg          92.69   92.82     92.75  78860.0000\n",
       "weighted avg       93.01   92.98     92.99  78860.0000"
      ]
     },
     "metadata": {},
     "output_type": "display_data"
    },
    {
     "data": {
      "image/png": "[encoded data removed]",
      "text/plain": [
       "<Figure size 648x648 with 2 Axes>"
      ]
     },
     "metadata": {
      "needs_background": "light"
     },
     "output_type": "display_data"
    }
   ],
   "source": [
    "#['economy' 'sports' 'international' 'state' 'technology' 'entertainment' 'education']\n",
    "\n",
    "cm = metrics.confusion_matrix(test_labels,predictions)\n",
    "# Transform to df for easier plotting\n",
    "cm_df = pd.DataFrame(cm,index = ['economy' ,'sports' ,'international', 'state','technology', 'entertainment', 'education'], \n",
    "                     columns = ['economy' ,'sports' ,'international', 'state','technology', 'entertainment', 'education'])\n",
    "\n",
    "plt.figure(figsize=(9,9))\n",
    "sns.heatmap(cm_df, annot=True, fmt=\".3f\", linewidths=.5, square = True, cmap = 'Blues_r');\n",
    "plt.ylabel('Actual label');\n",
    "plt.xlabel('Predicted label');\n",
    "all_sample_title = 'Accuracy Score ANN: {0}'.format(loss_and_metrics[1])\n",
    "plt.title(all_sample_title, size = 15);\n",
    "\n",
    "report = pd.DataFrame(classification_report(y_true = test_labels, y_pred = predictions, output_dict=True)).transpose()\n",
    "report = report.rename(index={'0': 'economy','1':'sports','2':'international','3':'state','4':'technology','5':'entertainment','6':'education'})\n",
    "report[['precision','recall','f1-score']]=report[['precision','recall','f1-score']].apply(lambda x: round(x*100,2))\n",
    "display(report)"
   ]
  },
  {
   "cell_type": "code",
   "execution_count": null,
   "id": "71d6be7e",
   "metadata": {
    "papermill": {
     "duration": 1.130234,
     "end_time": "2021-10-19T16:17:07.996667",
     "exception": false,
     "start_time": "2021-10-19T16:17:06.866433",
     "status": "completed"
    },
    "tags": []
   },
   "outputs": [],
   "source": []
  }
 ],
 "metadata": {
  "kernelspec": {
   "display_name": "Python 3",
   "language": "python",
   "name": "python3"
  },
  "language_info": {
   "codemirror_mode": {
    "name": "ipython",
    "version": 3
   },
   "file_extension": ".py",
   "mimetype": "text/x-python",
   "name": "python",
   "nbconvert_exporter": "python",
   "pygments_lexer": "ipython3",
   "version": "3.7.10"
  },
  "papermill": {
   "default_parameters": {},
   "duration": 1644.817103,
   "end_time": "2021-10-19T16:17:12.259127",
   "environment_variables": {},
   "exception": null,
   "input_path": "__notebook__.ipynb",
   "output_path": "__notebook__.ipynb",
   "parameters": {},
   "start_time": "2021-10-19T15:49:47.442024",
   "version": "2.3.3"
  }
 },
 "nbformat": 4,
 "nbformat_minor": 5
}
